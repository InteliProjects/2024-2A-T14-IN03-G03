{
 "cells": [
  {
   "cell_type": "markdown",
   "metadata": {},
   "source": [
    "# **Análise Exploratória de Dados do Dataset de Jogadores da Série A do Brasil (2024)**\n",
    "## **Introdução**\n",
    "Este notebook explora um conjunto de dados da Série A do Campeonato Brasileiro de Futebol. O objetivo é realizar uma análise exploratória de dados (EDA) para identificar padrões e tendências que possam ser úteis para previsões futuras e análises de desempenho."
   ]
  },
  {
   "cell_type": "markdown",
   "metadata": {},
   "source": [
    "## **1. Importação de Bibliotecas**\n",
    "Nesta seção, importamos as bibliotecas necessárias para manipulação de dados e visualização:\n",
    "- `pandas` para manipulação de dados.\n",
    "- `matplotlib.pyplot` e `seaborn` para visualização de dados."
   ]
  },
  {
   "cell_type": "code",
   "execution_count": 8,
   "metadata": {},
   "outputs": [],
   "source": [
    "import pandas as pd\n",
    "import matplotlib.pyplot as plt\n",
    "import seaborn as sns"
   ]
  },
  {
   "cell_type": "markdown",
   "metadata": {},
   "source": [
    "   - **`import pandas as pd`:** Importa a biblioteca Pandas e a renomeia como \"pd\". O Pandas é usado para manipulação e análise de dados em formato tabular (dataframes).\n",
    "   - **`import matplotlib.pyplot as plt`:** Importa a subbiblioteca `pyplot` do Matplotlib, que é utilizada para criar visualizações gráficas.\n",
    "   - **`import seaborn as sns`:** Importa a biblioteca Seaborn e a renomeia como \"sns\". Seaborn é uma biblioteca de visualização de dados em Python baseada em Matplotlib."
   ]
  },
  {
   "cell_type": "markdown",
   "metadata": {},
   "source": [
    "## **2. Carregamento e Visão Geral do Dataset**\n",
    "Carregamos o dataset em um DataFrame do pandas e mostramos uma amostra inicial e informações básicas do dataset."
   ]
  },
  {
   "cell_type": "code",
   "execution_count": null,
   "metadata": {},
   "outputs": [],
   "source": [
    "df = pd.read_csv('brazil-serie-a-matches-2024-to-2024-stats_edit (1).csv', delimiter=';')\n",
    "df.info()"
   ]
  },
  {
   "cell_type": "markdown",
   "metadata": {},
   "source": [
    "   - Nesse trecho, está sendo utilizado o Pandas para carregar um conjunto de dados a partir de um arquivo CSV chamado 'brazil-serie-a-matches-2024-to-2024-stats_edit (1).csv'.\n",
    "   - `pd.read_csv` é uma função do Pandas que lê um arquivo CSV e o transforma em um objeto DataFrame, que é uma estrutura de dados tabular usada para armazenar e manipular dados.\n",
    "   - O nome \"df\" é escolhido como o nome da variável para armazenar o DataFrame que contém os dados carregados do arquivo CSV.\n",
    "\n",
    "**'brazil-serie-a-matches-2024-to-2024-stats_edit (1).csv', delimiter=';':**\n",
    "   - É o nome do arquivo CSV que contém informações partidas de futebol do campeonato brasileiro. O arquivo possui 380 linhas e 57 colunas, com dados estatísticos sobre partidas que já aconteceram e espaços em branco para armazenar dados de partidas que ainda irão acontecer.\n",
    "\n",
    "Após a execução desse trecho, o conjunto de dados sobre as partidas é carregado no DataFrame chamado \"df\", permitindo a análise e manipulação das informações contidas no arquivo CSV.\n",
    "\n",
    "\n",
    "*Contexto do Dataset*:\n",
    "- *Período Coberto*: Temporada de 2024.\n",
    "- *Origem*: Dados oficiais das partidas do Campeonato Brasileiro.\n",
    "- *Colunas Relevantes*:\n",
    "  - home_team_goal_count: Número de gols marcados pelo time da casa.\n",
    "  - away_team_goal_count: Número de gols marcados pelo time visitante.\n",
    "  - home_team_possession, away_team_possession: Porcentagem de posse de bola dos times.\n",
    "\n"
   ]
  },
  {
   "cell_type": "markdown",
   "metadata": {},
   "source": [
    "## **3. Remoção de entradas com Valores Faltantes**\n",
    "Nesta seção, o código está removendo todas as entradas (linhas) do DataFrame `df` que possuem valores faltantes (NaN - Not a Number) em qualquer uma das colunas."
   ]
  },
  {
   "cell_type": "code",
   "execution_count": null,
   "metadata": {},
   "outputs": [],
   "source": [
    "df = df.dropna()\n",
    "df"
   ]
  },
  {
   "cell_type": "markdown",
   "metadata": {},
   "source": [
    "   - A função `dropna()` é um método do Pandas que remove as linhas que contêm valores nulos de um DataFrame.\n",
    "   - Após a execução dessa linha, o DataFrame `df` é atualizado para conter apenas as linhas que não possuem valores faltantes em nenhuma das colunas.\n",
    "\n",
    "Esse procedimento é comumente usado para lidar com valores ausentes em um conjunto de dados. A remoção de entradas com valores faltantes pode ser uma abordagem apropriada em algumas situações, mas também pode resultar na perda de informações importantes, dependendo da quantidade de dados removidos. Antes de aplicar essa operação, é essencial entender a natureza dos valores ausentes e avaliar se a remoção é a melhor estratégia para o problema em questão."
   ]
  },
  {
   "cell_type": "markdown",
   "metadata": {},
   "source": [
    "## **4. Estatísticas Descritivas e Tipos de Colunas**\n",
    "Nesta seção, mostramos estatísticas descritivas para colunas numéricas e identificamos o tipo de cada coluna."
   ]
  },
  {
   "cell_type": "code",
   "execution_count": null,
   "metadata": {},
   "outputs": [],
   "source": [
    "# Estatísticas descritivas para colunas numéricas\n",
    "numeric_desc = df.describe()\n",
    "\n",
    "# Identificação do tipo de cada coluna (numérica ou categórica)\n",
    "column_types = df.dtypes.apply(lambda x: 'numérica' if pd.api.types.is_numeric_dtype(x) else 'categórica')\n",
    "\n",
    "# Exibindo os resultados\n",
    "print(\"Estatísticas Descritivas:\")\n",
    "print(numeric_desc)\n",
    "print(\"\\nTipos de Colunas:\")\n",
    "print(column_types)"
   ]
  },
  {
   "cell_type": "markdown",
   "metadata": {},
   "source": [
    "- **``df.describe()``**: Retorna um resumo estatístico básico para colunas numéricas no DataFrame.\n",
    "- **``df.dtypes.apply(...)``**: Aplica uma função a cada tipo de dado das colunas do DataFrame, identificando se são numéricas ou categóricas.\n",
    "- **``pd.api.types.is_numeric_dtype(x)``**: Verifica se o tipo de dado é numérico.\n",
    "- **``print(...)``**: Exibe as estatísticas descritivas e os tipos de coluna no console.\n",
    "\n",
    "**Estatísticas Descritivas:**\n",
    "As estatísticas descritivas fornecem uma visão geral das características principais dos dados, como a média e o desvio padrão. Observamos, por exemplo, que a média de gols marcados pelos times da casa é levemente superior à dos times visitantes, sugerindo um possível \"fator casa\".\n",
    "\n",
    "As colunas numéricas do dataset, como \n",
    "    `home_team_goal_count, away_team_goal_count, total_goal_count`, \n",
    "entre outras, têm suas estatísticas descritivas calculadas, incluindo média, mediana, desvio padrão, etc.\n",
    "\n",
    "Identificação dos Tipos de Coluna\n",
    "    \n",
    "As colunas foram identificadas como numéricas ou categóricas:\n",
    "\n",
    "Numéricas: Exemplo de colunas como \n",
    "    `home_team_goal_count`, `away_team_goal_count`, etc.\n",
    "    \n",
    "Categóricas: Exemplo de colunas como \n",
    "    `home_team_name`, `away_team_name`, `stadium_name`, etc."
   ]
  },
  {
   "cell_type": "markdown",
   "metadata": {},
   "source": [
    "## **5. Visualizações e Análise de Dados**\n",
    "### **5.1. Gráfico de Dispersão entre Chutes no Alvo e Gols**\n",
    "O primeiro gráfico destaca a distribuição de gols marcados pelos times da casa e fora. Utilizando a biblioteca seaborn, foi possível criar um histograma com linhas de densidade (KDE), que facilita a visualização da frequência dos gols marcados por ambos os times. Este gráfico é essencial para entender a vantagem histórica dos times da casa em marcar mais gols, comparado aos visitantes.\n",
    "\n",
    "Insight Principal: O gráfico sugere uma distribuição equilibrada dos gols marcados por times da casa e fora, indicando que, neste conjunto de dados específico, o fator casa não parece influenciar significativamente o número de gols marcados."
   ]
  },
  {
   "cell_type": "code",
   "execution_count": null,
   "metadata": {},
   "outputs": [],
   "source": [
    "sns.set(style=\"whitegrid\")\n",
    "\n",
    "plt.figure(figsize=(10, 6))\n",
    "sns.histplot(df[['home_team_goal_count', 'away_team_goal_count']], kde=True, bins=15)\n",
    "plt.title('Distribuição de Gols Marcados pelos Times da Casa e Fora')\n",
    "plt.xlabel('Número de Gols')\n",
    "plt.ylabel('Frequência')\n",
    "plt.legend(['Gols Casa', 'Gols Fora'])\n",
    "plt.show()"
   ]
  },
  {
   "cell_type": "markdown",
   "metadata": {},
   "source": [
    "### **Gráfico 5.2: Relação entre PPG Pré-Jogo e Gols Marcados**\n",
    "\n",
    "O segundo gráfico explora a relação entre o \"Points Per Game\" (PPG) antes do jogo e o número de gols marcados pelos times da casa e visitantes. Utilizando um gráfico de dispersão, foi possível visualizar como a performance pré-jogo (PPG) se relaciona com a eficácia ofensiva das equipes. Este gráfico é fundamental para entender se o desempenho histórico das equipes pode ser um bom preditor para os resultados futuros.\n",
    "\n",
    "Insight Principal: Existe uma correlação perceptível entre o PPG Pré-Jogo e os gols marcados, sugerindo que equipes com melhor desempenho histórico tendem a manter essa performance durante as partidas."
   ]
  },
  {
   "cell_type": "code",
   "execution_count": null,
   "metadata": {},
   "outputs": [],
   "source": [
    "plt.figure(figsize=(10, 6))\n",
    "sns.scatterplot(data=df, x='Pre-Match PPG (Home)', y='home_team_goal_count', label='Casa', color='blue')\n",
    "sns.scatterplot(data=df, x='Pre-Match PPG (Away)', y='away_team_goal_count', label='Fora', color='orange')\n",
    "plt.title('Relação entre PPG Pré-Jogo e Gols Marcados')\n",
    "plt.xlabel('PPG Pré-Jogo')\n",
    "plt.ylabel('Número de Gols')\n",
    "plt.legend()\n",
    "plt.show()"
   ]
  },
  {
   "cell_type": "markdown",
   "metadata": {},
   "source": [
    "### **Gráfico 5.3: orrelação entre Variáveis Numéricas (Mapa de Calor)**\n",
    "O gráfico a ser gerado é um mapa de calor, que visualiza a correlação entre diferentes variáveis numéricas no dataset. O objetivo principal desse gráfico é destacar a força e a direção das relações entre as diversas métricas analisadas, como a correlação entre o número de gols marcados pelos times da casa e dos visitantes, e as estatísticas de chutes realizados por cada equipe.\n",
    "\n",
    "Insight Principal: O mapa de calor revela de forma clara as correlações entre variáveis como os gols e os chutes realizados pelos times. Relações fortes e positivas, indicadas por cores mais quentes no mapa, podem sugerir que o aumento de chutes resulta em mais gols, tanto para os times da casa quanto para os visitantes. Esse tipo de análise é essencial para entender como diferentes métricas influenciam o desempenho das equipes e pode guiar o desenvolvimento de estratégias mais eficazes e modelos preditivos mais precisos."
   ]
  },
  {
   "cell_type": "code",
   "execution_count": null,
   "metadata": {},
   "outputs": [],
   "source": [
    "\n",
    "numeric_df = df[['home_team_goal_count', 'away_team_goal_count', \n",
    "                 'home_team_shots', 'away_team_shots', \n",
    "                 'home_team_possession', 'away_team_possession']]\n",
    "\n",
    "\n",
    "sns.pairplot(numeric_df)\n",
    "plt.suptitle('Relações Entre Variáveis Numéricas', y=1.02)\n",
    "plt.show()\n"
   ]
  },
  {
   "cell_type": "markdown",
   "metadata": {},
   "source": [
    "- **``numeric_df =``**: Seleciona um subconjunto de colunas do dataset original, focando em variáveis numéricas que são relevantes para a análise das correlações, como contagem de gols e chutes realizados pelos times.\n",
    "- **``sns.heatmap()``** é utilizado para criar o mapa de calor baseado na matriz de correlação das variáveis selecionadas.\n",
    "- **``annot=True``**` adiciona os valores das correlações diretamente nas células do gráfico.\n",
    "- **``cmap='coolwarm'``** define o esquema de cores, onde cores quentes indicam correlações positivas fortes e cores frias indicam correlações negativas fortes.\n",
    "- **``fmt='.2f'``** formata os valores das correlações para duas casas decimais.\n",
    "- **``plt.title()``** define o título do gráfico.\n",
    "- **``plt.show()``** exibe o gráfico."
   ]
  },
  {
   "cell_type": "markdown",
   "metadata": {},
   "source": [
    "### **Gráfico 5.4: Relação entre Posse de Bola e Gols Marcados**\n",
    "\n",
    "Esse gráfico de dispersão foi desenvolvido para explorar a relação entre a posse de bola e o número de gols marcados por times da casa e visitantes. Ele permite visualizar como a porcentagem de posse de bola influencia a capacidade de uma equipe em converter essa vantagem em gols.\n",
    "\n",
    "Insight Principal: A análise desse gráfico pode revelar se uma maior posse de bola está fortemente correlacionada com um maior número de gols marcados, tanto para os times da casa quanto para os visitantes. Se houver uma tendência clara, os times com maior posse de bola podem ser considerados mais propensos a marcar gols, o que é um dado valioso para ajustar estratégias de jogo e para desenvolver modelos preditivos que considerem a posse de bola como uma variável importante."
   ]
  },
  {
   "cell_type": "code",
   "execution_count": null,
   "metadata": {},
   "outputs": [],
   "source": [
    "plt.figure(figsize=(10, 6))\n",
    "sns.scatterplot(data=df, x='home_team_possession', y='home_team_goal_count', label='Casa', color='blue')\n",
    "sns.scatterplot(data=df, x='away_team_possession', y='away_team_goal_count', label='Fora', color='orange')\n",
    "plt.title('Relação entre Posse de bola e Gols Marcados')\n",
    "plt.xlabel('Posse de Bola (%)')\n",
    "plt.ylabel('Número de Gols')\n",
    "plt.legend()\n",
    "plt.show()"
   ]
  },
  {
   "cell_type": "markdown",
   "metadata": {},
   "source": [
    "- **``plt.figure(figsize=(10, 6))``**: Define o tamanho da figura, garantindo espaço suficiente para uma visualização clara dos dados.\n",
    "- **``sns.scatterplot(data=df, x='home_team_possession', y='home_team_goal_count', label='Casa', color='blue')``** : Plota a relação entre a posse de bola e o número de gols marcados pelos times da casa, utilizando cor azul para diferenciá-los.\n",
    "- **``sns.scatterplot(data=df, x='away_team_possession', y='away_team_goal_count', label='Fora', color='orange')``** : Plota a mesma relação para os times visitantes, utilizando cor laranja para diferenciá-los.\n",
    "- **``plt.title('Relação entre Posse de bola e Gols Marcados')``**: Adiciona título ao gráfico.\n",
    "- **``plt.xlabel('Posse de Bola (%)')``** e **``plt.ylabel('Número de Gols')``** : Define os rótulos para os eixos X e Y\n",
    "- **``plt.legend()``** : Inclui uma legenda para identificar as equipes de casa e fora\n",
    "- **``plt.show()``**: Exibe o gráfico gerado."
   ]
  },
  {
   "cell_type": "markdown",
   "metadata": {},
   "source": [
    "### **Gráfico 5.5: Relação entre Gols Marcados e Número de Finalizações**\n",
    "Esse gráfico de dispersão analisa a relação entre o número de finalizações e a quantidade de gols marcados, tanto para times da casa quanto para os visitantes. O gráfico é fundamental para avaliar a eficiência das equipes em converter suas oportunidades em gols.\n",
    "\n",
    "Insight Principal: O gráfico pode fornecer insights sobre a eficiência ofensiva das equipes, mostrando se um maior número de finalizações está diretamente relacionado a um maior número de gols. Esse dado pode ser utilizado para identificar equipes que, apesar de finalizarem muito, não conseguem converter essas chances em gols, sugerindo áreas de melhoria."
   ]
  },
  {
   "cell_type": "code",
   "execution_count": null,
   "metadata": {},
   "outputs": [],
   "source": [
    "plt.figure(figsize=(10, 6))\n",
    "sns.scatterplot(data=df, x='home_team_shots', y='home_team_goal_count', label='Casa', color='blue')\n",
    "sns.scatterplot(data=df, x='away_team_shots', y='away_team_goal_count', label='Fora', color='orange')\n",
    "plt.title('Relação entre Finalizações e Gols Marcados')\n",
    "plt.xlabel('Número de Finalizações')\n",
    "plt.ylabel('Número de Gols')\n",
    "plt.legend()\n",
    "plt.show()"
   ]
  },
  {
   "cell_type": "markdown",
   "metadata": {},
   "source": [
    "- **``plt.figure(figsize=(10, 6))``**: Define o tamanho da figura, garantindo espaço suficiente para uma visualização clara dos dados.\n",
    "- **``sns.scatterplot(data=df, x='home_team_shots', y='home_team_goal_count', label='Casa', color='blue')``** : Plota a relação entre o número de finalizações e o número de gols para os times da casa, utilizando a cor azul para representá-los.\n",
    "- **``sns.scatterplot(data=df, x='away_team_shots', y='away_team_goal_count', label='Fora', color='orange')``** : Plota a mesma relação para os times visitantes, usando cor laranja para diferenciá-los.\n",
    "- **``plt.title('Relação entre Relação entre Finalizações e Gols Marcados')``**: Adiciona título ao gráfico.\n",
    "- **``plt.xlabel('Número de Finalizações')``** e **``plt.ylabel('Número de Gols')``** : Define os rótulos para os eixos X e Y\n",
    "- **``plt.legend()``** : Inclui uma legenda para identificar as equipes de casa e fora\n",
    "- **``plt.show()``**: Exibe o gráfico gerado."
   ]
  }
 ],
 "metadata": {
  "kernelspec": {
   "display_name": "Python 3",
   "language": "python",
   "name": "python3"
  },
  "language_info": {
   "codemirror_mode": {
    "name": "ipython",
    "version": 3
   },
   "file_extension": ".py",
   "mimetype": "text/x-python",
   "name": "python",
   "nbconvert_exporter": "python",
   "pygments_lexer": "ipython3",
   "version": "3.12.4"
  }
 },
 "nbformat": 4,
 "nbformat_minor": 2
}
