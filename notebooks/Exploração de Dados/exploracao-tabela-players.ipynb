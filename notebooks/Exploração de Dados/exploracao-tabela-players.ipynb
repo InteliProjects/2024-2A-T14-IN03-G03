{
 "cells": [
  {
   "cell_type": "markdown",
   "id": "6b03b0b9",
   "metadata": {},
   "source": [
    "# **Análise Exploratória de Dados do Dataset de Jogadores da Série A do Brasil (2024)**\n",
    "## **Introdução**\n",
    "Este notebook realiza uma análise exploratória de dados (EDA) focada nas estatísticas dos jogadores da Série A do Campeonato Brasileiro de Futebol de 2024. O objetivo é identificar padrões de desempenho que possam ser utilizados para scouting de jogadores e análises táticas."
   ]
  },
  {
   "cell_type": "markdown",
   "id": "4e54a578",
   "metadata": {},
   "source": [
    "## **1. Importação de Bibliotecas**\n",
    "Nesta seção, importamos as bibliotecas necessárias para manipulação de dados e visualização:\n",
    "- `pandas` para manipulação de dados.\n",
    "- `matplotlib.pyplot` e `seaborn` para visualização de dados."
   ]
  },
  {
   "cell_type": "code",
   "execution_count": null,
   "id": "d87e56b6",
   "metadata": {},
   "outputs": [],
   "source": [
    "import pandas as pd\n",
    "import matplotlib.pyplot as plt\n",
    "import seaborn as sns"
   ]
  },
  {
   "cell_type": "markdown",
   "id": "872f2894",
   "metadata": {},
   "source": [
    " - **`import pandas as pd`:** Importa a biblioteca Pandas e a renomeia como \"pd\". O Pandas é usado para manipulação e análise de dados em formato tabular (dataframes).\n",
    "  - **`import matplotlib.pyplot as plt`:** Importa a subbiblioteca `pyplot` do Matplotlib, que é utilizada para criar visualizações gráficas.\n",
    "  - **`import seaborn as sns`:** Importa a biblioteca Seaborn e a renomeia como \"sns\". Seaborn é uma biblioteca de visualização de dados em Python baseada em Matplotlib."
   ]
  },
  {
   "cell_type": "markdown",
   "id": "463494b9",
   "metadata": {},
   "source": [
    "## **2. Carregamento e Visão Geral do Dataset**\n",
    "Carregamos o dataset em um DataFrame do pandas e mostramos uma amostra inicial e informações básicas do dataset."
   ]
  },
  {
   "cell_type": "code",
   "execution_count": null,
   "id": "eeeb13e9",
   "metadata": {},
   "outputs": [],
   "source": [
    "df = pd.read_csv('brazil-serie-a-players-2024-to-2024-stats.csv', )\n",
    "df.head(), df.info(), df.describe(include='all')"
   ]
  },
  {
   "cell_type": "markdown",
   "id": "2ea474ec",
   "metadata": {},
   "source": [
    "- **``pd.read_csv(...)``**: Lê um arquivo CSV e o converte em um DataFrame do pandas. Neste caso, o arquivo contém estatísticas dos jogadores da Série A do Brasil de 2024.\n",
    "- **``df.head()``**: Mostra as primeiras 5 linhas do DataFrame, ajudando a visualizar rapidamente os dados.\n",
    "- **``df.info()``**: Fornece um resumo conciso do DataFrame, incluindo o número de entradas, nome das colunas, contagem de valores não nulos, e tipos de dados.\n",
    "- **``df.describe(include='all')``**: Fornece estatísticas descritivas que resumem a tendência central, dispersão e forma da distribuição de um conjunto de dados. O parâmetro include='all' inclui todas as colunas, numéricas e não numéricas.\n",
    "\n",
    "\n",
    "Após a execução desse trecho, o conjunto de dados sobre as partidas é carregado no DataFrame chamado \"df\", permitindo a análise e manipulação das informações contidas no arquivo CSV."
   ]
  },
  {
   "cell_type": "markdown",
   "id": "3266998e",
   "metadata": {},
   "source": [
    "## **3. Estatísticas Descritivas e Tipos de Colunas**\n",
    "Nesta seção, mostramos estatísticas descritivas para colunas numéricas e identificamos o tipo de cada coluna."
   ]
  },
  {
   "cell_type": "code",
   "execution_count": null,
   "id": "aed3f438",
   "metadata": {},
   "outputs": [],
   "source": [
    "# Estatísticas descritivas para colunas numéricas\n",
    "numeric_desc = df.describe()\n",
    "\n",
    "# Identificação do tipo de cada coluna (numérica ou categórica)\n",
    "column_types = df.dtypes.apply(lambda x: 'numérica' if pd.api.types.is_numeric_dtype(x) else 'categórica')\n",
    "\n",
    "# Exibindo os resultados\n",
    "print('Estatísticas Descritivas:')\n",
    "print(numeric_desc)\n",
    "print('\\nTipos de Colunas:')\n",
    "print(column_types)"
   ]
  },
  {
   "cell_type": "markdown",
   "id": "df1a6b97",
   "metadata": {},
   "source": [
    "- **``df.describe()``**: Retorna um resumo estatístico básico para colunas numéricas no DataFrame.\n",
    "- **``df.dtypes.apply(...)``**: Aplica uma função a cada tipo de dado das colunas do DataFrame, identificando se são numéricas ou categóricas.\n",
    "- **``pd.api.types.is_numeric_dtype(x)``**: Verifica se o tipo de dado é numérico.\n",
    "- **``print(...)``**: Exibe as estatísticas descritivas e os tipos de coluna no console.\n"
   ]
  },
  {
   "cell_type": "markdown",
   "id": "9fac7d12",
   "metadata": {},
   "source": [
    "## **4. Visualização dos Nomes das Colunas**\n",
    "Visualizamos os nomes das colunas para entender melhor os dados disponíveis."
   ]
  },
  {
   "cell_type": "code",
   "execution_count": null,
   "id": "a9463f6f",
   "metadata": {},
   "outputs": [],
   "source": [
    "df.columns"
   ]
  },
  {
   "cell_type": "markdown",
   "id": "08180ce4",
   "metadata": {},
   "source": [
    "## **5. Visualizações e Análise de Dados**\n",
    "### **5.1. Gráfico de Dispersão entre Chutes no Alvo e Gols**\n",
    "Exploramos a relação entre chutes no alvo por 90 minutos e gols por 90 minutos usando um gráfico de dispersão.\n",
    "Essa é uma visualização que explora a relação entre a precisão de finalização dos jogadores e sua eficiência em termos de gols marcados. Ele mapeia os valores de \"Chutes no Alvo por 90 minutos\" no eixo X contra \"Gols por 90 minutos\" no eixo Y. Cada ponto no gráfico representa um jogador, permitindo uma análise visual de como a habilidade de acertar o gol está correlacionada com a capacidade de converter essas chances em gols.\n",
    "\n",
    "Insight Principal: Jogadores com uma maior frequência de chutes no alvo por 90 minutos tendem a ter uma taxa mais elevada de gols marcados. Isso sugere que a precisão nas finalizações é um fator crítico para o sucesso ofensivo. Desenvolvedores podem utilizar esse insight para ajustar modelos preditivos, destacando a importância de variáveis relacionadas à precisão de chutes ao prever o desempenho ofensivo de um jogador ou time."
   ]
  },
  {
   "cell_type": "code",
   "execution_count": null,
   "id": "65f5093b",
   "metadata": {},
   "outputs": [],
   "source": [
    "plt.figure(figsize=(10, 6))\n",
    "sns.scatterplot(data=df, x='shots_on_target_per_90_overall', y='goals_per_90_overall', color='blue')\n",
    "plt.title('Gols por 90 vs. Chutes no Alvo por 90')\n",
    "plt.xlabel('Chutes no Alvo por 90')\n",
    "plt.ylabel('Gols por 90')\n",
    "plt.show()"
   ]
  },
  {
   "cell_type": "markdown",
   "id": "fc1b3b95",
   "metadata": {},
   "source": [
    "- **``plt.figure(figsize=(10, 6))``**: Configura o tamanho da figura para o gráfico.\n",
    "- **``sns.scatterplot(...)``**: Cria um gráfico de dispersão (scatter plot) usando Seaborn, mostrando a relação entre chutes no alvo por 90 minutos e gols por 90 minutos.\n",
    "- **``plt.title(...)``**: Define o título do gráfico.\n",
    "- **``plt.xlabel(...)``** e **``plt.ylabel(...)``**: Define os rótulos dos eixos X e Y, respectivamente.\n",
    "- **``plt.legend()``**: Adiciona uma legenda ao gráfico.\n",
    "- **``plt.show()``**: Exibe o gráfico.\n"
   ]
  },
  {
   "cell_type": "markdown",
   "id": "0d879aca",
   "metadata": {},
   "source": [
    "### **5.2. Gráfico de Dispersão entre Expected Goals e Gols**\n",
    "Exploramos a relação entre Expected Goals (xG) por 90 minutos e gols por 90 minutos.\n",
    "O conceito de xG é amplamente utilizado em análises de desempenho ofensivo para avaliar a qualidade das chances de gol criadas por um jogador. No eixo X, temos os valores de xG por 90 minutos, enquanto no eixo Y, estão os valores de gols reais por 90 minutos.\n",
    "\n",
    "Insight Principal: A capacidade de avaliar a eficácia de um jogador em converter oportunidades em gols. Se um jogador marca mais gols do que seu xG sugere, ele pode ser visto como um finalizador excepcional. Inversamente, se um jogador está abaixo do seu xG, isso pode indicar uma necessidade de melhoria nas finalizações. Desenvolvedores podem usar essa análise para refinar modelos preditivos de desempenho, incluindo variáveis de xG como indicadores de qualidade de finalização."
   ]
  },
  {
   "cell_type": "code",
   "execution_count": null,
   "id": "874ee7e5",
   "metadata": {},
   "outputs": [],
   "source": [
    "sns.scatterplot(data=df, x='xg_per_90_overall', y='goals_per_90_overall')\n",
    "plt.title('Expected Goals (xG) por 90 vs. Gols por 90')\n",
    "plt.xlabel('xG por 90')\n",
    "plt.ylabel('Gols por 90')\n",
    "plt.show()"
   ]
  },
  {
   "cell_type": "markdown",
   "id": "fc26312d",
   "metadata": {},
   "source": [
    "- **``sns.scatterplot``**: Cria um gráfico de dispersão utilizando os dados do DataFrame df. O eixo x representa a métrica \"xG por 90\" (expected goals por 90 minutos), enquanto o eixo y representa \"Gols por 90\". Esse gráfico permite analisar a relação entre as chances de gol esperadas e a quantidade real de gols marcados por 90 minutos.\n",
    "- **``plt.title``**: Define o título do gráfico como \"Expected Goals (xG) por 90 vs. Gols por 90\", indicando o conteúdo do gráfico.\n",
    "- **``plt.xlabel e plt.ylabel``**: Rotulam os eixos x e y, respectivamente, com \"xG por 90\" e \"Gols por 90\", para facilitar a compreensão dos dados.\n",
    "- **``plt.show``**: Exibe o gráfico gerado."
   ]
  },
  {
   "cell_type": "markdown",
   "id": "38d09091",
   "metadata": {},
   "source": [
    "### **5.3. Gráfico de Barras para Estatísticas Defensivas**\n",
    "Visualizamos as médias de várias estatísticas defensivas usando um gráfico de barras.\n",
    "No gráfico abaixo é apresentada a média de diferentes métricas defensivas, como 'clean sheets' (jogos sem sofrer gol), tackles (desarmes) por 90 minutos, interceptações por 90 minutos, e bloqueios por 90 minutos. Esses dados são agregados para fornecer uma visão geral do desempenho defensivo médio de um grupo de jogadores.\n",
    "\n",
    "Este gráfico permite identificar quais aspectos defensivos têm maior ou menor contribuição em termos médios para o desempenho defensivo de um jogador ou equipe. Por exemplo, uma alta média em 'clean sheets' pode indicar uma defesa sólida, enquanto uma alta média em tackles ou interceptações sugere uma equipe proativa em recuperar a posse de bola. Esse insight é útil para desenvolvedores ao ponderar a importância relativa de diferentes métricas defensivas na construção de modelos que preveem o desempenho de equipes ou jogadores."
   ]
  },
  {
   "cell_type": "code",
   "execution_count": null,
   "id": "d2faef0d",
   "metadata": {},
   "outputs": [],
   "source": [
    "# Dados fictícios para exemplificação\n",
    "data = {\n",
    "    'Stat': ['clean_sheets_overall', 'tackles_per_90_overall', 'interceptions_per_90_overall', 'blocks_per_90_overall'],\n",
    "    'Value': df[['clean_sheets_overall', 'tackles_per_90_overall', 'interceptions_per_90_overall', 'blocks_per_90_overall']].mean()\n",
    "}\n",
    "df_defensive_stats = pd.DataFrame(data)\n",
    "\n",
    "# Definindo o estilo do seaborn\n",
    "sns.set(style='whitegrid')\n",
    "\n",
    "# Criando o gráfico de barras\n",
    "plt.figure(figsize=(10, 6))\n",
    "sns.barplot(data=df_defensive_stats, x='Stat', y='Value', palette='viridis')\n",
    "\n",
    "# Adicionando título e rótulos\n",
    "plt.title('Média das Estatísticas Defensivas')\n",
    "plt.xlabel('Estatísticas')\n",
    "plt.ylabel('Média')\n",
    "\n",
    "# Exibindo o gráfico\n",
    "plt.show()"
   ]
  },
  {
   "cell_type": "markdown",
   "id": "70771b58",
   "metadata": {},
   "source": [
    "- **``data e df_defensive_stats``**: Constrói um DataFrame df_defensive_stats com estatísticas defensivas e seus valores médios, calculados a partir do DataFrame df.\n",
    "- **``sns.set(style='whitegrid')``**: Define o estilo do gráfico como 'whitegrid', que é um estilo visualmente limpo, facilitando a leitura do gráfico.\n",
    "- **``plt.figure(figsize=(10, 6))``**: Define o tamanho da figura do gráfico, com 10 unidades de largura e 6 de altura.\n",
    "- **``sns.barplot``**: Cria um gráfico de barras com os dados do DataFrame df_defensive_stats. O eixo x exibe as diferentes estatísticas defensivas, e o eixo y mostra a média de cada uma delas. O parâmetro palette='viridis' define a paleta de cores utilizada.\n",
    "- **``plt.title``**: Define o título do gráfico como \"Média das Estatísticas Defensivas\".\n",
    "- **``plt.xlabel e plt.ylabel``**: Rotulam os eixos x e y, respectivamente, com \"Estatísticas\" e \"Média\".\n",
    "- **``plt.show``**: Exibe o gráfico gerado."
   ]
  },
  {
   "cell_type": "markdown",
   "id": "a364a412",
   "metadata": {},
   "source": [
    "### **5.4. Gráfico de Dispersão entre Minutos Jogados e Gols**\n",
    "Exploramos a relação entre os minutos jogados e o total de gols.\n",
    "O seguinte gráfico investiga a relação entre o tempo total de jogo e o número total de gols marcados por um jogador. No eixo X, estão os minutos jogados, enquanto no eixo Y, estão os gols totais marcados ao longo da temporada.\n",
    "\n",
    "Insight Principal: Este gráfico permite observar a eficiência de um jogador em marcar gols em relação ao tempo que passa em campo. Jogadores que têm mais gols com menos minutos jogados são mais eficientes, enquanto jogadores que jogam muito, mas marcam poucos gols, podem indicar um desempenho ofensivo abaixo do esperado. Este insight ajuda desenvolvedores a entender como o tempo de jogo influencia a produtividade ofensiva, algo crucial ao prever o impacto de um jogador durante uma partida."
   ]
  },
  {
   "cell_type": "code",
   "execution_count": null,
   "id": "66bc25af",
   "metadata": {},
   "outputs": [],
   "source": [
    "sns.scatterplot(data=df, x='minutes_played_overall', y='goals_overall')\n",
    "plt.title('Minutos Jogados vs. Gols Totais')\n",
    "plt.xlabel('Minutos Jogados')\n",
    "plt.ylabel('Gols Totais')\n",
    "plt.show()"
   ]
  },
  {
   "cell_type": "markdown",
   "id": "9e629649",
   "metadata": {},
   "source": [
    "- **``sns.scatterplot``**: Cria um gráfico de dispersão utilizando os dados do DataFrame df. O eixo x representa os \"Minutos Jogados\", enquanto o eixo y representa os \"Gols Totais\". Esse gráfico permite analisar como o tempo de jogo de um jogador está relacionado ao número total de gols marcados.\n",
    "- **``plt.title``**: Define o título do gráfico como \"Minutos Jogados vs. Gols Totais\".\n",
    "- **``plt.xlabel e plt.ylabel``**: Rotulam os eixos x e y, respectivamente, com \"Minutos Jogados\" e \"Gols Totais\".\n",
    "- **``plt.show``**: Exibe o gráfico gerado."
   ]
  },
  {
   "cell_type": "markdown",
   "id": "8fcd8c12",
   "metadata": {},
   "source": [
    "## **6. Conclusões**\n",
    "A análise exploratória dos dados forneceu insights importantes para o desenvolvimento de nossos modelos preditivos no projeto com a IBM. Observamos que a métrica de \"Expected Goals (xG)\" por 90 minutos correlaciona-se positivamente com o número de gols marcados, sugerindo que o xG pode ser uma variável significativa para modelar a probabilidade de gols futuros.\n",
    "\n",
    "Essas conclusões não só aprimoram a compreensão do desempenho atual das equipes, mas também fortalecem a capacidade de construir modelos que ofereçam previsões mais precisas. "
   ]
  }
 ],
 "metadata": {
  "kernelspec": {
   "display_name": "Python 3",
   "language": "python",
   "name": "python3"
  },
  "language_info": {
   "codemirror_mode": {
    "name": "ipython",
    "version": 3
   },
   "file_extension": ".py",
   "mimetype": "text/x-python",
   "name": "python",
   "nbconvert_exporter": "python",
   "pygments_lexer": "ipython3",
   "version": "3.12.4"
  }
 },
 "nbformat": 4,
 "nbformat_minor": 5
}
