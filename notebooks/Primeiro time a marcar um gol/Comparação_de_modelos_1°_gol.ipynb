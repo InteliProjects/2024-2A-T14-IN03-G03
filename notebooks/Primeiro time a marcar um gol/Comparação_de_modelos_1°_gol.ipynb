{
  "nbformat": 4,
  "nbformat_minor": 0,
  "metadata": {
    "colab": {
      "provenance": [],
      "collapsed_sections": [
        "A9upmo1fhfx0",
        "HnytplsuhjFA"
      ]
    },
    "kernelspec": {
      "name": "python3",
      "display_name": "Python 3"
    },
    "language_info": {
      "name": "python"
    }
  },
  "cells": [
    {
      "cell_type": "markdown",
      "source": [
        "# Comparação de modelos - 1° gol"
      ],
      "metadata": {
        "id": "Je4AYyq0hbr1"
      }
    },
    {
      "cell_type": "markdown",
      "source": [
        "## Sumário\n",
        "1. [Introdução](#c1)\n",
        "2. [Apresentação dos modelos](#c2)\n",
        "3. [Comparação de resultados e métricas](#c3)\n",
        "4. [Conclusões](#c4)"
      ],
      "metadata": {
        "id": "TLNlF2KOK06o"
      }
    },
    {
      "cell_type": "markdown",
      "source": [
        "## <a name=\"c1\"></a>1. Introdução"
      ],
      "metadata": {
        "id": "zWRcAfUTLo2I"
      }
    },
    {
      "cell_type": "markdown",
      "source": [
        "Ao longo do projeto desenvolvido em parceria com a IBM, foram constuídos diversos modelos de inteligência artificial que objetivam a correta predição de resultados em partidas de futebol. Dentre essas predições, encontra-se a determinação de qual time, dados dois adversários, será o primeiro a pontuar em um embate. Nesse contexto, adotou-se uma abordagem baseada na criação de modelos com funcionamentos distintos que buscassem responder a mesma pergunta, seguida da comparação entre esses diferentes modelos preditivos.\n",
        "\n",
        "Tal prática tem se mostrado essencial para alcançar previsões mais precisas e eficientes, permitindo avaliar a performance de diferentes algoritmos, impacto do uso de determinadas variáveis do conjunto de dados nos resultados, e, por conseguinte, qual técnica se adequa melhor ao projeto em questão.\n",
        "\n",
        "Neste trabalho, realizaremos uma análise comparativa entre dois modelos de IA, aplicados à predição do primeiro gol em partidas de futebol. Através dessa comparação, será possível explorar as diferenças em termos de precisão, eficiência, vantagens e desvantagens dos modelos.\n",
        "\n",
        "Os modelos aqui descritos são compostos da junção de duas ou mais técnicas e algoritmos para análise de dados, incluindo mas não se limitando a técnicas para agrupamento (clusterização), classificação e redução de dimensionalidade. Por fim, ambos os modelos analisados estão disponíveis neste repositório, podendo ser consultados individualmente.\n"
      ],
      "metadata": {
        "id": "G2h2ziGcM2Pj"
      }
    },
    {
      "cell_type": "markdown",
      "source": [
        "## <a name=\"c2\"></a> 2. Apresentação dos modelos"
      ],
      "metadata": {
        "id": "jVxk5P9zLQwv"
      }
    },
    {
      "cell_type": "markdown",
      "source": [
        "### 2.1. Modelo 1 - K-means e probabilidade empírica"
      ],
      "metadata": {
        "id": "A9upmo1fhfx0"
      }
    },
    {
      "cell_type": "markdown",
      "source": [
        "O K-Means é um algoritmo de aprendizado não supervisionado que agrupa dados em \"K\" clusters com base em suas características. Ele funciona atribuindo cada ponto de dado ao cluster mais próximo (com base na distância euclidiana), recalculando as médias dos clusters e repetindo até que as atribuições não mudem mais. [[1]](https://docs.aws.amazon.com/pt_br/sagemaker/latest/dg/algo-kmeans-tech-notes.html#:~:text=O%20k%2Dmeans%20%C3%A9%20um,n%C3%BAmero%20de%20atributos%20da%20observa%C3%A7%C3%A3o)\n",
        "\n",
        "Segue o passo a passo sobre o funcionamento do modelo e suas métricas."
      ],
      "metadata": {
        "id": "lp_nM-SlRRRV"
      }
    },
    {
      "cell_type": "code",
      "source": [
        "# Import das bibliotecas que serão utilizadas no modelo preditivo\n",
        "import pandas as pd\n",
        "import matplotlib.pyplot as plt\n",
        "import plotly.express as px\n",
        "import seaborn as sns\n",
        "import numpy as np\n",
        "from sklearn.decomposition import PCA\n",
        "from sklearn.impute import SimpleImputer\n",
        "from sklearn.cluster import KMeans\n",
        "from sklearn.metrics import confusion_matrix, accuracy_score, precision_recall_curve, roc_curve, auc, make_scorer, silhouette_score\n",
        "from sklearn.model_selection import GridSearchCV\n",
        "from sklearn.preprocessing import label_binarize\n",
        "from sklearn.svm import SVC\n",
        "from google.colab import drive"
      ],
      "metadata": {
        "id": "ZiFcntXDhqQ7"
      },
      "execution_count": null,
      "outputs": []
    },
    {
      "cell_type": "code",
      "source": [
        "drive.mount('/content/drive')"
      ],
      "metadata": {
        "id": "d6IvdCsehvr7"
      },
      "execution_count": null,
      "outputs": []
    },
    {
      "cell_type": "markdown",
      "source": [
        "Leitura dos dados e merge dos dados de times, transformando-os em um único dataframe."
      ],
      "metadata": {
        "id": "oexBU5VQmbik"
      }
    },
    {
      "cell_type": "code",
      "source": [
        "matches = pd.read_csv('/content/drive/Shareddrives/Drive IBMatch/Data/brazil-serie-a-matches-2024-to-2024-stats (6).csv')\n",
        "times1 = pd.read_csv('/content/drive/Shareddrives/Drive IBMatch/Data/brazil-serie-a-teams-2024-to-2024-stats (4).csv')\n",
        "times2 = pd.read_csv('/content/drive/Shareddrives/Drive IBMatch/Data/brazil-serie-a-teams2-2024-to-2024-stats (2).csv')\n",
        "\n",
        "teams = pd.merge(times1, times2, on=\"common_name\", how=\"left\")\n",
        "\n",
        "teams.insert(0, \"team_index\", list(range(1, 21)))"
      ],
      "metadata": {
        "id": "o-9I0xN3hzPD"
      },
      "execution_count": null,
      "outputs": []
    },
    {
      "cell_type": "markdown",
      "source": [
        "Limpeza de dados do dataframe de partidas, visando reduzir o dataframe apenas a tabelas importantes, além de remover dados vazios e partidas suspensas, canceladas e incompletas."
      ],
      "metadata": {
        "id": "48mUT8NWmsyW"
      }
    },
    {
      "cell_type": "code",
      "source": [
        "categorical_matches = pd.DataFrame(matches)\n",
        "categorical_matches = categorical_matches[~categorical_matches['status'].isin(['suspended', 'canceled', 'incomplete'])]\n",
        "#categorical_matches = categorical_matches[~categorical_matches['first_to_score'].isin(['N/A'])]\n",
        "\n",
        "matches = matches[[\"status\", \"home_team_name\", \"away_team_name\", \"first_to_score\"]]\n",
        "matches = matches[~matches['status'].isin(['suspended', 'canceled', 'incomplete'])]\n",
        "matches = matches[~matches['first_to_score'].isin(['N/A'])]"
      ],
      "metadata": {
        "id": "ZFJGkzfTiBZ3"
      },
      "execution_count": null,
      "outputs": []
    },
    {
      "cell_type": "code",
      "source": [
        "teams_categorical = teams\n",
        "teams = teams.select_dtypes(include=['int64', 'float64'])"
      ],
      "metadata": {
        "id": "cQpp7UfxiEws"
      },
      "execution_count": null,
      "outputs": []
    },
    {
      "cell_type": "code",
      "source": [
        "# Limpeza com imputer\n",
        "imputer_numbers = SimpleImputer(missing_values=np.nan, strategy=\"median\")\n",
        "imputer_numbers.fit(teams)\n",
        "\n",
        "# imputer_moda = SimpleImputer(missing_values=np.nan, strategy=\"most_frequent\")\n",
        "# imputer_moda.fit(data_categorical)"
      ],
      "metadata": {
        "id": "1kuCZB84iFlt"
      },
      "execution_count": null,
      "outputs": []
    },
    {
      "cell_type": "code",
      "source": [
        "selected_tables = [\n",
        "    \"wins\",\n",
        "    \"draws\",\n",
        "    \"losses\",\n",
        "    \"first_team_to_score_count\",\n",
        "    \"goals_scored\",\n",
        "    \"goals_conceded\",\n",
        "    \"clean_sheets\",\n",
        "    \"btts_count\",\n",
        "    \"fts_count\",\n",
        "]\n",
        "\n",
        "train_data = pd.DataFrame(teams[selected_tables])\n",
        "\n",
        "selected_tables.insert(1, \"common_name\")\n",
        "\n",
        "data = pd.DataFrame(teams)\n",
        "data[\"common_name\"] = teams_categorical[\"common_name\"]"
      ],
      "metadata": {
        "id": "G1OFwI1OiKky"
      },
      "execution_count": null,
      "outputs": []
    },
    {
      "cell_type": "markdown",
      "source": [
        "Utilizando Grid Search, são testadas diversas configurações para o K-Means, visando encontrar a melhor configuração do modelo. Para chegar ao resultado do melhor modelo, é utiliza o índice da silhueta."
      ],
      "metadata": {
        "id": "1rtT89RAm9CA"
      }
    },
    {
      "cell_type": "code",
      "source": [
        "def silhouette_scorer(estimator, data):\n",
        "    labels = estimator.fit_predict(data)\n",
        "    return silhouette_score(data, labels)\n",
        "\n",
        "kmeans = KMeans()\n",
        "\n",
        "param_grid = {\n",
        "    'n_clusters': [3],\n",
        "    'n_init': [10, 20, 30],\n",
        "    'max_iter': [300, 500],\n",
        "    'tol': [1e-4, 1e-3]\n",
        "}\n",
        "\n",
        "grid_search = GridSearchCV(estimator=kmeans, param_grid=param_grid, scoring=silhouette_scorer, cv=3)\n",
        "grid_search.fit(teams)"
      ],
      "metadata": {
        "id": "NPNE6XokiLyU"
      },
      "execution_count": null,
      "outputs": []
    },
    {
      "cell_type": "markdown",
      "source": [
        "Definição do algoritmo K-Means, passando as melhores configurações definidas pelos hiperparâmetros."
      ],
      "metadata": {
        "id": "E2voLfAvoGPl"
      }
    },
    {
      "cell_type": "code",
      "source": [
        "num_clusters = grid_search.best_params_['n_clusters']\n",
        "max_iter = grid_search.best_params_['max_iter']\n",
        "n_init = grid_search.best_params_['n_init']\n",
        "tol = grid_search.best_params_['tol']\n",
        "kmeans = KMeans(n_clusters=num_clusters, max_iter=max_iter, n_init=n_init, tol=tol)\n",
        "kmeans.fit(train_data)"
      ],
      "metadata": {
        "id": "UnzgWnwliPTe"
      },
      "execution_count": null,
      "outputs": []
    },
    {
      "cell_type": "code",
      "source": [
        "centroids = kmeans.cluster_centers_\n",
        "labels = kmeans.labels_"
      ],
      "metadata": {
        "id": "Pi7UJizgiSAH"
      },
      "execution_count": null,
      "outputs": []
    },
    {
      "cell_type": "markdown",
      "source": [
        "Plotagem de um gráfico de barras, visando demonstrar os pesos de cada feature nas previsões do modelo."
      ],
      "metadata": {
        "id": "V80boQqkohcY"
      }
    },
    {
      "cell_type": "code",
      "source": [
        "variable_weights = pd.DataFrame(dict(zip(train_data.columns, kmeans.cluster_centers_[labels])))\n",
        "variable_weights = variable_weights.mean().sort_values()\n",
        "\n",
        "plt.figure(figsize=(10, 6))\n",
        "plt.barh(variable_weights.index, variable_weights.values, color='skyblue')\n",
        "plt.xlabel(\"Média dos Pesos\")\n",
        "plt.title(\"Variáveis Ordenadas pelos Maiores Pesos\")\n",
        "plt.show()\n",
        "\n",
        "matches = pd.DataFrame(matches)"
      ],
      "metadata": {
        "id": "IIwH04gwiZx7"
      },
      "execution_count": null,
      "outputs": []
    },
    {
      "cell_type": "markdown",
      "source": [
        "O K-Means teve a responsabilidade de separar cada time participante do Brasilerão em três categorias, sendo elas, times pequenos, times médios e times grandes. A partir dessa separação é possível calcular a probabilidade de cada time fazer o primeiro gol em uma partida. Abaixo, gráficos gerados a partir do uso do algortimo K-means para clusterização."
      ],
      "metadata": {
        "id": "sVO5pZlTpOgn"
      }
    },
    {
      "cell_type": "code",
      "source": [
        "plt.scatter(data[labels == 2]['first_team_to_score_count'], data[labels == 2]['clean_sheets'], color='red', label='Grandes')\n",
        "plt.scatter(data[labels == 1]['first_team_to_score_count'], data[labels == 1]['clean_sheets'], color='blue', label='Médio')\n",
        "plt.scatter(data[labels == 0]['first_team_to_score_count'], data[labels == 0]['clean_sheets'], color='green', label='Pequeno')\n",
        "plt.scatter(centroids[:, 0], centroids[:, 1], color='black', marker='x', label='Centroids')\n",
        "plt.xlabel('Wins')\n",
        "plt.ylabel('Losses')\n",
        "plt.title('Clusters dos times')\n",
        "plt.legend()\n",
        "plt.show()\n",
        "\n",
        "fig = px.scatter_3d(train_data, x='first_team_to_score_count', y='fts_count', z='clean_sheets', color='first_team_to_score_count', title='Clusters dos times', labels={\n",
        "        'first_team_to_score_count': 'Primeiro Time a Marcar',\n",
        "        'fts_count': 'FTS',\n",
        "        'clean_sheets': 'Jogos Sem Sofrer Gol'\n",
        "    })\n",
        "fig.add_scatter3d(x=centroids[:, 0], y=centroids[:, 1], z=centroids[:, 2], mode='markers', marker=dict(color='black', size=2, symbol='x'), name='Centroids')\n",
        "fig.show()"
      ],
      "metadata": {
        "id": "zAXDX0OvicVr"
      },
      "execution_count": null,
      "outputs": []
    },
    {
      "cell_type": "markdown",
      "source": [
        "Criação do DataFrame de resultados do modelo, e os times, que antes estavam separados entre os clusters 0, 1 e 2, agora foram separados de forma categórica, indicando os grupos através dos títulos Pequeno, Médio e Grande."
      ],
      "metadata": {
        "id": "vxH5qBHwpmun"
      }
    },
    {
      "cell_type": "code",
      "source": [
        "results_km = pd.DataFrame()\n",
        "results_km[\"team_index\"] = data[\"team_index\"]\n",
        "results_km[\"team_name\"] = data[\"common_name\"]\n",
        "results_km[\"labels_classif\"] = labels\n",
        "\n",
        "classificacao = list()\n",
        "for i in range(0, 20):\n",
        "    if results_km[\"labels_classif\"][i] == 0:\n",
        "        classificacao.append(\"Grande\")\n",
        "    elif results_km[\"labels_classif\"][i] == 1:\n",
        "        classificacao.append(\"Médio\")\n",
        "    elif results_km[\"labels_classif\"][i] == 2:\n",
        "        classificacao.append(\"Pequeno\")\n",
        "\n",
        "results_km[\"classificacao\"] = classificacao"
      ],
      "metadata": {
        "id": "GSEfagOairt9"
      },
      "execution_count": null,
      "outputs": []
    },
    {
      "cell_type": "code",
      "source": [
        "times_classificados = {\n",
        "    \"Pequeno\": list(),\n",
        "    \"Médio\": list(),\n",
        "    \"Grande\": list()\n",
        "}\n",
        "\n",
        "index = 0\n",
        "for key, value in results_km[\"classificacao\"].items():\n",
        "    if value == \"Pequeno\":\n",
        "        times_classificados[\"Pequeno\"].append(results_km[\"team_name\"][index])\n",
        "    elif value == \"Médio\":\n",
        "        times_classificados[\"Médio\"].append(results_km[\"team_name\"][index])\n",
        "    elif value == \"Grande\":\n",
        "        times_classificados[\"Grande\"].append(results_km[\"team_name\"][index])\n",
        "    index += 1"
      ],
      "metadata": {
        "id": "yDJKTX9QiwuD"
      },
      "execution_count": null,
      "outputs": []
    },
    {
      "cell_type": "markdown",
      "source": [
        "Para calcular a probabilidade de cada time fazer o primeiro gol, foi utilizada a seguinte fórmula matemática:\n",
        "\n",
        "$P(1° gol) = \\frac{TAxX}{Qpm}$\n",
        "\n",
        "- TAxX: O TAxX é o total de 1°s gols do time $A$ contra times do grupo X, sendo o grupo X o grupo ao qual o time B pertence.\n",
        "- Qpm: Quantidade de partidas que o time A disputou contra times do grupo X, sendo o grupo $X$ o grupo ao qual o time B pertence."
      ],
      "metadata": {
        "id": "DbxeTUv6pwjm"
      }
    },
    {
      "cell_type": "code",
      "source": [
        "def calcular_probabilidade(time_a, time_b):\n",
        "    grupo_time_b = list()\n",
        "    for grupo in times_classificados.values():\n",
        "        if grupo.__contains__(time_b):\n",
        "            grupo_time_b = grupo\n",
        "\n",
        "    a_team_matches = matches.query(f\"home_team_name == '{time_a}' or away_team_name == '{time_a}'\")\n",
        "    a_team_matches_against_group_b = a_team_matches[a_team_matches['away_team_name'].isin(grupo_time_b) | a_team_matches['home_team_name'].isin(grupo_time_b)]\n",
        "\n",
        "    TAxX = a_team_matches_against_group_b[a_team_matches_against_group_b['first_to_score'] == time_a].shape[0]\n",
        "\n",
        "    Qpm = len(a_team_matches_against_group_b)\n",
        "\n",
        "    probabilidade = TAxX / Qpm if TAxX > 0 and Qpm > 0 else 0.5\n",
        "\n",
        "    return probabilidade"
      ],
      "metadata": {
        "id": "zkjPSB4ei1oq"
      },
      "execution_count": null,
      "outputs": []
    },
    {
      "cell_type": "markdown",
      "source": [
        "Considerando que a função `calcular_probabilidade()` retorna a probabilidade de cada time fazer o primeiro gol, a função `comparar_times()` retorna o nome que tem a maior probabilidade de fazer o primeiro gol."
      ],
      "metadata": {
        "id": "VzppC-cSqnOf"
      }
    },
    {
      "cell_type": "code",
      "source": [
        "def comparar_times(time_a, time_b):\n",
        "    prob_a = calcular_probabilidade(time_a, time_b)\n",
        "    prob_b = calcular_probabilidade(time_b, time_a)\n",
        "\n",
        "    soma_probabilidades = prob_a + prob_b\n",
        "    prob_a_normalizada = (prob_a / soma_probabilidades) * 100\n",
        "    prob_b_normalizada = (prob_b / soma_probabilidades) * 100\n",
        "\n",
        "    #print(f\"{time_a} - ({prob_a_normalizada:.1f}%) x ({prob_b_normalizada:.1f}%) - {time_b}\")\n",
        "\n",
        "    if prob_a_normalizada > prob_b_normalizada:\n",
        "        return time_a\n",
        "    elif prob_b_normalizada > prob_a_normalizada:\n",
        "        return time_b\n",
        "    else:\n",
        "        return \"Empate\""
      ],
      "metadata": {
        "id": "e4xUl7_Pi4TR"
      },
      "execution_count": null,
      "outputs": []
    },
    {
      "cell_type": "code",
      "source": [
        "def prever_primeiro_gol(row):\n",
        "    time_a = row['home_team_name']\n",
        "    time_b = row['away_team_name']\n",
        "    resultado = comparar_times(time_a, time_b)\n",
        "\n",
        "    if time_a in resultado:\n",
        "        return time_a\n",
        "    elif time_b in resultado:\n",
        "        return time_b\n",
        "    else:\n",
        "        return 'Empate'\n",
        "\n",
        "matches['previsao_primeiro_gol'] = matches.apply(prever_primeiro_gol, axis=1)\n",
        "\n",
        "matches = matches.dropna(subset=['previsao_primeiro_gol', 'first_to_score'])\n",
        "\n",
        "matches['previsao_primeiro_gol'] = matches['previsao_primeiro_gol'].astype(str)\n",
        "matches['first_to_score'] = matches['first_to_score'].astype(str)\n",
        "\n",
        "y_true = matches['first_to_score']\n",
        "y_pred = matches['previsao_primeiro_gol']"
      ],
      "metadata": {
        "id": "NJnRG-wAi7C5"
      },
      "execution_count": null,
      "outputs": []
    },
    {
      "cell_type": "markdown",
      "source": [
        "Para demonstrar o resultado do modelo, as seguintes métricas são definidas:\n",
        "\n",
        "- Matriz de confusão\n",
        "- Cálculo da acurácia\n",
        "- Total de erros e acertos\n",
        "- Curva de precisão e recall\n",
        "- Indíce da silhueta\n",
        "- Através dessas métricas, é possível avaliar a qualidade do modelo, assim como permite identificar onde ele deve melhorar.\n",
        "\n",
        "Plotagem da matriz de confusão, além de mostrar métricas relacionadas a acurácio do modelo e quantidade total de acertos e erros."
      ],
      "metadata": {
        "id": "9J45AQckrZFe"
      }
    },
    {
      "cell_type": "code",
      "source": [
        "matriz_confusao = confusion_matrix(y_true, y_pred, labels=matches['first_to_score'].unique())\n",
        "\n",
        "plt.figure(figsize=(10,7))\n",
        "sns.heatmap(matriz_confusao, annot=True, fmt='d', cmap='Blues',\n",
        "            xticklabels=matches['first_to_score'].unique(),\n",
        "            yticklabels=matches['first_to_score'].unique())\n",
        "\n",
        "plt.title('Matriz de Confusão - Previsão vs Realidade')\n",
        "plt.xlabel('Times Previstos')\n",
        "plt.ylabel('Times Reais')\n",
        "plt.show()\n",
        "\n",
        "acertos = matriz_confusao.diagonal().sum()\n",
        "erros = matriz_confusao.sum() - acertos\n",
        "print(f\"Total de acertos: {acertos}\")\n",
        "print(f\"Total de erros: {erros}\")\n",
        "\n",
        "acuracia = accuracy_score(y_true, y_pred)\n",
        "print(f\"Acurácia do modelo: {(acuracia * 100):.2f}%\")\n"
      ],
      "metadata": {
        "id": "bx58_RHhi-U6"
      },
      "execution_count": null,
      "outputs": []
    },
    {
      "cell_type": "markdown",
      "source": [
        "Plota um Gráfico que visa demonstra a curva de precisão e recall"
      ],
      "metadata": {
        "id": "r8eSK877rpPb"
      }
    },
    {
      "cell_type": "code",
      "source": [
        "acertos = matriz_confusao.diagonal().sum()\n",
        "erros = matriz_confusao.sum() - acertos\n",
        "print(f\"Total de acertos: {acertos}\")\n",
        "print(f\"Total de erros: {erros}\")\n",
        "\n",
        "acuracia = accuracy_score(y_true, y_pred)\n",
        "print(f\"Acurácia do modelo: {(acuracia * 100):.2f}%\")\n",
        "\n",
        "classes = matches['first_to_score'].unique()\n",
        "y_true_bin = label_binarize(y_true, classes=classes)\n",
        "y_pred_bin = label_binarize(y_pred, classes=classes)\n",
        "\n",
        "precision = dict()\n",
        "recall = dict()\n",
        "for i in range(len(classes)):\n",
        "    precision[i], recall[i], _ = precision_recall_curve(y_true_bin[:, i], y_pred_bin[:, i])\n",
        "\n",
        "plt.figure(figsize=(8, 6))\n",
        "for i in range(len(classes)):\n",
        "    plt.plot(recall[i], precision[i], marker='.', label=classes[i])\n",
        "\n",
        "plt.xlabel('Recall')\n",
        "plt.ylabel('Precision')\n",
        "plt.title('Curva de Precisão-Recall para cada time')\n",
        "plt.legend()\n",
        "plt.grid(True)\n",
        "plt.show()"
      ],
      "metadata": {
        "id": "LaOMwwZ1jBk7"
      },
      "execution_count": null,
      "outputs": []
    },
    {
      "cell_type": "code",
      "source": [
        "# Após treinar o modelo K-Means\n",
        "inertia = kmeans.inertia_\n",
        "print(f\"Inércia: {inertia}\")"
      ],
      "metadata": {
        "id": "qGsayqxSjEux"
      },
      "execution_count": null,
      "outputs": []
    },
    {
      "cell_type": "markdown",
      "source": [
        "Gráfico representando o Índice da Silhueta e o Método do Cotovelo."
      ],
      "metadata": {
        "id": "ppVZDquGru0C"
      }
    },
    {
      "cell_type": "code",
      "source": [
        "from sklearn.metrics import silhouette_score\n",
        "\n",
        "# Calculando o índice de silhueta\n",
        "silhouette_avg = silhouette_score(teams, kmeans.labels_)\n",
        "print(f\"Índice de Silhueta: {silhouette_avg}\")\n",
        "\n",
        "import matplotlib.pyplot as plt\n",
        "inertia_values = []\n",
        "\n",
        "# Testando diferentes números de clusters\n",
        "for n_clusters in range(1, 11):\n",
        "    kmeans = KMeans(n_clusters=n_clusters)\n",
        "    kmeans.fit(teams)\n",
        "    inertia_values.append(kmeans.inertia_)\n",
        "\n",
        "plt.plot(range(1, 11), inertia_values, marker='o')\n",
        "plt.xlabel('Número de Clusters')\n",
        "plt.ylabel('Inércia')\n",
        "plt.title('Método do Cotovelo')\n",
        "plt.show()"
      ],
      "metadata": {
        "id": "5mZxJUM7jFiK"
      },
      "execution_count": null,
      "outputs": []
    },
    {
      "cell_type": "markdown",
      "source": [
        "### 2.2. Modelo 2 - K-means e probabilidade empírica"
      ],
      "metadata": {
        "id": "HnytplsuhjFA"
      }
    },
    {
      "cell_type": "markdown",
      "source": [
        "O segundo modelo analisado utiliza-se do algoritmo de clusterização K-means para agrupar os diferentes times em grupos e, a partir disso, compara-se o desempenho de um determinado time contra times que façam parte do grupo do time adversário. Dessa forma, assumindo que times que façam parte do mesmo cluster têm comportamento e desempenho semelhante, somos capazes de prever a probabilidade de cada um dos times possui de ser o primeiro a marcar um gol em uma partida.\n",
        "\n",
        "Sendo assim, este modelo segue os mesmos princípios do modelo anterior, entretanto, usando toda a base de dados disponível."
      ],
      "metadata": {
        "id": "20pkGaJ7lBUl"
      }
    },
    {
      "cell_type": "code",
      "source": [
        "# Importação de bibliotecas necessárias para o funcionamento do código\n",
        "import pandas as pd\n",
        "import plotly.express as px\n",
        "import plotly.graph_objects as go\n",
        "import seaborn as sns\n",
        "import numpy as np\n",
        "import sklearn as sk\n",
        "from sklearn.cluster import KMeans\n",
        "from sklearn.metrics import confusion_matrix"
      ],
      "metadata": {
        "id": "4C2Erdrlj5gD"
      },
      "execution_count": null,
      "outputs": []
    },
    {
      "cell_type": "code",
      "source": [
        "# Abertura das bases de dados\n",
        "df = pd.read_csv('/content/drive/Shareddrives/Drive IBMatch/Data/new_teams.csv')\n",
        "df['team_name'] = df['common_name_x']\n",
        "df = df.drop(columns=['common_name_x'])\n",
        "\n",
        "matches = pd.read_csv('/content/drive/Shareddrives/Drive IBMatch/Data/brazil-serie-a-matches-2024-to-2024-stats (5).csv', sep=\";\")\n",
        "matches = matches[['home_team_name', 'away_team_name', 'home_team_goal_count', 'away_team_goal_count','home_team_goal_timings', 'away_team_goal_timings','status']]"
      ],
      "metadata": {
        "id": "elWbHRpZj7KS"
      },
      "execution_count": null,
      "outputs": []
    },
    {
      "cell_type": "markdown",
      "source": [
        "O trecho a seguir ajusta os nomes dos times para evitar problemas relacionados a compatibilidade."
      ],
      "metadata": {
        "id": "o694UCPHw4wV"
      }
    },
    {
      "cell_type": "code",
      "source": [
        "def check_names(name1, name2):\n",
        "    # Comparar se um nome está contido no outro (ignora maiúsculas/minúsculas)\n",
        "    name1_lower = name1.lower()\n",
        "    name2_lower = name2.lower()\n",
        "    return name1_lower in name2_lower or name2_lower in name1_lower\n",
        "\n",
        "# Iterar pelas linhas do segundo DataFrame e comparar com o primeiro\n",
        "def adjust_names(matches_column):\n",
        "  for idx2, name2 in matches[matches_column].items():\n",
        "      for name1 in df['team_name']:\n",
        "          if check_names(name1, name2):\n",
        "              matches.at[idx2, matches_column] = name1\n",
        "              break\n",
        "\n",
        "adjust_names('home_team_name')\n",
        "adjust_names('away_team_name')"
      ],
      "metadata": {
        "id": "00Q6-d-PkEt3"
      },
      "execution_count": null,
      "outputs": []
    },
    {
      "cell_type": "code",
      "source": [
        "alt = df.drop(columns=df.select_dtypes(include='object')) # cria variável alternativa para análises posteriores"
      ],
      "metadata": {
        "id": "3GHA1C3-m63t"
      },
      "execution_count": null,
      "outputs": []
    },
    {
      "cell_type": "markdown",
      "source": [
        "O trecho a seguir plota um gráfico cotovelo para determinação da melhor quantidade de clusters para o K-means. A seleção da quantidade ideal se dá pela análise de onde ocorre uma quebra de continuidade na linha, caracterizada pela mudança repentina no angulo formado por dois segmentos (cotovelo)."
      ],
      "metadata": {
        "id": "sHs4dtAXxH7G"
      }
    },
    {
      "cell_type": "code",
      "source": [
        "wcss = []\n",
        "for i in range(1, 11):\n",
        "    kmeans = KMeans(n_clusters = i, init = 'k-means++', n_init='auto', random_state=43)\n",
        "    kmeans.fit(alt)\n",
        "    wcss.append(kmeans.inertia_)\n",
        "\n",
        "px.line(x=range(1, 11), y=wcss)"
      ],
      "metadata": {
        "id": "9MrWmaN5kOsD"
      },
      "execution_count": null,
      "outputs": []
    },
    {
      "cell_type": "markdown",
      "source": [
        "A partir do gráfico anterior, aplicou-se o algoritmo K-means para agrupamentos dos times escolhendo como quantidade de clusters 4."
      ],
      "metadata": {
        "id": "aScEb6-qzaob"
      }
    },
    {
      "cell_type": "code",
      "source": [
        "kmeans_plain = KMeans(n_clusters=4, n_init='auto', random_state=43)\n",
        "kmeans_plain.fit(alt)\n",
        "kmeans_plain.labels_ = kmeans_plain.labels_.astype(str)\n",
        "\n",
        "kmeans_plain.labels_"
      ],
      "metadata": {
        "id": "NH5nEO9VkQ9l"
      },
      "execution_count": null,
      "outputs": []
    },
    {
      "cell_type": "markdown",
      "source": [
        "Buscou-se, partir disso, compreender a importância de cada variável para a a formação dos _clusters_. Para isso, utilizou-se de uma estrátégia na qual é comparada a variação da inércia (medida da dispersão dos elementos de um grupo em relação ao centróide) do sistema ao se remover um de seus atributos. Nesse sentido, podemos averiguar qual das _features_ são mais significativas no agrupamento dos elementos."
      ],
      "metadata": {
        "id": "zUvUFWrkdjD0"
      }
    },
    {
      "cell_type": "code",
      "source": [
        "scaler = StandardScaler()\n",
        "alt_scaled = scaler.fit_transform(alt)\n",
        "\n",
        "kmeans_plain = KMeans(n_clusters=4, n_init='auto', random_state=43)\n",
        "kmeans_plain.fit(alt_scaled)\n",
        "\n",
        "def calcular_inercia(X):\n",
        "    kmeans = KMeans(n_clusters=4, n_init='auto', random_state=43)\n",
        "    kmeans.fit(X)\n",
        "    return kmeans.inertia_\n",
        "\n",
        "inercia_total = calcular_inercia(alt_scaled)\n",
        "\n",
        "importancias = []\n",
        "for i in range(alt_scaled.shape[1]):\n",
        "    alt_reduced = np.delete(alt_scaled, i, axis=1)\n",
        "    inercia_reduced = calcular_inercia(alt_reduced)\n",
        "    importancias.append(inercia_total - inercia_reduced)\n",
        "\n",
        "importancias_df = pd.DataFrame({\n",
        "    'feature': alt.columns,\n",
        "    'importance': importancias\n",
        "}).sort_values(by='importance', ascending=False)\n",
        "\n",
        "fig = px.bar(importancias_df,\n",
        "             x='feature',\n",
        "             y='importance',\n",
        "             title='Importância das Features no KMeans',\n",
        "             labels={'importance': 'Redução de Inércia', 'feature': 'Feature'})\n",
        "\n",
        "fig.show()\n"
      ],
      "metadata": {
        "id": "DCDxLvvUdvJY"
      },
      "execution_count": null,
      "outputs": []
    },
    {
      "cell_type": "markdown",
      "source": [
        "Visto que, para aplicação do K-means, foi necessária a remoção de informações categóricas dos dados, o trecho a segui recoloca essas informações na tabela para análises posteriores."
      ],
      "metadata": {
        "id": "lGTD45kJz3K7"
      }
    },
    {
      "cell_type": "code",
      "source": [
        "alt = pd.concat([pd.DataFrame(alt), pd.DataFrame(df['team_name'])], axis=1)\n",
        "alt['Class'] = pd.Series(kmeans_plain.labels_.astype(str), name=\"Class\")\n",
        "alt.head(3)"
      ],
      "metadata": {
        "id": "KtnD26LTkTEm"
      },
      "execution_count": null,
      "outputs": []
    },
    {
      "cell_type": "markdown",
      "source": [
        "Exposição de gráfico de dispersão que relaciona o total de primeiros gols feitos pelos times e a quantidade total de gols para averiguar o resultado da clusterização."
      ],
      "metadata": {
        "id": "YwYGXNAk0USP"
      }
    },
    {
      "cell_type": "code",
      "source": [
        "px.scatter(alt, x=alt.iloc[:, 3], y=alt.iloc[:, 4], color=alt['Class'],\n",
        "           title=\"Relação entre a quantidade de primeiros gols em partidas e o total de gols feitos\",\n",
        "           labels={'x':'Quantidade de primeiros gols em partidas', 'y':'Total de gols feitos','Class':'Grupo de times'})"
      ],
      "metadata": {
        "id": "X5g8iGB-kVhN"
      },
      "execution_count": null,
      "outputs": []
    },
    {
      "cell_type": "markdown",
      "source": [
        "Exposição de gráfico de dispersão que relaciona o total de primeiros gols feitos pelos times, a quantidade total de gols feitos e o total de gosl tomados para averiguar o resultado da clusterização."
      ],
      "metadata": {
        "id": "_lh78WjQ1s_z"
      }
    },
    {
      "cell_type": "code",
      "source": [
        "# Plota gráfico tridimensional dos pontos\n",
        "fig = px.scatter_3d(x=alt.iloc[:, 3],\n",
        "                    y=alt.iloc[:, 4],\n",
        "                    z=alt.iloc[:,5],\n",
        "                    color=alt['Class'],\n",
        "                    title='Relação entre a quantidade de primeiros gols em partidas, total de gols feitos e total de gols tomados',\n",
        "                    labels={'x':'Quantidade de primeiros gols em partidas', 'y':'Total de gols feitos', 'z':'Total de gols tomados', 'color':'Grupo de times'})\n",
        "fig.show()"
      ],
      "metadata": {
        "id": "PNNMqHTOkYDS"
      },
      "execution_count": null,
      "outputs": []
    },
    {
      "cell_type": "markdown",
      "source": [
        "Com os clusters estabelecidos, realizou-se a determinação da probabilidade de que um time seja o primeiro a marcar um gol contra determinado adversário. Para isso, foi necessário o estabelecimento de alguma funções, descritas a seguir:\n",
        "- `first_goals_count`: realiza a contagem de quantas vezes um time foi o responsável pelo primeiro gol de uma partida contra os times do cluster do seu adversário;\n",
        "- `return_goal_probability`: retorna a probabilidade de um time ser o primeiro a marcar um gol contra um determinado adversário usando probabilidade empírica."
      ],
      "metadata": {
        "id": "SAE2tP7_2DpL"
      }
    },
    {
      "cell_type": "code",
      "source": [
        "#\n",
        "def first_goals_count(team_name, opponent_team_class):\n",
        "  team_first_goals_count = 0\n",
        "  for i in matches.iterrows():\n",
        "    min_target = 95\n",
        "    min_opponent = 95\n",
        "    if i[1]['home_team_name'] == team_name and opponent_team_class.isin([i[1]['away_team_name']]).any():\n",
        "      if int(i[1]['home_team_goal_count']) != 0:\n",
        "        try:\n",
        "          min_target = int(str(i[1]['home_team_goal_timings']).split(',')[0].replace(\"'\", '')[:2])\n",
        "        except ValueError:\n",
        "          min_target = 95\n",
        "\n",
        "      if int(i[1]['away_team_goal_count']) != 0:\n",
        "        try:\n",
        "          min_opponent = int(str(i[1]['away_team_goal_timings']).split(',')[0].replace(\"'\", '')[:2])\n",
        "        except ValueError:\n",
        "          min_opponent = 95\n",
        "\n",
        "    elif i[1]['away_team_name'] == team_name and opponent_team_class.isin([i[1]['home_team_name']]).any():\n",
        "      if int(i[1]['away_team_goal_count']) != 0:\n",
        "        try:\n",
        "          min_target = int(str(i[1]['away_team_goal_timings']).split(',')[0].replace(\"'\", '')[:2])\n",
        "        except ValueError:\n",
        "          min_target = 95\n",
        "\n",
        "      if int(i[1]['home_team_goal_count']) != 0:\n",
        "        try:\n",
        "          min_opponent = int(str(i[1]['home_team_goal_timings']).split(',')[0].replace(\"'\", '')[:2])\n",
        "        except ValueError:\n",
        "          min_opponent = 95\n",
        "\n",
        "    if min_target < min_opponent:\n",
        "      team_first_goals_count += 1\n",
        "\n",
        "  return team_first_goals_count\n",
        "\n",
        "def return_goal_probability(first_team, second_team, data):\n",
        "  first_team_class = data.loc[data['team_name'] == first_team, 'Class']\n",
        "  second_team_class = data.loc[data['team_name'] == second_team, 'Class']\n",
        "\n",
        "  if first_team_class.empty or second_team_class.empty:\n",
        "    return (0, 0)\n",
        "\n",
        "  first_class_teams = data.loc[(data['Class'] == first_team_class.iloc[0]), 'team_name']\n",
        "  second_class_teams = data.loc[(data['Class'] == second_team_class.iloc[0]), 'team_name']\n",
        "\n",
        "  first_team_fg = first_goals_count(first_team, second_class_teams)\n",
        "  second_team_fg = first_goals_count(second_team, first_class_teams)\n",
        "\n",
        "  first_team_goal_status = first_team_fg/matches[(matches['status'] == 'complete') & (((matches['home_team_name'] == first_team) & (matches['away_team_name'].isin(second_class_teams).any())) | ((matches['away_team_name'] == first_team) & (matches['home_team_name'].isin(second_class_teams).any())))]['home_team_name'].count()\n",
        "  second_team_goal_status = second_team_fg/matches[(matches['status'] == 'complete') & (((matches['home_team_name'] == second_team) & (matches['away_team_name'].isin(first_class_teams).any())) | ((matches['away_team_name'] == second_team) & (matches['home_team_name'].isin(first_class_teams).any())))]['home_team_name'].count()\n",
        "\n",
        "  first_team_goal_probability = first_team_goal_status/(first_team_goal_status+second_team_goal_status)\n",
        "  second_team_goal_probability = second_team_goal_status/(first_team_goal_status+second_team_goal_status)\n",
        "\n",
        "  return (first_team_goal_probability, second_team_goal_probability)"
      ],
      "metadata": {
        "id": "yIvggutDkdLs"
      },
      "execution_count": null,
      "outputs": []
    },
    {
      "cell_type": "markdown",
      "source": [
        "Para testar a eficácia das funções anteriores e do modelo como um todo, foram estabelecidas outras funções auxiliares, descritas a seguir:\n",
        "- `first_gol`: dada uma partida, indica quem foi o primeiro a marcar gol\n",
        "- `define_previsions`: dada uma partida, indica qual time tem a maior probabilidade de ser o primeiro a marcar o primeiro gol com base no modelo descrito anteriormente;\n",
        "- `give_results`: compara o resultado previsto com aquele que ocorreu de fato, retornando \"Acerto\", casos os dois sejam iguais, \"Erro\" caso sejam diferentes e \"Indeterminado\", caso não tenham havido gols na partida."
      ],
      "metadata": {
        "id": "PA8bAjYJ9Aji"
      }
    },
    {
      "cell_type": "code",
      "source": [
        "def first_goal(row):\n",
        "  # Função para limpar e converter os tempos dos gols para float\n",
        "  def convert_goal_timings(goal_timings):\n",
        "      if pd.isna(goal_timings) or not goal_timings:\n",
        "          return []\n",
        "      # Remove o apóstrofo e converte para float\n",
        "      return [float(time.replace(\"'\", \"\")) for time in goal_timings.split(',')]\n",
        "\n",
        "  # Extrai os momentos dos gols como listas de floats, ou lista vazia se não houver gols\n",
        "  home_goals = convert_goal_timings(row['home_team_goal_timings'])\n",
        "  away_goals = convert_goal_timings(row['away_team_goal_timings'])\n",
        "\n",
        "  # Combina os gols em uma lista de tuplas (time, tempo do gol)\n",
        "  all_goals = [(row['home_team_name'], goal_time) for goal_time in home_goals] + \\\n",
        "              [(row['away_team_name'], goal_time) for goal_time in away_goals]\n",
        "\n",
        "  # Se não houver gols, não há um primeiro a pontuar\n",
        "  if not all_goals:\n",
        "      return None\n",
        "\n",
        "  # Ordena os gols pelo tempo e retorna o time que fez o primeiro gol\n",
        "  first_goal = min(all_goals, key=lambda x: x[1])\n",
        "  return first_goal[0]"
      ],
      "metadata": {
        "id": "KRWh1RtMkgfM"
      },
      "execution_count": null,
      "outputs": []
    },
    {
      "cell_type": "code",
      "source": [
        "def define_previsions(target, reference):\n",
        "  target['prevision'] = ''\n",
        "  for idx, row in target.iterrows():\n",
        "    prob1 = return_goal_probability(row['home_team_name'], row['away_team_name'], reference)[0]\n",
        "    prob2 = return_goal_probability(row['home_team_name'], row['away_team_name'], reference)[1]\n",
        "    if prob1 > prob2:\n",
        "      target.at[idx, 'prevision'] = row['home_team_name']\n",
        "    elif prob1 == prob2:\n",
        "      target.at[idx, 'prevision'] = None\n",
        "    else:\n",
        "      target.at[idx, 'prevision'] = row['away_team_name']\n",
        "  return target"
      ],
      "metadata": {
        "id": "h8gTbZPRkjrf"
      },
      "execution_count": null,
      "outputs": []
    },
    {
      "cell_type": "code",
      "source": [
        "def give_results(target):\n",
        "  for idx, row in target.iterrows():\n",
        "    if row['first_goal'] == row['prevision']:\n",
        "      target.at[idx, 'result'] = \"Acerto\"\n",
        "    elif row['first_goal'] == None:\n",
        "      target.at[idx, 'result'] = \"Indeterminado\"\n",
        "    elif row['first_goal'] != row['prevision']:\n",
        "      target.at[idx, 'result'] = \"Erro\"\n",
        "  return target"
      ],
      "metadata": {
        "id": "A9nhd2m3kmd9"
      },
      "execution_count": null,
      "outputs": []
    },
    {
      "cell_type": "markdown",
      "source": [
        "Usando das funções descritas anteriormente, aplicou-se o algoritmo sobre toda a base de dados, visando averiguar quanto das partidas o algoritmo foi capaz de prever corretamente, apresentando os resultados nos gráficos a seguir:"
      ],
      "metadata": {
        "id": "NehnafJZ9_nP"
      }
    },
    {
      "cell_type": "code",
      "source": [
        "# Aplica os algoritmos anteriores em todas as partidas que já ocorreram\n",
        "partidas = matches.loc[matches['status']== 'complete', ['home_team_name', 'away_team_name']]\n",
        "temp = matches.loc[matches['status']== 'complete', ['home_team_name', 'away_team_name', 'away_team_goal_timings', 'home_team_goal_timings']]\n",
        "\n",
        "partidas['first_goal'] = temp.apply(first_goal, axis=1)\n",
        "partidas = define_previsions(partidas, alt)\n",
        "partidas = give_results(partidas)"
      ],
      "metadata": {
        "id": "WiBRlVRLkrZW"
      },
      "execution_count": null,
      "outputs": []
    },
    {
      "cell_type": "markdown",
      "source": [
        "O gráfico a seguir apresenta, quantitativamente, a distribuição de acertos, erros e indeterminações que o modelo foi capaz de executar."
      ],
      "metadata": {
        "id": "bMrEVXIi-Xs5"
      }
    },
    {
      "cell_type": "code",
      "source": [
        "px.histogram(partidas, x='result', color='result', category_orders=dict(result=[\"Acerto\", \"Erro\", \"Indeterminado\"]), title='Distribuição dos resultados das previsões', labels={'result':'Resultado da previsão', 'count':'Contagem'})"
      ],
      "metadata": {
        "id": "oXiPWeYHkwRH"
      },
      "execution_count": null,
      "outputs": []
    },
    {
      "cell_type": "markdown",
      "source": [
        "Estabeleu-se também uma comparação de quanto cada resultado corresponde ao total das predições, apresentando-as a seguir:"
      ],
      "metadata": {
        "id": "PVcg694eBLcL"
      }
    },
    {
      "cell_type": "code",
      "source": [
        "px.pie(partidas, names='result', title='Distribuição dos resultados das previsões em porcentagem', labels={'result':'Resultado da previsão'})"
      ],
      "metadata": {
        "id": "mbD716hikzGm"
      },
      "execution_count": null,
      "outputs": []
    },
    {
      "cell_type": "markdown",
      "source": [
        "Por fim, constuiu-se uma matriz de confusão para averiguar como estavam distribuídas as predições e se havia algum viés no modelo"
      ],
      "metadata": {
        "id": "p8tjWYDOnSm-"
      }
    },
    {
      "cell_type": "code",
      "source": [
        "df_valid = partidas[partidas['result'] != 'Indeterminado']\n",
        "\n",
        "y_true = df_valid['first_goal']\n",
        "y_pred = df_valid['prevision']\n",
        "\n",
        "y_true = df_valid['first_goal'].fillna('')\n",
        "y_pred = df_valid['prevision'].fillna('')\n",
        "\n",
        "cm = confusion_matrix(y_true, y_pred)\n",
        "\n",
        "labels = np.unique(np.concatenate((y_true, y_pred)))\n",
        "\n",
        "plt.figure(figsize=(8, 6))\n",
        "sns.heatmap(cm, annot=True, fmt=\"d\", cmap=\"Blues\", xticklabels=labels, yticklabels=labels)\n",
        "\n",
        "plt.title('Matriz de Confusão')\n",
        "plt.xlabel('Previsão')\n",
        "plt.ylabel('Resultado Real')\n",
        "\n",
        "plt.show()"
      ],
      "metadata": {
        "id": "92PHmNtzkCWk"
      },
      "execution_count": null,
      "outputs": []
    },
    {
      "cell_type": "markdown",
      "source": [
        "## 3. Comparação de resultados e métricas"
      ],
      "metadata": {
        "id": "EiNKy9caMatz"
      }
    },
    {
      "cell_type": "markdown",
      "source": [
        "A partir da apresentação dos modelos, podemos comparar as métricas atingidas e os resultados alcançados a fim de determinar qual está desempenhando melhor a tarefa de predizer qual time será o primeiro a marcar gol em uma partida.\n",
        "\n",
        "A priori, quando averiguamos a taxa de acerto de ambas as abordagens, nota-se que o segundo modelo atingiu uma taxa de acerto de 69,8%, sendo apenas 0,5 pontos percentuais maior que o primeiro modelo (69,3%). Nesse sentido, observa-se que, apesar da seleção de _features_ tendo ocorrido de maneira distinta entre os modelos, ambos atingiram resultados muito próximos.\n",
        "\n",
        "Nesse sentido, quando comparamos os atributos selecionados pelo primeiro modelo, percebemos que foi benéfica a remoção de alguns atributos, visto que a taxa de acertos continuou elevada mesmo com os dados contendo menos atributos.\n",
        "\n",
        "Observa-se, também, por meio das matrizes de confusão, que os modelos estão com uma distribuição de predições relativamente homogênea, indicando que não há um viés proeminente para determinado time ou resultado. Isso se deve ao fato dos algoritmos desconsiderarem informações momentâneas, como o fato de um time estar jogando em casa ou ser visitante, que podem afetar o resultado final, seja aumentando a acurácia ou criando viéses nas predições.\n",
        "\n",
        "A presença de valores indeterminados no segundo modelo se apresenta como um ponto de atenção, visto que sua ausência no primeiro modelo pode revelar que uma parcela dos erros do modelo sejam, na verdade, partidas sobre as quais não foi possível realizar uma predição devido ao fato de não terem ocorridos gols.\n",
        "\n"
      ],
      "metadata": {
        "id": "Pctj6oZ5XgIo"
      }
    },
    {
      "cell_type": "markdown",
      "source": [
        "## 4. Conclusões"
      ],
      "metadata": {
        "id": "ybuOCDHlMpjx"
      }
    },
    {
      "cell_type": "markdown",
      "source": [
        "Por meio das análises anteriores, observa-se que os dois modelos apresentaram resultados muito semelhantes, apesar de terem utilizado de bases de dados distintas.\n",
        "\n",
        "A ausência de um filtro de valores indeterminados no primeiro modelo é um ponto de atenção, visto que pode \"inflar\" a taxa de erro ao não diferenciá-los. Nesse sentido, o correto tratamento desses valores deve ser levado em consideração em futuras modificações.\n",
        "\n",
        "Ademais, a semelhança nos resultados de ambos os modelos, mesmo com o primeiro tendo usado menos atributos nas suas análises, levanta outro ponto de atenção em relação a potêncial presença excesso de dimensões no modelo, sendo necessários testes removendo alguns atributos para averiguar seu impacto na taxas de acerto, erro e indeterminação.\n",
        "\n",
        "Por fim, o uso de um modelo de probabilidade empírica apresenta vantagem ao fornecer grande explicabilidade aos algoritmos, permitindo que sejam feitas modificações pontuais de maneira facilitada em relação ao uso de outros algortimos e abrindo espaço para a realização das melhorias citadas anteriormente. De modo geral, ambos os modelos foram capazes de desempenhar de maneira satisfatória a tarefa de predizer os time responsável pelo primeiro ponto nas partidas."
      ],
      "metadata": {
        "id": "mdxwK1Bwoj45"
      }
    }
  ]
}