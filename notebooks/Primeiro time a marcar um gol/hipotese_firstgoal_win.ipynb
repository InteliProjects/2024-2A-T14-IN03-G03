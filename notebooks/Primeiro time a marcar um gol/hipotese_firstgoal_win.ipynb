{
 "cells": [
  {
   "cell_type": "code",
   "execution_count": null,
   "metadata": {},
   "outputs": [],
   "source": [
    "import pandas as pd\n",
    "import seaborn as sns\n",
    "import numpy as np\n",
    "import matplotlib.pyplot as plt\n",
    "import sklearn.linear_model as lm\n",
    "from sklearn.model_selection import train_test_split\n",
    "from sklearn.metrics import accuracy_score\n",
    "from sklearn.metrics import confusion_matrix\n",
    "from datetime import datetime\n",
    "import unicodedata\n",
    "import plotly.express as px\n",
    "import plotly.graph_objects as go"
   ]
  },
  {
   "cell_type": "code",
   "execution_count": null,
   "metadata": {},
   "outputs": [],
   "source": [
    "# Função para remover acentos\n",
    "def remove_acentos(text):\n",
    "  return ''.join(\n",
    "    char for char in unicodedata.normalize('NFD', text)\n",
    "    if unicodedata.category(char) != 'Mn'\n",
    "  )\n",
    "\n",
    "def normalize_data(data):\n",
    "  min_data = np.min(data)\n",
    "  max_data = np.max(data)\n",
    "\n",
    "  return (data - min_data) / (max_data - min_data)"
   ]
  },
  {
   "cell_type": "code",
   "execution_count": null,
   "metadata": {},
   "outputs": [],
   "source": [
    "matches = pd.read_csv('../assets/matches.csv', sep=';')\n",
    "teams = pd.read_csv('../assets/teams.csv', sep=',')\n",
    "matches_2 = pd.read_csv('../assets/BRA.csv', sep=',')\n",
    "\n",
    "matches_2['formated_date'] = pd.to_datetime(matches_2['Date'], format='%d/%m/%Y')\n",
    "\n",
    "matches_2.rename(columns={\n",
    "  'Home': 'home_team_name', \n",
    "  'Away': 'away_team_name',\n",
    "  'HG': 'home_team_goal_count',\n",
    "  'AG': 'away_team_goal_count'}, inplace=True)\n",
    "\n",
    "# Captura apenas os dados do Brasileirão 2024\n",
    "matches_2 = matches_2.query('formated_date >= \"2024-04-01\"')\n",
    "\n",
    "# Aplicar a função a uma coluna específica (ex: 'nome')\n",
    "matches['home_team_name'] = matches['home_team_name'].apply(remove_acentos)\n",
    "matches['away_team_name'] = matches['away_team_name'].apply(remove_acentos)\n",
    "matches_2['home_team_name'] = matches_2['home_team_name'].apply(remove_acentos)\n",
    "matches_2['away_team_name'] = matches_2['away_team_name'].apply(remove_acentos)\n",
    "teams['common_name'] = teams['common_name'].apply(remove_acentos)"
   ]
  },
  {
   "cell_type": "code",
   "execution_count": null,
   "metadata": {},
   "outputs": [],
   "source": [
    "teams['first_team_to_score_percentage_away'] = normalize_data(teams['first_team_to_score_percentage_away'])\n",
    "teams['wins_away'] = normalize_data(teams['wins_away'])\n",
    "\n",
    "scatter = px.scatter(\n",
    "  teams, \n",
    "  x='first_team_to_score_percentage_away', \n",
    "  y='wins_away',\n",
    "  title='Primeiro a pontuar fora de casa x Vitórias fora de casa',\n",
    "  labels={'first_team_to_score_percentage_away': 'Primeiro a pontuar fora de casa', 'wins_away': 'Vitórias fora de casa'}, \n",
    "  trendline='ols')\n",
    "\n",
    "scatter.update_layout(title_x=0.5)"
   ]
  }
 ],
 "metadata": {
  "kernelspec": {
   "display_name": "Python 3",
   "language": "python",
   "name": "python3"
  },
  "language_info": {
   "codemirror_mode": {
    "name": "ipython",
    "version": 3
   },
   "file_extension": ".py",
   "mimetype": "text/x-python",
   "name": "python",
   "nbconvert_exporter": "python",
   "pygments_lexer": "ipython3",
   "version": "3.12.3"
  }
 },
 "nbformat": 4,
 "nbformat_minor": 2
}
