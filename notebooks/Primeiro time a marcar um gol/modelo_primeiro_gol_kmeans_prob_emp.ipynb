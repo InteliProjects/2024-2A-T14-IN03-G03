{
  "cells": [
    {
      "cell_type": "markdown",
      "metadata": {
        "id": "HLp5Ttl5Yl64"
      },
      "source": [
        "# Testes de modelo\n",
        "Este notebook contém os testes que deram origem a um dos modelos para predição de qual time será o primeiro a marcar um gol, dados os nomes dos dois times. Sendo assim **o objetivo deste arquivo é apenas compreender a linha de raciocínio que culminou no modelo final, não devendo ser levado em consideração para conclusões ou para momentos de avaliação.**"
      ]
    },
    {
      "cell_type": "markdown",
      "metadata": {
        "id": "MZszKFSkZZza"
      },
      "source": [
        "## Concepções iniciais e motivações\n",
        "\n",
        "O objetivo inicial dos modelos construídos a seguir são a predição de qual time será o primeiro a pontuar em determinada rodada.\n",
        "\n",
        "A priori, considerou-se realizar uma análise histórica, traçando o comportamento dos times que disputarão determinada partida ao longo de disputas anteriores para, assim, determinar qual tem a maior probabilidade de marcar o primeiro gol. Tal abordagem, entretanto, tem um grave dificultador: a ausência de dados suficientes. Os times se enfrentam apenas duas vezes ao longo do Campeonato Brasileiro, o que acaba por impedir uma análise histórica com alta confiabilidade.\n",
        "\n",
        "Sendo assim, propõe-se uma abordagem alternativa com lógica semelhante a anterior. Para tal, em vez de analisar o desempenho de determinado time A contra determinado time B ao longo de disputas entre esses dois times, será averiguado o comportamento do time A contra times parecidos com o time B e vice-versa, considerando que podemos extrapolar esses comportamentos para partidas posteriores. Desse modo, será realizada uma análise de probabilidade empírica [[1]](http://tpub.com/math2/90.htm)[[2]](https://www.geeksforgeeks.org/empirical-probability/) nos dados, permitindo a previsão de jogos futuros baseado em resultados anteriores.\n",
        "\n",
        "Os procedimentos e testes para se chegar esse modelo estão descritos a seguir:"
      ]
    },
    {
      "cell_type": "markdown",
      "metadata": {
        "id": "pApXcf4Qi74b"
      },
      "source": [
        "## Código"
      ]
    },
    {
      "cell_type": "markdown",
      "metadata": {
        "id": "y3--5olljDoy"
      },
      "source": [
        "### Setup de dependências"
      ]
    },
    {
      "cell_type": "markdown",
      "metadata": {
        "id": "ZTOEEKryjcd4"
      },
      "source": [
        "Importação de bibliotecas necessárias para o funcionamento do código"
      ]
    },
    {
      "cell_type": "code",
      "execution_count": null,
      "metadata": {
        "id": "cjrXKxyyQsYi"
      },
      "outputs": [],
      "source": [
        "# Importação de bibliotecas necessárias para o funcionamento do código\n",
        "import pandas as pd\n",
        "import plotly.express as px\n",
        "import plotly.graph_objects as go\n",
        "import seaborn as sns\n",
        "import numpy as np\n",
        "import sklearn as sk\n",
        "from sklearn import decomposition\n",
        "from sklearn.cluster import KMeans\n"
      ]
    },
    {
      "cell_type": "markdown",
      "metadata": {
        "id": "n6bE72pXj1y5"
      },
      "source": [
        "Montagem do drive para acesso aos arquivos"
      ]
    },
    {
      "cell_type": "code",
      "execution_count": null,
      "metadata": {
        "colab": {
          "base_uri": "https://localhost:8080/"
        },
        "id": "KF0H1crtEQFc",
        "outputId": "59904088-1c4b-45dc-ac0f-c381f7c1fe31"
      },
      "outputs": [],
      "source": [
        "from google.colab import drive\n",
        "drive.mount('/content/drive')"
      ]
    },
    {
      "cell_type": "markdown",
      "metadata": {
        "id": "0q3aHp4NkDBO"
      },
      "source": [
        "Abertura dos arquivos"
      ]
    },
    {
      "cell_type": "code",
      "execution_count": null,
      "metadata": {
        "id": "lRuHdvC6RpEv"
      },
      "outputs": [],
      "source": [
        "df = pd.read_csv('/content/drive/Shareddrives/Drive IBMatch/Data/new_teams.csv')\n",
        "df['team_name'] = df['common_name_x']\n",
        "df = df.drop(columns=['common_name_x'])\n",
        "\n",
        "matches = pd.read_csv('/content/drive/Shareddrives/Drive IBMatch/Data/brazil-serie-a-matches-2024-to-2024-stats (5).csv', sep=\";\")"
      ]
    },
    {
      "cell_type": "markdown",
      "metadata": {
        "id": "1fCTLlIt0tXU"
      },
      "source": [
        "### Análise exploratória e pré-processamento\n"
      ]
    },
    {
      "cell_type": "code",
      "execution_count": null,
      "metadata": {
        "colab": {
          "base_uri": "https://localhost:8080/"
        },
        "id": "nhA1cnIoR3a8",
        "outputId": "431b0913-d93c-45d4-86e1-42bf7dc9ef05"
      },
      "outputs": [],
      "source": [
        "df.info()"
      ]
    },
    {
      "cell_type": "code",
      "execution_count": null,
      "metadata": {
        "colab": {
          "base_uri": "https://localhost:8080/",
          "height": 143
        },
        "id": "REopxLE2VH87",
        "outputId": "c060a49f-b0dd-435a-dd06-ac8eb271e1ca"
      },
      "outputs": [],
      "source": [
        "matches = matches[['home_team_name', 'away_team_name', 'home_team_goal_count', 'away_team_goal_count','home_team_goal_timings', 'away_team_goal_timings','status']]\n",
        "matches.head(3)"
      ]
    },
    {
      "cell_type": "markdown",
      "metadata": {
        "id": "iqSNjA6hkN32"
      },
      "source": [
        "Ajuste dos nomes dos times (faz com que os times fiquem com os mesmos nomes, evitando confusões geradas por maiúsculas/minúsculas ou por nomes oficiais/populares)"
      ]
    },
    {
      "cell_type": "code",
      "execution_count": null,
      "metadata": {
        "id": "1LbHKYIbY9Qy"
      },
      "outputs": [],
      "source": [
        "def check_names(name1, name2):\n",
        "    # Comparar se um nome está contido no outro (ignora maiúsculas/minúsculas)\n",
        "    name1_lower = name1.lower()\n",
        "    name2_lower = name2.lower()\n",
        "    return name1_lower in name2_lower or name2_lower in name1_lower\n",
        "\n",
        "# Iterar pelas linhas do segundo DataFrame e comparar com o primeiro\n",
        "def adjust_names(matches_column):\n",
        "  for idx2, name2 in matches[matches_column].items():\n",
        "      for name1 in df['team_name']:\n",
        "          if check_names(name1, name2):\n",
        "              matches.at[idx2, matches_column] = name1\n",
        "              break\n",
        "\n",
        "adjust_names('home_team_name')\n",
        "adjust_names('away_team_name')"
      ]
    },
    {
      "cell_type": "markdown",
      "metadata": {
        "id": "3q4gOsaGqxEo"
      },
      "source": [
        "Aplica PCA sobre os dados para redução de dimensionalidade e plota gráfico Scree para seleção de melhor número de componentes principais."
      ]
    },
    {
      "cell_type": "code",
      "execution_count": null,
      "metadata": {
        "colab": {
          "base_uri": "https://localhost:8080/",
          "height": 542
        },
        "id": "Vyv-el04x5hk",
        "outputId": "72ab9918-d449-44d1-c46f-a42b0b8d0d21"
      },
      "outputs": [],
      "source": [
        "alt = df.drop(columns=df.select_dtypes(include='object')) # cria variável alternativa para análises posteriores\n",
        "\n",
        "# aplica método pca para comparação dos resultados\n",
        "pca = decomposition.PCA(n_components = 5) # Determina quantos componentes principais serão gerados\n",
        "pca_features = pca.fit_transform(alt) # Aplica o algoritmo de PCA e salva os novos dados em função dos componentes principais\n",
        "\n",
        "# Gera gráfico scree para pca\n",
        "fig = px.bar(x=range(1, len(pca.explained_variance_ratio_)+1),\n",
        "             y=pca.explained_variance_ratio_,\n",
        "             title='Gráfico Scree (Relação de Percentual de Variância e Componente Principal)',\n",
        "             labels={'x':'Componente Principal', 'y':'Percentual de variância'})\n",
        "fig.show()"
      ]
    },
    {
      "cell_type": "markdown",
      "metadata": {
        "id": "wl2g-Y2nrE1-"
      },
      "source": [
        "Plota g´rafico bidimensional para compreender como estes estão relacionados"
      ]
    },
    {
      "cell_type": "code",
      "execution_count": null,
      "metadata": {
        "colab": {
          "base_uri": "https://localhost:8080/",
          "height": 542
        },
        "id": "I-2G3h5_yifb",
        "outputId": "1286a8fe-7497-47ff-8d61-52c8c0d4e8d7"
      },
      "outputs": [],
      "source": [
        "# Plota gráfico bidimensional com os dados gerados a partir do método de PCA\n",
        "\n",
        "# Determina os eixos X e Y\n",
        "x = pca_features[:, 0]\n",
        "y = pca_features[:, 1]\n",
        "\n",
        "# Plota gráfico\n",
        "chart = px.scatter(x=x, y=y,\n",
        "                   title=\"Relação entre Componentes Principais 1 e 2\",\n",
        "                   labels={'x':'Componente Principal 1', 'y':'Componente Principal 2'})\n",
        "chart.show()"
      ]
    },
    {
      "cell_type": "markdown",
      "metadata": {
        "id": "VpPg1ff2rMy5"
      },
      "source": [
        "Plota mesmo gráfico anterior, mas com um novo eixo representando os valores do componente principal 3"
      ]
    },
    {
      "cell_type": "code",
      "execution_count": null,
      "metadata": {
        "colab": {
          "base_uri": "https://localhost:8080/",
          "height": 542
        },
        "id": "t1uOkuOeyyIX",
        "outputId": "36bcf999-6bc7-4eed-dadf-84ae19e0fd6d"
      },
      "outputs": [],
      "source": [
        "# Plota gráfico tridimensional dos pontos\n",
        "fig = px.scatter_3d(pca_features,\n",
        "                    x=pca_features[:, 0],\n",
        "                    y=pca_features[:, 1],\n",
        "                    z=pca_features[:,2],\n",
        "                    title='Relação entre componentes principais 1, 2 e 3',\n",
        "                    labels={'x':'Componente Principal 1', 'y':'Componente Principal 2', 'z':'Componente Principal 3'})\n",
        "fig.show()"
      ]
    },
    {
      "cell_type": "markdown",
      "metadata": {
        "id": "2Ez71quOra0Z"
      },
      "source": [
        "Cria matriz de gráfico de dispersão com o intuito de averiguar a relação entre pares de dados"
      ]
    },
    {
      "cell_type": "code",
      "execution_count": null,
      "metadata": {
        "colab": {
          "base_uri": "https://localhost:8080/",
          "height": 542
        },
        "id": "tndn0sT8zACo",
        "outputId": "c0ac8416-292d-4b09-835e-de454b63c5f8"
      },
      "outputs": [],
      "source": [
        "# Cria matriz comparando PCAs dois a dois\n",
        "px.scatter_matrix(pca_features)"
      ]
    },
    {
      "cell_type": "markdown",
      "metadata": {
        "id": "W0rjgiPI4Czk"
      },
      "source": [
        "## Clusterização e testes"
      ]
    },
    {
      "cell_type": "markdown",
      "metadata": {
        "id": "xlTGkiIzrqwB"
      },
      "source": [
        "Como anunciado na introdução deste notebook, a comparação que será utilizada para a predição ocorrerá através da comparação do comportamento do time em disputa contra times de um mesmo grupo. Nesse contexto, será necessário um metódo que seja capaz de gerar esses grupos baseados em características relevantes. Com isso, utilizou-se do algoritmo de clusterização K-Means [[3]](https://docs.aws.amazon.com/pt_br/sagemaker/latest/dg/algo-kmeans-tech-notes.html#:~:text=O%20k%2Dmeans%20%C3%A9%20um,n%C3%BAmero%20de%20atributos%20da%20observa%C3%A7%C3%A3o), para geração dos grupos."
      ]
    },
    {
      "cell_type": "markdown",
      "metadata": {
        "id": "ktIIUu_4RLRw"
      },
      "source": [
        "### Com PCA"
      ]
    },
    {
      "cell_type": "markdown",
      "metadata": {
        "id": "NeqX2hxorkTW"
      },
      "source": [
        "Gera gráfico Elbow para seleção do número de clusters ideal"
      ]
    },
    {
      "cell_type": "code",
      "execution_count": null,
      "metadata": {
        "colab": {
          "base_uri": "https://localhost:8080/",
          "height": 542
        },
        "id": "F4zHq7uS3yd2",
        "outputId": "01d44129-b688-4b66-95b8-af10c95e7cdf"
      },
      "outputs": [],
      "source": [
        "wcss = []\n",
        "for i in range(1, 11):\n",
        "    kmeans = KMeans(n_clusters = i, init = 'k-means++', n_init='auto')\n",
        "    kmeans.fit(pca_features)\n",
        "    wcss.append(kmeans.inertia_)\n",
        "\n",
        "px.line(x=range(1, 11), y=wcss)"
      ]
    },
    {
      "cell_type": "code",
      "execution_count": null,
      "metadata": {
        "colab": {
          "base_uri": "https://localhost:8080/"
        },
        "id": "Ym2fKZgM0-Oy",
        "outputId": "6816b456-0d3e-4142-921c-122738b3249b"
      },
      "outputs": [],
      "source": [
        "# Aplica clusterização usando k-means na base de dados geradas com PCA\n",
        "kmeans_pca = KMeans(n_clusters=3, n_init='auto')\n",
        "kmeans_pca.fit(pca_features)\n",
        "kmeans_pca.labels_ = kmeans_pca.labels_.astype(str)\n",
        "\n",
        "kmeans_pca.labels_"
      ]
    },
    {
      "cell_type": "code",
      "execution_count": null,
      "metadata": {
        "colab": {
          "base_uri": "https://localhost:8080/",
          "height": 676
        },
        "id": "PlH5kB8iIPl-",
        "outputId": "bccbb691-08ec-49ac-cc9b-3374ec7499bb"
      },
      "outputs": [],
      "source": [
        "pca_features = pd.concat([pd.DataFrame(pca_features), pd.DataFrame(df['team_name'])], axis=1)\n",
        "pca_features['Class'] = pd.Series(kmeans_pca.labels_, name=\"Class\")\n",
        "pca_features.head(20)"
      ]
    },
    {
      "cell_type": "code",
      "execution_count": null,
      "metadata": {
        "colab": {
          "base_uri": "https://localhost:8080/",
          "height": 542
        },
        "id": "IeL9Dp407gLW",
        "outputId": "85943839-f3c7-4ccd-baa1-ee7d800f01db"
      },
      "outputs": [],
      "source": [
        "# Plota gráfico bidimensional com os dados gerados a partir do método de PCA\n",
        "\n",
        "px.scatter(pca_features, x=0, y=1, color='Class',\n",
        "           title=\"Relação entre Componentes Principais 1 e 2\",\n",
        "           labels={'x':'Componente Principal 1', 'y':'Componente Principal 2'})"
      ]
    },
    {
      "cell_type": "code",
      "execution_count": null,
      "metadata": {
        "colab": {
          "base_uri": "https://localhost:8080/",
          "height": 542
        },
        "id": "oUm1kmdU7196",
        "outputId": "49862e8b-ce5c-4324-f697-8a659aeb007b"
      },
      "outputs": [],
      "source": [
        "# Plota gráfico tridimensional dos pontos\n",
        "fig = px.scatter_3d(pca_features,\n",
        "                    x=0,\n",
        "                    y=1,\n",
        "                    z=2,\n",
        "                    color='Class',\n",
        "                    title='Relação entre componentes principais 1, 2 e 3',\n",
        "                    labels={'x':'Componente Principal 1', 'y':'Componente Principal 2', 'z':'Componente Principal 3'})\n",
        "fig.show()\n"
      ]
    },
    {
      "cell_type": "code",
      "execution_count": null,
      "metadata": {
        "colab": {
          "base_uri": "https://localhost:8080/",
          "height": 542
        },
        "id": "jujwT8LL_vxF",
        "outputId": "c5151835-08d8-473c-e269-896a2daaf17b"
      },
      "outputs": [],
      "source": [
        "px.scatter_matrix(pca_features, [0, 1, 2, 3, 4], color=kmeans_pca.labels_)"
      ]
    },
    {
      "cell_type": "markdown",
      "metadata": {
        "id": "BfouRn8IRGnt"
      },
      "source": [
        "### Sem PCA"
      ]
    },
    {
      "cell_type": "code",
      "execution_count": null,
      "metadata": {
        "colab": {
          "base_uri": "https://localhost:8080/",
          "height": 542
        },
        "id": "D-eqqfno62wJ",
        "outputId": "4fb8f88e-acd2-4c84-8b6a-7fdd87d250b7"
      },
      "outputs": [],
      "source": [
        "wcss = []\n",
        "for i in range(1, 11):\n",
        "    kmeans = KMeans(n_clusters = i, init = 'k-means++', n_init='auto')\n",
        "    kmeans.fit(alt)\n",
        "    wcss.append(kmeans.inertia_)\n",
        "\n",
        "px.line(x=range(1, 11), y=wcss)"
      ]
    },
    {
      "cell_type": "code",
      "execution_count": null,
      "metadata": {
        "colab": {
          "base_uri": "https://localhost:8080/"
        },
        "id": "u6C7pycd7Iap",
        "outputId": "1d57e4df-081d-4e24-ac54-68a44e7cd88f"
      },
      "outputs": [],
      "source": [
        "kmeans_plain = KMeans(n_clusters=3, n_init='auto')\n",
        "kmeans_plain.fit(alt)\n",
        "kmeans_plain.labels_ = kmeans_plain.labels_.astype(str)\n",
        "\n",
        "kmeans_plain.labels_"
      ]
    },
    {
      "cell_type": "code",
      "execution_count": null,
      "metadata": {
        "colab": {
          "base_uri": "https://localhost:8080/",
          "height": 163
        },
        "id": "vnNsPeHmPkv-",
        "outputId": "9c5358a7-a995-43e5-add1-93e8b097d16f"
      },
      "outputs": [],
      "source": [
        "alt = pd.concat([pd.DataFrame(alt), pd.DataFrame(df['team_name'])], axis=1)\n",
        "alt['Class'] = pd.Series(kmeans_plain.labels_, name=\"Class\")\n",
        "alt.head(3)"
      ]
    },
    {
      "cell_type": "code",
      "execution_count": null,
      "metadata": {
        "colab": {
          "base_uri": "https://localhost:8080/",
          "height": 542
        },
        "id": "EFwdYRvuGy1f",
        "outputId": "f96292ae-5912-43f5-c8e2-408bd544ef23"
      },
      "outputs": [],
      "source": [
        "px.scatter(alt, x=alt.iloc[:, 0], y=alt.iloc[:, 1], color=alt['Class'],\n",
        "           title=\"Relação entre Componentes Principais 1 e 2\",\n",
        "           labels={'x':'Componente Principal 1', 'y':'Componente Principal 2'})"
      ]
    },
    {
      "cell_type": "code",
      "execution_count": null,
      "metadata": {
        "colab": {
          "base_uri": "https://localhost:8080/",
          "height": 542
        },
        "id": "w-c6d7FK8IfE",
        "outputId": "fbbae447-6060-475f-8dc3-7a48ec029dd5"
      },
      "outputs": [],
      "source": [
        "# Plota gráfico tridimensional dos pontos\n",
        "fig = px.scatter_3d(x=alt.iloc[:, 0],\n",
        "                    y=alt.iloc[:, 1],\n",
        "                    z=alt.iloc[:,2],\n",
        "                    color=alt['Class'],\n",
        "                    title='Relação entre componentes principais 1, 2 e 3',\n",
        "                    )\n",
        "fig.show()"
      ]
    },
    {
      "cell_type": "markdown",
      "metadata": {
        "id": "kw5olZOkSt3n"
      },
      "source": [
        "# Comparação por categoria de time"
      ]
    },
    {
      "cell_type": "markdown",
      "metadata": {
        "id": "_lCWfrJ1AZRB"
      },
      "source": [
        "## Definição de funções"
      ]
    },
    {
      "cell_type": "code",
      "execution_count": null,
      "metadata": {
        "colab": {
          "base_uri": "https://localhost:8080/"
        },
        "id": "ces2P-ErT9ri",
        "outputId": "5cd6b9ce-2b60-4b23-803d-5d4eedfe28af"
      },
      "outputs": [],
      "source": [
        "def first_goals_count(team_name, opponent_team_class):\n",
        "  team_first_goals_count = 0\n",
        "  for i in matches.iterrows():\n",
        "    min_target = 95\n",
        "    min_opponent = 95\n",
        "    if i[1]['home_team_name'] == team_name and opponent_team_class.isin([i[1]['away_team_name']]).any():\n",
        "      if int(i[1]['home_team_goal_count']) != 0:\n",
        "        try:\n",
        "          min_target = int(str(i[1]['home_team_goal_timings']).split(',')[0].replace(\"'\", '')[:2])\n",
        "        except ValueError:\n",
        "          min_target = 95\n",
        "\n",
        "      if int(i[1]['away_team_goal_count']) != 0:\n",
        "        try:\n",
        "          min_opponent = int(str(i[1]['away_team_goal_timings']).split(',')[0].replace(\"'\", '')[:2])\n",
        "        except ValueError:\n",
        "          min_opponent = 95\n",
        "\n",
        "    elif i[1]['away_team_name'] == team_name and opponent_team_class.isin([i[1]['home_team_name']]).any():\n",
        "      if int(i[1]['away_team_goal_count']) != 0:\n",
        "        try:\n",
        "          min_target = int(str(i[1]['away_team_goal_timings']).split(',')[0].replace(\"'\", '')[:2])\n",
        "        except ValueError:\n",
        "          min_target = 95\n",
        "\n",
        "      if int(i[1]['home_team_goal_count']) != 0:\n",
        "        try:\n",
        "          min_opponent = int(str(i[1]['home_team_goal_timings']).split(',')[0].replace(\"'\", '')[:2])\n",
        "        except ValueError:\n",
        "          min_opponent = 95\n",
        "\n",
        "    if min_target < min_opponent:\n",
        "      team_first_goals_count += 1\n",
        "\n",
        "  return team_first_goals_count\n",
        "\n",
        "def return_goal_probability(first_team, second_team, data):\n",
        "  first_team_class = data.loc[data['team_name'] == first_team, 'Class']\n",
        "  second_team_class = data.loc[data['team_name'] == second_team, 'Class']\n",
        "\n",
        "  if first_team_class.empty or second_team_class.empty:\n",
        "    return (0, 0)\n",
        "\n",
        "  first_class_teams = data.loc[(data['Class'] == first_team_class.iloc[0]), 'team_name']\n",
        "  second_class_teams = data.loc[(data['Class'] == second_team_class.iloc[0]), 'team_name']\n",
        "\n",
        "  first_team_fg = first_goals_count(first_team, second_class_teams)\n",
        "  second_team_fg = first_goals_count(second_team, first_class_teams)\n",
        "\n",
        "  first_team_goal_status = first_team_fg/matches[(matches['status'] == 'complete') & (((matches['home_team_name'] == first_team) & (matches['away_team_name'].isin(second_class_teams).any())) | ((matches['away_team_name'] == first_team) & (matches['home_team_name'].isin(second_class_teams).any())))]['home_team_name'].count()\n",
        "  second_team_goal_status = second_team_fg/matches[(matches['status'] == 'complete') & (((matches['home_team_name'] == second_team) & (matches['away_team_name'].isin(first_class_teams).any())) | ((matches['away_team_name'] == second_team) & (matches['home_team_name'].isin(first_class_teams).any())))]['home_team_name'].count()\n",
        "\n",
        "  first_team_goal_probability = first_team_goal_status/(first_team_goal_status+second_team_goal_status)\n",
        "  second_team_goal_probability = second_team_goal_status/(first_team_goal_status+second_team_goal_status)\n",
        "\n",
        "  return (first_team_goal_probability, second_team_goal_probability)\n",
        "\n",
        "first_team = 'Vasco da Gama'\n",
        "second_team = 'Flamengo'\n",
        "print(return_goal_probability(first_team, second_team, pca_features))"
      ]
    },
    {
      "cell_type": "code",
      "execution_count": null,
      "metadata": {
        "id": "QK4HLLl3Jd7w"
      },
      "outputs": [],
      "source": [
        "def first_goal(row):\n",
        "  # Função para limpar e converter os tempos dos gols para float\n",
        "  def convert_goal_timings(goal_timings):\n",
        "      if pd.isna(goal_timings) or not goal_timings:\n",
        "          return []\n",
        "      # Remove o apóstrofo e converte para float\n",
        "      return [float(time.replace(\"'\", \"\")) for time in goal_timings.split(',')]\n",
        "\n",
        "  # Extrai os momentos dos gols como listas de floats, ou lista vazia se não houver gols\n",
        "  home_goals = convert_goal_timings(row['home_team_goal_timings'])\n",
        "  away_goals = convert_goal_timings(row['away_team_goal_timings'])\n",
        "\n",
        "  # Combina os gols em uma lista de tuplas (time, tempo do gol)\n",
        "  all_goals = [(row['home_team_name'], goal_time) for goal_time in home_goals] + \\\n",
        "              [(row['away_team_name'], goal_time) for goal_time in away_goals]\n",
        "\n",
        "  # Se não houver gols, não há um primeiro a pontuar\n",
        "  if not all_goals:\n",
        "      return None\n",
        "\n",
        "  # Ordena os gols pelo tempo e retorna o time que fez o primeiro gol\n",
        "  first_goal = min(all_goals, key=lambda x: x[1])\n",
        "  return first_goal[0]"
      ]
    },
    {
      "cell_type": "code",
      "execution_count": null,
      "metadata": {
        "id": "4L-JLHjmSuOj"
      },
      "outputs": [],
      "source": [
        "def define_previsions(target, reference):\n",
        "  target['prevision'] = ''\n",
        "  for idx, row in target.iterrows():\n",
        "    prob1 = return_goal_probability(row['home_team_name'], row['away_team_name'], reference)[0]\n",
        "    prob2 = return_goal_probability(row['home_team_name'], row['away_team_name'], reference)[1]\n",
        "    if prob1 > prob2:\n",
        "      target.at[idx, 'prevision'] = row['home_team_name']\n",
        "    elif prob1 == prob2:\n",
        "      target.at[idx, 'prevision'] = None\n",
        "    else:\n",
        "      target.at[idx, 'prevision'] = row['away_team_name']\n",
        "  return target"
      ]
    },
    {
      "cell_type": "code",
      "execution_count": null,
      "metadata": {
        "id": "c2iVWCM7f_A2"
      },
      "outputs": [],
      "source": [
        "def give_results(target):\n",
        "  for idx, row in target.iterrows():\n",
        "    if row['first_goal'] == row['prevision']:\n",
        "      target.at[idx, 'result'] = \"Acerto\"\n",
        "    elif row['first_goal'] == None:\n",
        "      target.at[idx, 'result'] = \"Indeterminado\"\n",
        "    elif row['first_goal'] != row['prevision']:\n",
        "      target.at[idx, 'result'] = \"Erro\"\n",
        "  return target"
      ]
    },
    {
      "cell_type": "markdown",
      "metadata": {
        "id": "10F27jkT_WyG"
      },
      "source": [
        "## Análises com PCA"
      ]
    },
    {
      "cell_type": "code",
      "execution_count": null,
      "metadata": {
        "colab": {
          "base_uri": "https://localhost:8080/",
          "height": 237
        },
        "id": "KnZnTzrHeSDr",
        "outputId": "6199cb28-271e-4fb9-81ad-555a9c07a4ee"
      },
      "outputs": [],
      "source": [
        "partidas_pca = matches.loc[matches['status']== 'complete', ['home_team_name', 'away_team_name']]\n",
        "temp = matches.loc[matches['status']== 'complete', ['home_team_name', 'away_team_name', 'away_team_goal_timings', 'home_team_goal_timings']]\n",
        "\n",
        "partidas_pca['first_goal'] = temp.apply(first_goal, axis=1)\n",
        "partidas_pca = define_previsions(partidas_pca, pca_features)\n",
        "partidas_pca = give_results(partidas_pca)\n",
        "\n",
        "partidas_pca.head(6)"
      ]
    },
    {
      "cell_type": "code",
      "execution_count": null,
      "metadata": {
        "colab": {
          "base_uri": "https://localhost:8080/",
          "height": 209
        },
        "id": "DAICk0pjlxiZ",
        "outputId": "a0bfff91-3e1e-459c-8aae-15c69681ef05"
      },
      "outputs": [],
      "source": [
        "partidas_pca['result'].value_counts()"
      ]
    },
    {
      "cell_type": "code",
      "execution_count": null,
      "metadata": {
        "colab": {
          "base_uri": "https://localhost:8080/",
          "height": 542
        },
        "id": "yTbeUfyW9GVj",
        "outputId": "b0714384-9365-4061-8c6a-41886d5c4649"
      },
      "outputs": [],
      "source": [
        "px.histogram(partidas_pca, x='result', color='result', title='Distribuição dos resultados das previsões', labels={'result':'Resultado da previsão', 'count':'Contagem'})"
      ]
    },
    {
      "cell_type": "code",
      "execution_count": null,
      "metadata": {
        "colab": {
          "base_uri": "https://localhost:8080/",
          "height": 542
        },
        "id": "0J3XV7fT90n1",
        "outputId": "0e454ccc-37de-4161-cebb-08ce6b60746c"
      },
      "outputs": [],
      "source": [
        "px.pie(partidas_pca, names='result', title='Distribuição dos resultados das previsões (Com PCA)', labels={'result':'Resultado da previsão'})"
      ]
    },
    {
      "cell_type": "markdown",
      "metadata": {
        "id": "Cm7_1LegFfjl"
      },
      "source": [
        "## Sem PCA"
      ]
    },
    {
      "cell_type": "code",
      "execution_count": null,
      "metadata": {
        "colab": {
          "base_uri": "https://localhost:8080/",
          "height": 237
        },
        "id": "Jlg5lYVCFfPX",
        "outputId": "0c90d352-b2bf-4617-80b4-c37b03c25c5d"
      },
      "outputs": [],
      "source": [
        "partidas = matches.loc[matches['status']== 'complete', ['home_team_name', 'away_team_name']]\n",
        "temp = matches.loc[matches['status']== 'complete', ['home_team_name', 'away_team_name', 'away_team_goal_timings', 'home_team_goal_timings']]\n",
        "\n",
        "partidas['first_goal'] = temp.apply(first_goal, axis=1)\n",
        "partidas = define_previsions(partidas, alt)\n",
        "partidas = give_results(partidas)\n",
        "\n",
        "partidas.head(6)"
      ]
    },
    {
      "cell_type": "code",
      "execution_count": null,
      "metadata": {
        "colab": {
          "base_uri": "https://localhost:8080/",
          "height": 209
        },
        "id": "VsGyC_SFF9zQ",
        "outputId": "9329607a-3757-4cec-d0ce-e129da612d63"
      },
      "outputs": [],
      "source": [
        "partidas['result'].value_counts()"
      ]
    },
    {
      "cell_type": "code",
      "execution_count": null,
      "metadata": {
        "colab": {
          "base_uri": "https://localhost:8080/",
          "height": 542
        },
        "id": "3WvMOSyAGJkv",
        "outputId": "4c1190bb-41d2-41f1-8c32-c7d3e8fb17b3"
      },
      "outputs": [],
      "source": [
        "px.histogram(partidas, x='result', color='result', title='Distribuição dos resultados das previsões', labels={'result':'Resultado da previsão', 'y':'Contagem'})"
      ]
    },
    {
      "cell_type": "code",
      "execution_count": null,
      "metadata": {
        "colab": {
          "base_uri": "https://localhost:8080/",
          "height": 542
        },
        "id": "25jT22WxGdiH",
        "outputId": "859b2d22-1768-4f1c-962b-e2e74769e2a3"
      },
      "outputs": [],
      "source": [
        "px.pie(partidas, names='result', title='Distribuição dos resultados das previsões (Sem PCA)', labels={'result':'Resultado da previsão'})"
      ]
    },
    {
      "cell_type": "markdown",
      "metadata": {
        "id": "m4HGuxNtuDkI"
      },
      "source": [
        "Protótipo para front-end"
      ]
    },
    {
      "cell_type": "code",
      "execution_count": null,
      "metadata": {
        "colab": {
          "background_save": true,
          "base_uri": "https://localhost:8080/"
        },
        "id": "aCLcpRCXWQMV",
        "outputId": "3e5823db-7671-4c91-dfac-857122a0a6b8"
      },
      "outputs": [],
      "source": [
        "print(['Internacional','Criciúma', 'Fluminense', 'São Paulo', 'Vasco da Gama',\n",
        " 'Corinthians', 'Atlético PR', 'Atlético GO', 'Cruzeiro', 'Vitória', 'Bahia',\n",
        " 'Grêmio', 'Bragantino', 'Atlético Mineiro', 'Palmeiras', 'Fortaleza',\n",
        " 'Juventude', 'Flamengo', 'Botafogo', 'Cuiabá'])\n",
        "\n",
        "first_team = input('Digite o nome do primeiro time, conforme a lista anterior: ')\n",
        "second_team = input('Digite o nome do segundo time, conforme a lista anterior: ')\n",
        "\n",
        "prev = return_goal_probability(first_team, second_team, pca_features)\n",
        "\n",
        "res = [{'Team': first_team, 'Probability': prev[0]}, {'Team': second_team, 'Probability': prev[1]}]\n",
        "\n",
        "fig = go.Figure()\n",
        "\n",
        "fig.add_trace(go.Bar(\n",
        "    y=['Probability'],  # Use apenas uma categoria no eixo Y para simular a barra de progresso\n",
        "    x=[res[0]['Probability']],  # Probabilidade do primeiro time\n",
        "    name=res[0]['Team'],\n",
        "    orientation='h',\n",
        "    marker=dict(color='#B488F2')  # Defina a cor da primeira barra\n",
        "))\n",
        "\n",
        "fig.add_trace(go.Bar(\n",
        "    y=['Probability'],  # Mesmo eixo Y para empilhar\n",
        "    x=[res[1]['Probability']],  # Probabilidade do segundo time\n",
        "    name=res[1]['Team'],\n",
        "    orientation='h',\n",
        "    marker=dict(color='#88F298')  # Defina a cor da segunda barra\n",
        "))\n",
        "\n",
        "# Ajustes do layout\n",
        "fig.update_layout(\n",
        "    barmode='stack',  # Empilha as barras\n",
        "    title='Comparação de Probabilidades',\n",
        "    xaxis=dict(range=[0, 1]),  # Define o intervalo de 0 a 1 para representar porcentagens\n",
        "    yaxis_title=None,\n",
        "    xaxis_title='Probabilidade',\n",
        "    showlegend=True\n",
        ")\n",
        "\n",
        "fig.show()"
      ]
    }
  ],
  "metadata": {
    "colab": {
      "provenance": []
    },
    "kernelspec": {
      "display_name": "Python 3",
      "name": "python3"
    },
    "language_info": {
      "name": "python"
    }
  },
  "nbformat": 4,
  "nbformat_minor": 0
}
