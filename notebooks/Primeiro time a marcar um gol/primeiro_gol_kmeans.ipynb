{
  "cells": [
    {
      "cell_type": "markdown",
      "metadata": {
        "id": "L8tTIWFTWtuI"
      },
      "source": [
        "# Primeiro time a marcar um gol\n",
        "\n",
        "Este notebook tem como principal objetivo utilizar o algorito K-Means para determinar qual time possui a maior probabilidade de marcar o primeiro gol em uma partida.\n",
        "\n",
        "### K-Means - Algoritmo utilizado no modelo\n",
        "\n",
        "O K-Means é um algoritmo de aprendizado não supervisionado que agrupa dados em \"K\" clusters com base em suas características. Ele funciona atribuindo cada ponto de dado ao cluster mais próximo (com base na distância euclidiana), recalculando as médias dos clusters e repetindo até que as atribuições não mudem mais."
      ]
    },
    {
      "cell_type": "code",
      "execution_count": 17,
      "metadata": {
        "id": "fEQi38kbH7cY"
      },
      "outputs": [],
      "source": [
        "# Import das bibliotecas que serão utilizadas no modelo preditivo\n",
        "import pandas as pd\n",
        "import matplotlib.pyplot as plt\n",
        "import plotly.express as px\n",
        "import seaborn as sns\n",
        "import numpy as np\n",
        "from sklearn.impute import SimpleImputer\n",
        "from sklearn.cluster import KMeans\n",
        "from sklearn.metrics import confusion_matrix, accuracy_score, precision_recall_curve, silhouette_score\n",
        "from sklearn.model_selection import GridSearchCV\n",
        "from sklearn.preprocessing import label_binarize"
      ]
    },
    {
      "cell_type": "markdown",
      "metadata": {},
      "source": [
        "Leitura dos dados e merge dos dados de times, transformando-os em um único dataframe."
      ]
    },
    {
      "cell_type": "code",
      "execution_count": 18,
      "metadata": {
        "id": "yUak-ix0IH_c"
      },
      "outputs": [],
      "source": [
        "matches = pd.read_csv('../../data/brazil-serie-a-matches-2024-to-2024-stats (5).csv')\n",
        "times1 = pd.read_csv('../../data/brazil-serie-a-teams-2024-to-2024-stats (4).csv')\n",
        "times2 = pd.read_csv('../../data/brazil-serie-a-teams2-2024-to-2024-stats (2).csv')\n",
        "\n",
        "# Merge dos dataframes times1 e times2, transformando-os em um único dataframe teams\n",
        "teams = pd.merge(times1, times2, on=\"common_name\", how=\"left\")\n",
        "\n",
        "# Cria uma coluna chamada team_index, visando criar um indíce numérico para cada time\n",
        "teams.insert(0, \"team_index\", list(range(1, 21)))"
      ]
    },
    {
      "cell_type": "markdown",
      "metadata": {
        "id": "x8mHLb5VWtuN"
      },
      "source": [
        "## Limpeza de dados\n",
        "\n",
        "Limpeza de dados do dataframe de partidas, visando reduzir o dataframe apenas a tabelas importantes, além de remover dados vazios e partidas suspensas, canceladas e incompletas.\n",
        "\n",
        "Além disso, o SimpleImputer é utilizado para substituir valorez vazios pela média dos valores da coluna, estratégia que se provou mais eficaz do que substituir pela mediana ou por desconsiderar a linha."
      ]
    },
    {
      "cell_type": "code",
      "execution_count": 19,
      "metadata": {
        "id": "fcg2TDv5WtuO"
      },
      "outputs": [],
      "source": [
        "categorical_matches = pd.DataFrame(matches)\n",
        "categorical_matches = categorical_matches[~categorical_matches['status'].isin(['suspended', 'canceled', 'incomplete'])]\n",
        "#categorical_matches = categorical_matches[~categorical_matches['first_to_score'].isin(['N/A'])]\n",
        "\n",
        "matches = matches[[\"status\", \"home_team_name\", \"away_team_name\", \"first_to_score\"]]\n",
        "matches = matches[~matches['status'].isin(['suspended', 'canceled', 'incomplete'])]\n",
        "matches = matches[~matches['first_to_score'].isin(['N/A'])]"
      ]
    },
    {
      "cell_type": "code",
      "execution_count": 20,
      "metadata": {
        "id": "8K3idyKoWtuP"
      },
      "outputs": [],
      "source": [
        "# Separação do dataframe teams em um dataframe com colunas categóricas e um dataframe com colunas numéricas\n",
        "teams_categorical = teams\n",
        "teams = teams.select_dtypes(include=['int64', 'float64'])\n",
        "\n",
        "# Limpeza com imputer\n",
        "imputer_numbers = SimpleImputer(missing_values=np.nan, strategy=\"median\")\n",
        "imputer_numbers.fit(teams)"
      ]
    },
    {
      "cell_type": "markdown",
      "metadata": {},
      "source": [
        "Seleção de features e criação do dataframe que será utilizado para treinar o modelo preditivo."
      ]
    },
    {
      "cell_type": "code",
      "execution_count": 22,
      "metadata": {
        "collapsed": true,
        "id": "XkHcM2ZWTlzz"
      },
      "outputs": [],
      "source": [
        "selected_tables = [\n",
        "    \"wins\",\n",
        "    \"draws\",\n",
        "    \"losses\",\n",
        "    \"first_team_to_score_count\",\n",
        "    \"goals_scored\",\n",
        "    \"goals_conceded\",\n",
        "    \"clean_sheets\",\n",
        "    \"btts_count\",\n",
        "    \"fts_count\",\n",
        "]\n",
        "\n",
        "train_data = pd.DataFrame(teams[selected_tables])\n",
        "\n",
        "selected_tables.insert(1, \"common_name\")\n",
        "\n",
        "data = pd.DataFrame(teams)\n",
        "data[\"common_name\"] = teams_categorical[\"common_name\"]"
      ]
    },
    {
      "cell_type": "markdown",
      "metadata": {
        "id": "6eAWYb4coKvx"
      },
      "source": [
        "## Definição de hiperparâmetros\n",
        "\n",
        "Utilizando Grid Search, são testadas diversas configurações para o K-Means, visando encontrar a melhor configuração do modelo. Para chegar ao resultado do melhor modelo, é utiliza o índice da silhueta."
      ]
    },
    {
      "cell_type": "code",
      "execution_count": null,
      "metadata": {
        "colab": {
          "base_uri": "https://localhost:8080/",
          "height": 135
        },
        "id": "FnTrHP5mr_vU",
        "outputId": "8aa686f2-a056-4e40-f711-6624de8fda1f"
      },
      "outputs": [],
      "source": [
        "def silhouette_scorer(estimator, data):\n",
        "    labels = estimator.fit_predict(data)\n",
        "    return silhouette_score(data, labels)\n",
        "\n",
        "kmeans = KMeans()\n",
        "\n",
        "param_grid = {\n",
        "    'n_clusters': [3],\n",
        "    'n_init': [10, 20, 30],\n",
        "    'max_iter': [300, 500],\n",
        "    'tol': [1e-4, 1e-3]\n",
        "}\n",
        "\n",
        "grid_search = GridSearchCV(estimator=kmeans, param_grid=param_grid, scoring=silhouette_scorer, cv=3)\n",
        "grid_search.fit(teams)"
      ]
    },
    {
      "cell_type": "markdown",
      "metadata": {
        "id": "xlmpEwXWplli"
      },
      "source": [
        "## Definição do algoritmo\n",
        "\n",
        "Definição do algoritmo K-Means, passando as melhores configurações definidas pelos hiperparâmetros."
      ]
    },
    {
      "cell_type": "code",
      "execution_count": null,
      "metadata": {
        "colab": {
          "base_uri": "https://localhost:8080/",
          "height": 81
        },
        "id": "FpbyyxVzTRnJ",
        "outputId": "eea86615-5565-4b0c-e216-8c0b75167b96"
      },
      "outputs": [],
      "source": [
        "num_clusters = grid_search.best_params_['n_clusters']\n",
        "max_iter = grid_search.best_params_['max_iter']\n",
        "n_init = grid_search.best_params_['n_init']\n",
        "tol = grid_search.best_params_['tol']\n",
        "kmeans = KMeans(n_clusters=num_clusters, max_iter=max_iter, n_init=n_init, tol=tol)\n",
        "kmeans.fit(train_data)"
      ]
    },
    {
      "cell_type": "code",
      "execution_count": 25,
      "metadata": {
        "id": "EueKJJUVRc04"
      },
      "outputs": [],
      "source": [
        "centroids = kmeans.cluster_centers_\n",
        "labels = kmeans.labels_"
      ]
    },
    {
      "cell_type": "markdown",
      "metadata": {
        "id": "NqEFJHmWp_y0"
      },
      "source": [
        "Plotagem de um gráfico de barras, visando demonstrar os pesos de cada feature nas previsões do modelo."
      ]
    },
    {
      "cell_type": "code",
      "execution_count": null,
      "metadata": {
        "colab": {
          "base_uri": "https://localhost:8080/",
          "height": 565
        },
        "id": "Up8nJDi4WtuT",
        "outputId": "6d29eff3-36f5-44a8-ff47-5142f456bdcb"
      },
      "outputs": [],
      "source": [
        "variable_weights = pd.DataFrame(dict(zip(train_data.columns, kmeans.cluster_centers_[labels])))\n",
        "variable_weights = variable_weights.mean().sort_values()\n",
        "\n",
        "plt.figure(figsize=(10, 6))\n",
        "plt.barh(variable_weights.index, variable_weights.values, color='skyblue')\n",
        "plt.xlabel(\"Média dos Pesos\")\n",
        "plt.title(\"Variáveis Ordenadas pelos Maiores Pesos\")\n",
        "plt.show()\n",
        "\n",
        "matches = pd.DataFrame(matches)"
      ]
    },
    {
      "cell_type": "markdown",
      "metadata": {
        "id": "12giVsAwqLLZ"
      },
      "source": [
        "## Plotagem dos gráficos dos clusters gerados pelo K-Means\n",
        "\n",
        "O K-Means teve a responsabilidade de separar cada time participante do Brasilerão em três categorias, sendo elas, times pequenos, times médios e times grandes. A partir dessa separação é possível calcular a probabilidade de cada time fazer o primeiro gol em uma partida."
      ]
    },
    {
      "cell_type": "code",
      "execution_count": null,
      "metadata": {
        "colab": {
          "base_uri": "https://localhost:8080/",
          "height": 997
        },
        "id": "oeOQ1h81WtuT",
        "outputId": "8786f05f-a9a5-4ba9-9f8d-92de9b506109"
      },
      "outputs": [],
      "source": [
        "plt.scatter(data[labels == 2]['first_team_to_score_count'], data[labels == 2]['clean_sheets'], color='red', label='Grandes')\n",
        "plt.scatter(data[labels == 1]['first_team_to_score_count'], data[labels == 1]['clean_sheets'], color='blue', label='Médio')\n",
        "plt.scatter(data[labels == 0]['first_team_to_score_count'], data[labels == 0]['clean_sheets'], color='green', label='Pequeno')\n",
        "plt.scatter(centroids[:, 0], centroids[:, 1], color='black', marker='x', label='Centroids')\n",
        "plt.xlabel('Wins')\n",
        "plt.ylabel('Losses')\n",
        "plt.title('Clusters dos times')\n",
        "plt.legend()\n",
        "plt.show()\n",
        "\n",
        "fig = px.scatter_3d(train_data, x='first_team_to_score_count', y='fts_count', z='clean_sheets', color='first_team_to_score_count', title='Clusters dos times', labels={\n",
        "        'first_team_to_score_count': 'Primeiro Time a Marcar',\n",
        "        'fts_count': 'FTS',\n",
        "        'clean_sheets': 'Jogos Sem Sofrer Gol'\n",
        "    })\n",
        "fig.add_scatter3d(x=centroids[:, 0], y=centroids[:, 1], z=centroids[:, 2], mode='markers', marker=dict(color='black', size=2, symbol='x'), name='Centroids')\n",
        "fig.show()"
      ]
    },
    {
      "cell_type": "markdown",
      "metadata": {
        "id": "gTKtDBjjq2Cn"
      },
      "source": [
        "Criação do DataFrame de resultados do modelo, e os times, que antes estavam separados entre os clusters 0, 1 e 2, agora foram separados de forma categórica, indicando os grupos através dos títulos Pequeno, Médio e Grande."
      ]
    },
    {
      "cell_type": "code",
      "execution_count": 28,
      "metadata": {
        "id": "Nhq0wNh4WtuU"
      },
      "outputs": [],
      "source": [
        "results_km = pd.DataFrame()\n",
        "results_km[\"team_index\"] = data[\"team_index\"]\n",
        "results_km[\"team_name\"] = data[\"common_name\"]\n",
        "results_km[\"labels_classif\"] = labels\n",
        "\n",
        "classificacao = list()\n",
        "for i in range(0, 20):\n",
        "    mapeamento_classificacao = {0: \"Grande\", 1: \"Médio\", 2: \"Pequeno\"}\n",
        "    classificacao.append(mapeamento_classificacao.get(results_km[\"labels_classif\"][i], \"Desconhecido\"))\n",
        "\n",
        "results_km[\"classificacao\"] = classificacao"
      ]
    },
    {
      "cell_type": "code",
      "execution_count": 29,
      "metadata": {
        "id": "1DxNjMIwWtuU"
      },
      "outputs": [],
      "source": [
        "times_classificados = { \"Pequeno\": list(), \"Médio\": list(), \"Grande\": list() }\n",
        "\n",
        "index = 0\n",
        "for key, value in results_km[\"classificacao\"].items():\n",
        "    times_classificados[value].append(results_km[\"team_name\"][index])\n",
        "    index += 1"
      ]
    },
    {
      "cell_type": "markdown",
      "metadata": {
        "id": "G7kKVDMeWtuU"
      },
      "source": [
        "## Cálculo da probabilidade\n",
        "\n",
        "Para calcular a probabilidade de cada time fazer o primeiro gol, foi utilizada a seguinte fórmula matemática:\n",
        "\n",
        "P(1° gol) = TAxX / Qpm\n",
        "\n",
        "- **TAxX**: O TAxX é o total de 1°s gols do time A contra times do grupo X, sendo o grupo X o grupo ao qual o time B pertence.\n",
        "- **Qpm**: Quantidade de partidas que o time A disputou contra times do grupo X, sendo o grupo X o grupo ao qual o time B pertence."
      ]
    },
    {
      "cell_type": "code",
      "execution_count": 30,
      "metadata": {
        "id": "b4xw0KgdWtuU"
      },
      "outputs": [],
      "source": [
        "def calcular_probabilidade(time_a, time_b):\n",
        "    grupo_time_b = list()\n",
        "    for grupo in times_classificados.values():\n",
        "        if grupo.__contains__(time_b):\n",
        "            grupo_time_b = grupo\n",
        "\n",
        "    a_team_matches = matches.query(f\"home_team_name == '{time_a}' or away_team_name == '{time_a}'\")\n",
        "    a_team_matches_against_group_b = a_team_matches[a_team_matches['away_team_name'].isin(grupo_time_b) | a_team_matches['home_team_name'].isin(grupo_time_b)]\n",
        "\n",
        "    TAxX = a_team_matches_against_group_b[a_team_matches_against_group_b['first_to_score'] == time_a].shape[0]\n",
        "\n",
        "    Qpm = len(a_team_matches_against_group_b)\n",
        "\n",
        "    probabilidade = TAxX / Qpm if TAxX > 0 and Qpm > 0 else 0.5\n",
        "\n",
        "    return probabilidade"
      ]
    },
    {
      "cell_type": "markdown",
      "metadata": {
        "id": "zwcbv0sqmgMY"
      },
      "source": [
        "Considerando que a função `calcular_probabilidade()` retorna a probabilidade de cada time fazer o primeiro gol, a função `comparar_times()` retorna o nome que tem a maior probabilidade de fazer o primeiro gol."
      ]
    },
    {
      "cell_type": "code",
      "execution_count": 31,
      "metadata": {
        "id": "xW3xKcOUWtuU"
      },
      "outputs": [],
      "source": [
        "def comparar_times(time_a, time_b):\n",
        "    prob_a = calcular_probabilidade(time_a, time_b)\n",
        "    prob_b = calcular_probabilidade(time_b, time_a)\n",
        "\n",
        "    soma_probabs = prob_a + prob_b\n",
        "    prob_a = (prob_a / soma_probabs) * 100\n",
        "    prob_b = (prob_b / soma_probabs) * 100\n",
        "    \n",
        "    if prob_a == prob_b:\n",
        "        return \"Empate\"\n",
        "    \n",
        "    return time_a if prob_a > prob_b else time_b"
      ]
    },
    {
      "cell_type": "code",
      "execution_count": null,
      "metadata": {
        "colab": {
          "base_uri": "https://localhost:8080/"
        },
        "id": "dY6rA5BSWtuV",
        "outputId": "3a4060c7-1661-4df2-be6a-af600eb7fa17"
      },
      "outputs": [],
      "source": [
        "def prever_primeiro_gol(row):\n",
        "    time_a = row['home_team_name']\n",
        "    time_b = row['away_team_name']\n",
        "    resultado = comparar_times(time_a, time_b)\n",
        "\n",
        "    if time_a in resultado:\n",
        "        return time_a\n",
        "    elif time_b in resultado:\n",
        "        return time_b\n",
        "    else:\n",
        "        return 'Empate'\n",
        "\n",
        "matches['previsao_primeiro_gol'] = matches.apply(prever_primeiro_gol, axis=1)\n",
        "\n",
        "matches = matches.dropna(subset=['previsao_primeiro_gol', 'first_to_score'])\n",
        "\n",
        "matches['previsao_primeiro_gol'] = matches['previsao_primeiro_gol'].astype(str)\n",
        "matches['first_to_score'] = matches['first_to_score'].astype(str)\n",
        "\n",
        "y_true = matches['first_to_score']\n",
        "y_pred = matches['previsao_primeiro_gol']"
      ]
    },
    {
      "cell_type": "markdown",
      "metadata": {
        "id": "an_LN1a-WtuV"
      },
      "source": [
        "## Métricas do modelo\n",
        "\n",
        "Para demonstrar o resultado do modelo, as seguintes métricas são definidas:\n",
        "\n",
        "- Matriz de confusão\n",
        "- Cálculo da acurácia\n",
        "- Total de erros e acertos\n",
        "- Curva de precisão e recall\n",
        "- Indíce da silhueta\n",
        "\n",
        "Através dessas métricas, é possível avaliar a qualidade do modelo, assim como permite identificar onde ele deve melhorar."
      ]
    },
    {
      "cell_type": "markdown",
      "metadata": {},
      "source": [
        "Plotagem da matriz de confusão, além de mostrar métricas relacionadas a acurácio do modelo e quantidade total de acertos e erros."
      ]
    },
    {
      "cell_type": "code",
      "execution_count": null,
      "metadata": {
        "colab": {
          "base_uri": "https://localhost:8080/",
          "height": 789
        },
        "id": "78D1HLshWtuV",
        "outputId": "3483dc5e-dd92-4736-fc05-1b1a0a083b9d"
      },
      "outputs": [],
      "source": [
        "matriz_confusao = confusion_matrix(y_true, y_pred, labels=matches['first_to_score'].unique())\n",
        "\n",
        "plt.figure(figsize=(10,7))\n",
        "sns.heatmap(matriz_confusao, annot=True, fmt='d', cmap='Blues',\n",
        "            xticklabels=matches['first_to_score'].unique(),\n",
        "            yticklabels=matches['first_to_score'].unique())\n",
        "\n",
        "plt.title('Matriz de Confusão - Previsão vs Realidade')\n",
        "plt.xlabel('Times Previstos')\n",
        "plt.ylabel('Times Reais')\n",
        "plt.show()\n",
        "\n",
        "acertos = matriz_confusao.diagonal().sum()\n",
        "erros = matriz_confusao.sum() - acertos\n",
        "print(f\"Total de acertos: {acertos}\")\n",
        "print(f\"Total de erros: {erros}\")\n",
        "\n",
        "acuracia = accuracy_score(y_true, y_pred)\n",
        "print(f\"Acurácia do modelo: {(acuracia * 100):.2f}%\")\n"
      ]
    },
    {
      "cell_type": "markdown",
      "metadata": {
        "id": "PmzU1GmtWtuV"
      },
      "source": [
        "Plota um Gráfico que visa demonstra a curva de precisão e recall"
      ]
    },
    {
      "cell_type": "code",
      "execution_count": null,
      "metadata": {
        "colab": {
          "base_uri": "https://localhost:8080/",
          "height": 564
        },
        "id": "LxXdaa6xWtuV",
        "outputId": "26661408-3ff5-42a2-968e-b9c9bf10094e"
      },
      "outputs": [],
      "source": [
        "classes = matches['first_to_score'].unique()\n",
        "y_true_bin = label_binarize(y_true, classes=classes)\n",
        "y_pred_bin = label_binarize(y_pred, classes=classes)\n",
        "\n",
        "precision = dict()\n",
        "recall = dict()\n",
        "for i in range(len(classes)):\n",
        "    precision[i], recall[i], _ = precision_recall_curve(y_true_bin[:, i], y_pred_bin[:, i])\n",
        "\n",
        "plt.figure(figsize=(8, 6))\n",
        "for i in range(len(classes)):\n",
        "    plt.plot(recall[i], precision[i], marker='.', label=classes[i])\n",
        "\n",
        "plt.xlabel('Recall')\n",
        "plt.ylabel('Precision')\n",
        "plt.title('Curva de Precisão-Recall para cada time')\n",
        "#plt.legend()\n",
        "plt.grid(True)\n",
        "plt.show()"
      ]
    },
    {
      "cell_type": "code",
      "execution_count": null,
      "metadata": {
        "colab": {
          "base_uri": "https://localhost:8080/"
        },
        "id": "TWgOkPA4lC2P",
        "outputId": "2b3e9995-83fa-40a8-e2bf-29b44fd8ed4a"
      },
      "outputs": [],
      "source": [
        "inertia = kmeans.inertia_\n",
        "print(f\"Inércia: {inertia}\")"
      ]
    },
    {
      "cell_type": "markdown",
      "metadata": {},
      "source": [
        "Gráfico representando o Índice da Silhueta e o Método do Cotovelo."
      ]
    },
    {
      "cell_type": "code",
      "execution_count": null,
      "metadata": {
        "colab": {
          "base_uri": "https://localhost:8080/",
          "height": 490
        },
        "id": "_Gt0QRk7omUt",
        "outputId": "6b707469-f480-4067-a4d0-59272403e21e"
      },
      "outputs": [],
      "source": [
        "silhouette_avg = silhouette_score(teams, kmeans.labels_)\n",
        "print(f\"Índice de Silhueta: {silhouette_avg}\")\n",
        "\n",
        "inertia_values = []\n",
        "\n",
        "for n_clusters in range(1, 11):\n",
        "    kmeans = KMeans(n_clusters=n_clusters)\n",
        "    kmeans.fit(teams)\n",
        "    inertia_values.append(kmeans.inertia_)\n",
        "\n",
        "plt.plot(range(1, 11), inertia_values, marker='o')\n",
        "plt.xlabel('Número de Clusters')\n",
        "plt.ylabel('Inércia')\n",
        "plt.title('Método do Cotovelo')\n",
        "plt.show()"
      ]
    }
  ],
  "metadata": {
    "colab": {
      "provenance": []
    },
    "kernelspec": {
      "display_name": "Python 3",
      "name": "python3"
    },
    "language_info": {
      "codemirror_mode": {
        "name": "ipython",
        "version": 3
      },
      "file_extension": ".py",
      "mimetype": "text/x-python",
      "name": "python",
      "nbconvert_exporter": "python",
      "pygments_lexer": "ipython3",
      "version": "3.12.3"
    }
  },
  "nbformat": 4,
  "nbformat_minor": 0
}
