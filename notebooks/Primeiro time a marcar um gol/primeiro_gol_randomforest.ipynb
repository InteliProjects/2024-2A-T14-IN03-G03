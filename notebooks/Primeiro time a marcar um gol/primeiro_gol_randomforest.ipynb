{
  "cells": [
    {
      "cell_type": "markdown",
      "metadata": {},
      "source": [
        "# Primeiro time a marcar um gol\n",
        "\n",
        "Este notebook tem como principal objetivo utilizar o algorito K-Means para determinar qual time possui a maior probabilidade de marcar o primeiro gol em uma partida.\n",
        "\n",
        "### Random Forest e K-Means - Algoritmos utilizado no modelo\n",
        "\n",
        "O Random Forest é um algoritmo de aprendizado supervisionado que usa uma coleção de várias árvores de decisão (floresta) para fazer previsões. Ele cria várias árvores de forma aleatória e combina seus resultados para melhorar a precisão e evitar o overfitting. Cada árvore contribui com um \"voto\" para a previsão final, sendo uma média ou uma votação majoritária. Já o K-Means é um algoritmo de aprendizado não supervisionado que agrupa dados em \"K\" clusters com base em suas características. Ele funciona atribuindo cada ponto de dado ao cluster mais próximo (com base na distância euclidiana), recalculando as médias dos clusters e repetindo até que as atribuições não mudem mais.\n",
        "\n",
        "Ambos os algoritmos são utilizados neste notebook, uma vez que o Random Forest é utilizado para calcular as probabilidades de cada time fazer o primeiro gol e o K-Means é responsável por criar os clusters e separar os times em grupos."
      ]
    },
    {
      "cell_type": "code",
      "execution_count": null,
      "metadata": {
        "id": "fEQi38kbH7cY"
      },
      "outputs": [],
      "source": [
        "import pandas as pd\n",
        "import matplotlib.pyplot as plt\n",
        "from sklearn.ensemble import RandomForestClassifier\n",
        "from sklearn.cluster import KMeans\n",
        "from sklearn.metrics import silhouette_score"
      ]
    },
    {
      "cell_type": "code",
      "execution_count": 2,
      "metadata": {
        "id": "yUak-ix0IH_c"
      },
      "outputs": [],
      "source": [
        "matches = pd.read_csv('../../data/brazil-serie-a-matches-2024-to-2024-stats (5).csv')\n",
        "times1 = pd.read_csv('../../data/brazil-serie-a-teams-2024-to-2024-stats (4).csv')\n",
        "times2 = pd.read_csv('../../data/brazil-serie-a-teams2-2024-to-2024-stats (2).csv')"
      ]
    },
    {
      "cell_type": "code",
      "execution_count": 3,
      "metadata": {
        "colab": {
          "base_uri": "https://localhost:8080/"
        },
        "collapsed": true,
        "id": "bY9G2H06MO7L",
        "outputId": "a6ed60d3-4ea9-403f-9c73-3cc732e48054"
      },
      "outputs": [],
      "source": [
        "\n",
        "teams = pd.merge(times1, times2, on=\"team_name\", how=\"left\")\n",
        "\n",
        "teams.insert(0, \"team_index\", list(range(1, 21)))"
      ]
    },
    {
      "cell_type": "code",
      "execution_count": 4,
      "metadata": {
        "collapsed": true,
        "id": "XkHcM2ZWTlzz"
      },
      "outputs": [],
      "source": [
        "selected_tables = [\n",
        "    \"team_index\",\n",
        "    \"wins\",\n",
        "    \"draws\",\n",
        "    \"losses\",\n",
        "    \"first_team_to_score_count\",\n",
        "    \"goals_scored\",\n",
        "    \"goals_conceded\",\n",
        "    \"goals_scored_half_time\",\n",
        "    \"goals_conceded_half_time\",\n",
        "    \"goal_difference_half_time\",\n",
        "    \"clean_sheets\",\n",
        "    \"btts_count\",\n",
        "    \"fts_count\",\n",
        "    \"leading_at_half_time\",\n",
        "    \"draw_at_half_time\",\n",
        "    \"losing_at_half_time\",\n",
        "    \"scoredBothHalves_overall\"\n",
        "]\n",
        "\n",
        "number_data = pd.DataFrame(teams[selected_tables])\n",
        "\n",
        "selected_tables.insert(1, \"team_name\")\n",
        "\n",
        "data = pd.DataFrame(teams[selected_tables])"
      ]
    },
    {
      "cell_type": "markdown",
      "metadata": {},
      "source": [
        "---"
      ]
    },
    {
      "cell_type": "code",
      "execution_count": 5,
      "metadata": {},
      "outputs": [],
      "source": [
        "x = number_data\n",
        "y = number_data[\"team_index\"]"
      ]
    },
    {
      "cell_type": "code",
      "execution_count": null,
      "metadata": {},
      "outputs": [],
      "source": [
        "rf = RandomForestClassifier(n_estimators=100, random_state=42)\n",
        "rf.fit(x, y)"
      ]
    },
    {
      "cell_type": "code",
      "execution_count": 7,
      "metadata": {},
      "outputs": [],
      "source": [
        "probabilities = rf.predict_proba(number_data)\n",
        "kmeans = KMeans(n_clusters=3, random_state=42)\n",
        "clusters = kmeans.fit_predict(probabilities)\n",
        "centroids = kmeans.cluster_centers_"
      ]
    },
    {
      "cell_type": "code",
      "execution_count": null,
      "metadata": {},
      "outputs": [],
      "source": [
        "silhouette_avg = silhouette_score(probabilities, clusters)\n",
        "print(\"Silhouette coefficient:\", silhouette_avg)\n",
        "\n",
        "plt.scatter(data[clusters == 0]['wins'], data[clusters == 0]['losses'], color='red', label='Grandes')\n",
        "plt.scatter(data[clusters == 1]['wins'], data[clusters == 1]['losses'], color='blue', label='Médio')\n",
        "plt.scatter(data[clusters == 2]['wins'], data[clusters == 2]['losses'], color='green', label='Pequeno')\n",
        "plt.scatter(centroids[:, 0], centroids[:, 1], color='black', marker='x', label='Centroids')\n",
        "plt.xlabel('Wins')\n",
        "plt.ylabel('Losses')\n",
        "plt.title('Clusters of Teams')\n",
        "plt.legend()\n",
        "plt.show()"
      ]
    },
    {
      "cell_type": "code",
      "execution_count": null,
      "metadata": {},
      "outputs": [],
      "source": [
        "probabilities = rf.predict_proba(number_data)\n",
        "\n",
        "kmeans = KMeans(n_clusters=3, random_state=42)\n",
        "clusters = kmeans.fit_predict(probabilities)\n",
        "\n",
        "results_rf = pd.DataFrame()\n",
        "\n",
        "results_rf['team_name'] = data[\"team_name\"]\n",
        "results_rf['prob_class_1'] = probabilities[:, 0]\n",
        "results_rf['prob_class_2'] = probabilities[:, 1]\n",
        "results_rf['prob_class_3'] = probabilities[:, 2]\n",
        "results_rf['cluster'] = clusters\n",
        "\n",
        "centroids = kmeans.cluster_centers_\n",
        "\n",
        "plt.scatter(data[results_rf['cluster'] == 0]['wins'], data[results_rf['cluster'] == 0]['losses'], color='red', label='Grandes')\n",
        "plt.scatter(data[results_rf['cluster'] == 1]['wins'], data[results_rf['cluster'] == 1]['losses'], color='blue', label='Médio')\n",
        "plt.scatter(data[results_rf['cluster'] == 2]['wins'], data[results_rf['cluster'] == 2]['losses'], color='green', label='Pequeno')\n",
        "\n",
        "plt.scatter(centroids[:, 0], centroids[:, 1], color='black', marker='x', label='Centroids')\n",
        "\n",
        "plt.xlabel('Wins')\n",
        "plt.ylabel('Losses')\n",
        "plt.title('Clusters of Teams')\n",
        "plt.legend()\n",
        "plt.show()"
      ]
    },
    {
      "cell_type": "code",
      "execution_count": null,
      "metadata": {},
      "outputs": [],
      "source": [
        "print(results_rf)"
      ]
    }
  ],
  "metadata": {
    "colab": {
      "provenance": []
    },
    "kernelspec": {
      "display_name": "Python 3",
      "name": "python3"
    },
    "language_info": {
      "codemirror_mode": {
        "name": "ipython",
        "version": 3
      },
      "file_extension": ".py",
      "mimetype": "text/x-python",
      "name": "python",
      "nbconvert_exporter": "python",
      "pygments_lexer": "ipython3",
      "version": "3.12.3"
    }
  },
  "nbformat": 4,
  "nbformat_minor": 0
}
