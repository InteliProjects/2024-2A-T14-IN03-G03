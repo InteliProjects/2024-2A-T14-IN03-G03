{
 "cells": [
  {
   "cell_type": "markdown",
   "metadata": {},
   "source": [
    "LASSO (Least Absolute Shrinkage and Selection Operator) é um método de regressão linear que busca melhorar a precisão dos modelos e reduzir a complexidade ao aplicar uma penalidade sobre os coeficientes de regressão, forçando alguns deles a serem exatamente zero. Isso resulta na seleção automática de variáveis, ou seja, o modelo mantém apenas as mais relevantes. O LASSO é especialmente útil quando há muitas variáveis explicativas e se deseja evitar overfitting, ao mesmo tempo em que se simplifica o modelo."
   ]
  },
  {
   "cell_type": "code",
   "execution_count": null,
   "metadata": {},
   "outputs": [],
   "source": [
    "import shap\n",
    "import pandas as pd\n",
    "import numpy as np\n",
    "from sklearn.impute import SimpleImputer\n",
    "from sklearn.preprocessing import StandardScaler\n",
    "from sklearn.linear_model import Lasso\n",
    "from sklearn.decomposition import PCA\n",
    "from sklearn.metrics import mean_squared_error, r2_score, mean_absolute_error\n",
    "from sklearn.model_selection import GridSearchCV"
   ]
  },
  {
   "cell_type": "markdown",
   "metadata": {},
   "source": [
    "Limpeza dos Dados:"
   ]
  },
  {
   "cell_type": "code",
   "execution_count": null,
   "metadata": {},
   "outputs": [],
   "source": [
    "df = pd.read_csv('./Data/jogadores.csv')"
   ]
  },
  {
   "cell_type": "code",
   "execution_count": null,
   "metadata": {},
   "outputs": [],
   "source": [
    "lista = ['age', 'birthday', 'birthday_GMT', 'league', 'season', 'nationality', 'clean_sheets_overall', 'clean_sheets_home', 'clean_sheets_away', 'conceded_overall', 'conceded_away', 'conceded_home', 'yellow_cards_overall', 'red_cards_overall', 'min_per_conceded_overall', 'min_per_card_overall', 'cards_per_90_overall', 'rank_in_league_top_attackers', 'rank_in_league_top_midfielders', 'rank_in_league_top_defenders', 'rank_in_club_top_scorer', 'passes_per_90_overall', 'passes_per_game_overall', 'passes_per90_percentile_overall', 'passes_total_overall', 'passes_completed_per_game_overall', 'passes_completed_total_overall', 'pass_completion_rate_percentile_overall', 'passes_completed_per_90_overall', 'passes_completed_per90_percentile_overall', 'short_passes_per_game_overall', 'long_passes_per_game_overall', 'key_passes_per_game_overall', 'key_passes_total_overall', 'through_passes_per_game_overall', 'crosses_per_game_overall', 'dispossesed_per_game_overall', 'possession_regained_per_game_overall', 'pressures_per_game_overall', 'saves_per_game_overall', 'interceptions_per_game_overall', 'shots_faced_per_game_overall', 'shots_per_goal_scored_overall', 'shots_off_target_per_game_overall', 'distance_travelled_per_game_overall', 'possession_regained_per_90_overall', 'possession_regained_total_overall', 'possession_regained_per90_percentile_overall', 'additional_info', 'shots_off_target_total_overall', 'shots_off_target_per_90_overall', 'shots_off_target_per90_percentile_overall', 'games_subbed_out', 'interceptions_total_overall', 'interceptions_per_90_overall', 'interceptions_per90_percentile_overall', 'crosses_total_overall', 'cross_completion_rate_percentile_overall', 'crosses_per_90_overall', 'crosses_per90_percentile_overall', 'through_passes_total_overall', 'through_passes_per_90_overall', 'through_passes_per90_percentile_overall', 'long_passes_total_overall', 'long_passes_per_90_overall', 'long_passes_per90_percentile_overall', 'short_passes_total_overall', 'short_passes_per_90_overall', 'short_passes_per90_percentile_overall', 'key_passes_per_90_overall', 'key_passes_per90_percentile_overall', 'dribbles_total_overall', 'dribbles_per_90_overall', 'dribbles_per90_percentile_overall', 'dribbles_successful_total_overall', 'dribbles_successful_per_90_overall', 'dribbles_successful_percentage_overall', 'chances_created_total_overall', 'chances_created_per_90_overall', 'chances_created_per90_percentile_overall', 'saves_total_overall', 'save_percentage_percentile_overall', 'saves_per_90_overall', 'saves_per90_percentile_overall', 'shots_faced_total_overall', 'shots_per_goal_conceded_overall', 'shots_faced_per_90_overall', 'shots_faced_per90_percentile_overall', 'xg_faced_per_90_overall', 'xg_faced_per90_percentile_overall', 'xg_faced_per_game_overall', 'xg_faced_total_overall', 'save_percentage_overall', 'pressures_total_overall', 'pressures_per_90_overall', 'pressures_per90_percentile_overall', 'xg_total_overall', 'market_value', 'market_value_percentile', 'pass_completion_rate_overall', 'dribbled_past_per90_percentile_overall', 'dribbled_past_per_game_overall', 'dribbled_past_per_90_overall', 'dribbled_past_total_overall', 'inside_box_saves_total_overall', 'blocks_per_game_overall', 'blocks_per_90_overall', 'blocks_total_overall', 'blocks_per90_percentile_overall', 'ratings_total_overall', 'clearances_per_game_overall', 'clearances_total_overall', 'clearances_per_90_overall', 'pen_save_percentage_overall', 'pen_committed_total_overall', 'pen_committed_per_90_overall', 'pen_committed_per90_percentile_overall', 'pen_committed_per_game_overall', 'pens_saved_total_overall', 'pens_taken_total_overall', 'hit_woodwork_total_overall', 'hit_woodwork_per_90_overall', 'punches_total_overall', 'punches_per_game_overall', 'punches_per_90_overall', 'offsides_per_90_overall', 'offsides_per_game_overall', 'offsides_total_overall', 'shot_conversion_rate_overall', 'shot_conversion_rate_percentile_overall', 'sm_minutes_played_per90_percentile_overall', 'sm_minutes_played_recorded_overall', 'min_per_goal_percentile_overall', 'min_per_conceded_percentile_overall', 'xa_total_overall', 'xa_per90_percentile_overall', 'xa_per_game_overall', 'xa_per_90_overall', 'npxg_total_overall', 'npxg_per90_percentile_overall', 'npxg_per_game_overall', 'npxg_per_90_overall', 'fouls_drawn_per90_percentile_overall', 'fouls_drawn_total_overall', 'fouls_drawn_per_game_overall', 'fouls_drawn_per_90_overall', 'fouls_committed_per_90_overall', 'fouls_committed_per_game_overall', 'fouls_committed_per90_percentile_overall', 'fouls_committed_total_overall', 'xg_per_90_overall', 'xg_per90_percentile_overall', 'average_rating_percentile_overall', 'clearances_per90_percentile_overall', 'hit_woodwork_per90_percentile_overall', 'punches_per90_percentile_overall', 'offsides_per90_percentile_overall', 'aerial_duels_total_overall', 'aerial_duels_per_90_overall', 'aerial_duels_per90_percentile_overall', 'aerial_duels_won_percentage_overall', 'duels_per_game_overall', 'duels_total_overall', 'duels_won_total_overall', 'duels_won_per90_percentile_overall', 'duels_per90_percentile_overall', 'duels_won_per_90_overall', 'duels_won_per_game_overall', 'duels_won_percentage_overall', 'dispossesed_total_overall', 'dispossesed_per_90_overall', 'dispossesed_per90_percentile_overall', 'progressive_passes_total_overall', 'cross_completion_rate_overall', 'distance_travelled_total_overall', 'distance_travelled_per_90_overall', 'distance_travelled_per90_percentile_overall', 'accurate_crosses_total_overall', 'accurate_crosses_per_game_overall', 'accurate_crosses_per_game_overall', 'accurate_crosses_per_90_overall', 'accurate_crosses_per90_percentile_overall', 'sm_matches_recorded_total_overall', 'games_started_percentile_overall', 'games_subbed_in_percentile_overall', 'games_subbed_out_percentile_overall', 'hattricks_total_overall', 'two_goals_in_a_game_total_overall', 'three_goals_in_a_game_total_overall', 'two_goals_in_a_game_percentage_overall', 'three_goals_in_a_game_percentage_overall', 'man_of_the_match_total_overall', 'annual_salary_eur', 'annual_salary_eur_percentile', 'clean_sheets_percentage_percentile_overall', 'min_per_card_percentile_overall', 'cards_per90_percentile_overall', 'booked_over05_overall', 'booked_over05_percentage_overall', 'booked_over05_percentage_percentile_overall', 'shirt_number', 'annual_salary_gbp', 'annual_salary_usd', 'z_score', 'is_outlier']\n",
    "# A lista foi criada manualmente, baseando-se em hipóteses de quais features seriam irrelevantes para o modelo."
   ]
  },
  {
   "cell_type": "code",
   "execution_count": null,
   "metadata": {},
   "outputs": [],
   "source": [
    "new_df = df.drop(columns=lista)\n",
    "new_df.to_csv('./Data/p.csv')"
   ]
  },
  {
   "cell_type": "code",
   "execution_count": null,
   "metadata": {},
   "outputs": [],
   "source": [
    "df = pd.read_csv('./Data/p.csv')"
   ]
  },
  {
   "cell_type": "code",
   "execution_count": null,
   "metadata": {},
   "outputs": [],
   "source": [
    "non_numeric_cols = df[['full_name', 'position', 'Current Club']].copy()\n",
    "df_numeric = df.select_dtypes(include=['number']).copy()"
   ]
  },
  {
   "cell_type": "code",
   "execution_count": null,
   "metadata": {},
   "outputs": [],
   "source": [
    "imp_mean = SimpleImputer(missing_values=np.nan, strategy='mean')\n",
    "df_numeric_imputed = pd.DataFrame(imp_mean.fit_transform(df_numeric), columns=df_numeric.columns)"
   ]
  },
  {
   "cell_type": "code",
   "execution_count": null,
   "metadata": {},
   "outputs": [],
   "source": [
    "data = pd.concat([non_numeric_cols, df_numeric_imputed], axis=1)"
   ]
  },
  {
   "cell_type": "markdown",
   "metadata": {},
   "source": [
    "Aplicação do modelo LASSO:"
   ]
  },
  {
   "cell_type": "code",
   "execution_count": null,
   "metadata": {},
   "outputs": [],
   "source": [
    "# Função auxiliar para substituir a coluna de posição\n",
    "def chance_of_goal(position):\n",
    "    if position == 'Forward':\n",
    "        return 1  # Alta chance de marcar gol\n",
    "    elif position == 'Midfielder':\n",
    "        return 0.7  # Chance intermediária\n",
    "    elif position == 'Defender':\n",
    "        return 0.3 # Baixa chance de marcar gol\n",
    "    else:\n",
    "        return 0 # Chance nula"
   ]
  },
  {
   "cell_type": "code",
   "execution_count": null,
   "metadata": {},
   "outputs": [],
   "source": [
    "# Normalizar as previsões para intervalo [0, 1] usando uma transformação sigmoide\n",
    "def sigmoid(x):\n",
    "    return np.round((1 / (1 + np.exp(-x))) * 100)"
   ]
  },
  {
   "cell_type": "code",
   "execution_count": null,
   "metadata": {},
   "outputs": [],
   "source": [
    "# Numerando os times para evitar possíveis erros de digitação nas testagens.\n",
    "times = {\n",
    "    0: 'Vitória',\n",
    "    1: 'Flamengo',\n",
    "    2: 'Cruzeiro',\n",
    "    3: 'Botafogo',\n",
    "    4: 'Grêmio',\n",
    "    5: 'Fluminense',\n",
    "    6: 'São Paulo',\n",
    "    7: 'Palmeiras',\n",
    "    8: 'Atlético Mineiro',\n",
    "    9: 'Atlético PR',\n",
    "    10: 'Corinthians',\n",
    "    11: 'Vasco da Gama',\n",
    "    12: 'Bahia',\n",
    "    13: 'Atlético GO',\n",
    "    14: 'Internacional', \n",
    "    15: 'Bragantino',\n",
    "    16: 'Criciúma',\n",
    "    17: 'Juventude',\n",
    "    18: 'Cuiabá',\n",
    "    19: 'Fortaleza'\n",
    "}"
   ]
  },
  {
   "cell_type": "code",
   "execution_count": null,
   "metadata": {},
   "outputs": [],
   "source": [
    "# Filtrar jogadores dos dois times específicos\n",
    "time1 = times[1] # Flamengo\n",
    "time2 = times[11] # Vasco da Gama"
   ]
  },
  {
   "cell_type": "code",
   "execution_count": null,
   "metadata": {},
   "outputs": [],
   "source": [
    "# Filtrar os dados\n",
    "data_time1 = data[data['Current Club'] == time1]\n",
    "data_time2 = data[data['Current Club'] == time2]\n",
    "data_filtered = pd.concat([data_time1, data_time2])"
   ]
  },
  {
   "cell_type": "code",
   "execution_count": null,
   "metadata": {},
   "outputs": [],
   "source": [
    "X_filtered = data_filtered.select_dtypes(include=['number']).copy()\n",
    "y_filtered = data_filtered['position'].apply(chance_of_goal)"
   ]
  },
  {
   "cell_type": "code",
   "execution_count": null,
   "metadata": {},
   "outputs": [],
   "source": [
    "scaler = StandardScaler()\n",
    "X_scaled = scaler.fit_transform(X_filtered)"
   ]
  },
  {
   "cell_type": "code",
   "execution_count": null,
   "metadata": {},
   "outputs": [],
   "source": [
    "model = Lasso(alpha=0.01, random_state=42)  \n",
    "model.fit(X_scaled, y_filtered)\n",
    "predictions = model.predict(X_scaled)"
   ]
  },
  {
   "cell_type": "code",
   "execution_count": null,
   "metadata": {},
   "outputs": [],
   "source": [
    "# Aplicar a função sigmoide para transformar previsões em probabilidades\n",
    "data_filtered['predicted_probability'] = sigmoid(predictions)"
   ]
  },
  {
   "cell_type": "code",
   "execution_count": null,
   "metadata": {},
   "outputs": [],
   "source": [
    "best = data_filtered.sort_values(by='predicted_probability', ascending=False)"
   ]
  },
  {
   "cell_type": "code",
   "execution_count": null,
   "metadata": {},
   "outputs": [],
   "source": [
    "best[['Current Club', 'full_name', 'predicted_probability']]\n"
   ]
  },
  {
   "cell_type": "markdown",
   "metadata": {},
   "source": [
    "Ao analisar o resultado apresentado pelo modelo e realizar alguns testes manuais, foi possível ver que há uma certa imprecisão. Assim, foi calculado o MSE e o R² do modelo:"
   ]
  },
  {
   "cell_type": "code",
   "execution_count": null,
   "metadata": {},
   "outputs": [],
   "source": [
    "# Calcular o MSE\n",
    "mse = mean_squared_error(y_filtered, predictions)\n",
    " \n",
    "# Calcular o MAE\n",
    "mae = mean_absolute_error(y_filtered, predictions)\n",
    "\n",
    "# Calcular o R²\n",
    "r2 = r2_score(y_filtered, predictions)\n",
    "\n",
    "# Exibir os resultados\n",
    "print(f'MAE: {mae}')\n",
    "print(f'MSE: {mse}')\n",
    "print(f'R²: {r2}')"
   ]
  },
  {
   "cell_type": "markdown",
   "metadata": {},
   "source": [
    "Tendo em mente as métricas R², MSE e MAE, verificamos a importância das features utilizando SHAP."
   ]
  },
  {
   "cell_type": "code",
   "execution_count": null,
   "metadata": {},
   "outputs": [],
   "source": [
    "# Criar o explicador SHAP para o modelo\n",
    "explainer = shap.LinearExplainer(model, X_filtered, feature_perturbation=\"interventional\")\n",
    "\n",
    "# Calcular os valores SHAP para o conjunto de dados filtrado\n",
    "shap_values = explainer.shap_values(X_filtered)\n",
    "\n",
    "# Visualizar um resumo gráfico dos valores SHAP para entender as principais variáveis\n",
    "shap.summary_plot(shap_values, X_filtered, feature_names=X_filtered.columns)"
   ]
  },
  {
   "cell_type": "markdown",
   "metadata": {},
   "source": [
    "Com isso, aplica-se o PCA para tentar melhorar as estatísticas do modelo."
   ]
  },
  {
   "cell_type": "code",
   "execution_count": null,
   "metadata": {},
   "outputs": [],
   "source": [
    "numeric_cols = data.select_dtypes(include=['float64', 'int64']).columns\n",
    "non_numeric_cols = data.select_dtypes(exclude=['float64', 'int64']).columns"
   ]
  },
  {
   "cell_type": "code",
   "execution_count": null,
   "metadata": {},
   "outputs": [],
   "source": [
    "scaled_data = scaler.fit_transform(data[numeric_cols])"
   ]
  },
  {
   "cell_type": "code",
   "execution_count": null,
   "metadata": {},
   "outputs": [],
   "source": [
    "pca = PCA(n_components=0.95)\n",
    "pca_data = pca.fit_transform(scaled_data)"
   ]
  },
  {
   "cell_type": "code",
   "execution_count": null,
   "metadata": {},
   "outputs": [],
   "source": [
    "# Criar um novo DataFrame com os componentes principais (PCA aplicado)\n",
    "pca_columns = [f'PCA_{i+1}' for i in range(pca_data.shape[1])]\n",
    "pca_df = pd.DataFrame(pca_data, columns=pca_columns)\n",
    "\n",
    "print(pca_df.shape) # Verifica-se uma quantidade de 607 linhas e 28 colunas\n",
    "print(data.shape) # Verifica-se uma quantidade de 607 linhas e 77 colunas"
   ]
  },
  {
   "cell_type": "code",
   "execution_count": null,
   "metadata": {},
   "outputs": [],
   "source": [
    "final_df = pd.concat([df[non_numeric_cols].reset_index(drop=True), pca_df], axis=1)\n",
    "final_df.to_csv('./Data/ppca.csv')"
   ]
  },
  {
   "cell_type": "code",
   "execution_count": null,
   "metadata": {},
   "outputs": [],
   "source": [
    "df = pd.read_csv('./Data/ppca.csv')"
   ]
  },
  {
   "cell_type": "code",
   "execution_count": null,
   "metadata": {},
   "outputs": [],
   "source": [
    "data_time1 = df[df['Current Club'] == time1]\n",
    "data_time2 = df[df['Current Club'] == time2]\n",
    "data_filtered = pd.concat([data_time1, data_time2])"
   ]
  },
  {
   "cell_type": "code",
   "execution_count": null,
   "metadata": {},
   "outputs": [],
   "source": [
    "X_filtered = data_filtered.select_dtypes(include=['number']).copy()\n",
    "y_filtered = data_filtered['position'].apply(chance_of_goal)"
   ]
  },
  {
   "cell_type": "code",
   "execution_count": null,
   "metadata": {},
   "outputs": [],
   "source": [
    "model = Lasso(alpha=0.01, random_state=42)  \n",
    "model.fit(X_filtered, y_filtered)\n",
    "predictions = model.predict(X_filtered)"
   ]
  },
  {
   "cell_type": "code",
   "execution_count": null,
   "metadata": {},
   "outputs": [],
   "source": [
    "# Aplicar a função sigmoide para transformar previsões em probabilidades\n",
    "data_filtered['predicted_probability'] = sigmoid(predictions)"
   ]
  },
  {
   "cell_type": "code",
   "execution_count": null,
   "metadata": {},
   "outputs": [],
   "source": [
    "best = data_filtered.sort_values(by='predicted_probability', ascending=False)\n",
    "best[['Current Club', 'full_name', 'predicted_probability']]"
   ]
  },
  {
   "cell_type": "code",
   "execution_count": null,
   "metadata": {},
   "outputs": [],
   "source": [
    "# Calcular o MSE\n",
    "mse = mean_squared_error(y_filtered, predictions)\n",
    "\n",
    "# Calcular o R²\n",
    "r2 = r2_score(y_filtered, predictions)\n",
    "\n",
    "# Exibir os resultados\n",
    "print(f'MSE: {mse}')\n",
    "print(f'R²: {r2}')"
   ]
  },
  {
   "cell_type": "markdown",
   "metadata": {},
   "source": [
    "É perceptível uma pequena queda nas métricas, em relação ao modelo utilizando os dados puros (sem a aplicação do PCA), portanto, criamos outro gráfico para verificar a importância das features no modelo pelo SHAP."
   ]
  },
  {
   "cell_type": "code",
   "execution_count": null,
   "metadata": {},
   "outputs": [],
   "source": [
    "# Criar o explicador SHAP para o modelo\n",
    "explainer = shap.LinearExplainer(model, X_filtered, feature_perturbation=\"interventional\")\n",
    "\n",
    "# Calcular os valores SHAP para o conjunto de dados filtrado\n",
    "shap_values = explainer.shap_values(X_filtered)\n",
    "\n",
    "# Visualizar um resumo gráfico dos valores SHAP para entender as principais variáveis\n",
    "shap.summary_plot(shap_values, X_filtered, feature_names=X_filtered.columns)"
   ]
  },
  {
   "cell_type": "markdown",
   "metadata": {},
   "source": [
    "Após analisar o gráfico SHAP gerado, verifica-se que a maioria das features (após a aplicação de PCA) estão influenciando negativamente no modelo."
   ]
  },
  {
   "cell_type": "code",
   "execution_count": null,
   "metadata": {},
   "outputs": [],
   "source": [
    "def apply_Lasso(alpha):\n",
    "    model = Lasso(alpha=alpha, random_state=42)  \n",
    "    model.fit(X_filtered, y_filtered)\n",
    "    predictions = model.predict(X_filtered)\n",
    "    data_filtered['predicted_probability'] = sigmoid(predictions)\n",
    "    best = data_filtered.sort_values(by='predicted_probability', ascending=False)\n",
    "    mae = mean_absolute_error(y_filtered, predictions)\n",
    "    mse = mean_squared_error(y_filtered, predictions)\n",
    "    r2 = r2_score(y_filtered, predictions)\n",
    "\n",
    "    return [best[['Current Club', 'full_name', 'predicted_probability']], mse, r2, mae]"
   ]
  },
  {
   "cell_type": "code",
   "execution_count": null,
   "metadata": {},
   "outputs": [],
   "source": [
    "model = apply_Lasso(0.02)\n",
    "print(f'MSE: {model[1]}')\n",
    "print(f'MAE: {model[3]}')\n",
    "print(f'R²: {model[2]}')"
   ]
  },
  {
   "cell_type": "code",
   "execution_count": null,
   "metadata": {},
   "outputs": [],
   "source": [
    "model = apply_Lasso(0.03)\n",
    "print(f'MSE: {model[1]}')\n",
    "print(f'MAE: {model[3]}')\n",
    "print(f'R²: {model[2]}')"
   ]
  },
  {
   "cell_type": "code",
   "execution_count": null,
   "metadata": {},
   "outputs": [],
   "source": [
    "model = apply_Lasso(0.04)\n",
    "print(f'MSE: {model[1]}')\n",
    "print(f'MAE: {model[3]}')\n",
    "print(f'R²: {model[2]}')"
   ]
  },
  {
   "cell_type": "markdown",
   "metadata": {},
   "source": [
    "Como obervado nas estatísticas, com o aumento do hiperparâmetro alpha do algoritmo LASSO, há uma aumenta no erro médio quadrático e uma diminuição no coeficiente R², portanto opta-se por manter o valor de alpha em 0,01. Além disso, foi notado que o algoritmo utilizando a tabela com PCA teve as estatísticas (MSE e R²) piores em relação ao algoritmo utilizando a tabela completa, porém em testes manuais foi notado uma melhora significativa. Então, decidimos utilizar o GridSearch como uma última tentativa de otimizar as métricas."
   ]
  },
  {
   "cell_type": "code",
   "execution_count": null,
   "metadata": {},
   "outputs": [],
   "source": [
    "param_grid = {'alpha': np.logspace(-4, 1, 50)}  # Testa valores de alpha entre 0.0001 e 10\n",
    "\n",
    "# Instanciar o modelo LASSO\n",
    "lasso = Lasso()\n",
    "\n",
    "# Aplicar o GridSearchCV para otimizar o alpha\n",
    "grid_search = GridSearchCV(lasso, param_grid, scoring='r2', cv=5)  # Usa R² como métrica e 5 folds para validação cruzada\n",
    "grid_search.fit(X_scaled, y_filtered)\n",
    "\n",
    "# Melhor valor de alpha\n",
    "best_alpha = grid_search.best_params_['alpha']\n",
    "print(f\"Melhor valor de alpha: {best_alpha}\")"
   ]
  },
  {
   "cell_type": "markdown",
   "metadata": {},
   "source": [
    "Agora testamos o modelo com o alpha encontrado no Grid Search"
   ]
  },
  {
   "cell_type": "code",
   "execution_count": null,
   "metadata": {},
   "outputs": [],
   "source": [
    "model = apply_Lasso(best_alpha)\n",
    "print(f'MSE: {model[1]}')\n",
    "print(f'MAE: {model[3]}')\n",
    "print(f'R²: {model[2]}')"
   ]
  },
  {
   "cell_type": "markdown",
   "metadata": {},
   "source": [
    "Com isso, podemos ver que as métricas sem PCA realmente não superaram as métricas sem PCA, porém empiricamente (com testes manuais) foi determinado que o modelo com o PCA funcionou melhor do que sem, assim, ficando claro que as métricas para esse modelo não são tão relevantes, pois se um zagueiro marcar gol, o modelo considerará isso como um erro, mesmo que isso realmente tenha acontecido."
   ]
  }
 ],
 "metadata": {
  "kernelspec": {
   "display_name": "Python 3",
   "language": "python",
   "name": "python3"
  },
  "language_info": {
   "codemirror_mode": {
    "name": "ipython",
    "version": 3
   },
   "file_extension": ".py",
   "mimetype": "text/x-python",
   "name": "python",
   "nbconvert_exporter": "python",
   "pygments_lexer": "ipython3",
   "version": "3.12.4"
  }
 },
 "nbformat": 4,
 "nbformat_minor": 2
}
