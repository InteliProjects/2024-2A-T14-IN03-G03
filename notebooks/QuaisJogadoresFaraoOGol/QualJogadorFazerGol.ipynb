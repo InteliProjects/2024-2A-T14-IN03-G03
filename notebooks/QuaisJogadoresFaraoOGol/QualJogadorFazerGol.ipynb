{
 "cells": [
  {
   "cell_type": "code",
   "execution_count": 75,
   "metadata": {},
   "outputs": [],
   "source": [
    "import pandas as pd\n",
    "import numpy as np\n",
    "from sklearn.model_selection import train_test_split\n",
    "from sklearn.ensemble import RandomForestClassifier, RandomForestRegressor\n",
    "from sklearn.metrics import accuracy_score, confusion_matrix, ConfusionMatrixDisplay, mean_squared_error, r2_score"
   ]
  },
  {
   "cell_type": "code",
   "execution_count": 3,
   "metadata": {},
   "outputs": [],
   "source": [
    "df = pd.read_csv('./Data/p.csv')\n",
    "df_numeric = df.select_dtypes(include=['number']).copy()\n",
    "df_numeric['player_name'] = df['full_name']"
   ]
  },
  {
   "cell_type": "markdown",
   "metadata": {},
   "source": [
    "Agora, tendo em vista que o Random Forest precisa de uma variável alvo, precisamos defini-la"
   ]
  },
  {
   "cell_type": "code",
   "execution_count": 4,
   "metadata": {},
   "outputs": [],
   "source": [
    "# Criar a variável alvo: se o jogador marcou algum gol (gols > 0)\n",
    "df_numeric['gols_binario'] = (df_numeric['goals_overall'] > 0).astype(int)"
   ]
  },
  {
   "cell_type": "code",
   "execution_count": 5,
   "metadata": {},
   "outputs": [],
   "source": [
    "# Definir X (features) e y (target)\n",
    "X = df_numeric.drop(['goals_overall', 'gols_binario', 'player_name'], axis=1)\n",
    "y = df_numeric['gols_binario']"
   ]
  },
  {
   "cell_type": "code",
   "execution_count": 7,
   "metadata": {},
   "outputs": [],
   "source": [
    "# Dividir os dados em treino e teste\n",
    "X_train, X_test, y_train, y_test = train_test_split(X, y, test_size=0.3, random_state=42)"
   ]
  },
  {
   "cell_type": "code",
   "execution_count": null,
   "metadata": {},
   "outputs": [],
   "source": [
    "# Treinar o modelo Random Forest\n",
    "model = RandomForestClassifier(n_estimators=100, random_state=42)\n",
    "model.fit(X_train, y_train)"
   ]
  },
  {
   "cell_type": "code",
   "execution_count": 10,
   "metadata": {},
   "outputs": [],
   "source": [
    "# Prever probabilidades de marcar um gol\n",
    "probabilidades = model.predict_proba(X_test)[:, 1]"
   ]
  },
  {
   "cell_type": "code",
   "execution_count": null,
   "metadata": {},
   "outputs": [],
   "source": [
    "# Criar DataFrame com nomes e probabilidades\n",
    "resultado = pd.DataFrame({'Jogador': df_numeric.loc[X_test.index, 'player_name'], 'Probabilidade de Gol': probabilidades})\n",
    "\n",
    "# Ordenar os jogadores por probabilidade\n",
    "resultado_ordenado = resultado.sort_values(by='Probabilidade de Gol', ascending=False)\n",
    "resultado_ordenado.head(10)"
   ]
  },
  {
   "cell_type": "markdown",
   "metadata": {},
   "source": [
    "Com isso, verificou-se a necessidade de filtrar por dois times específicos que estariam jogando, pois o modelo prevê quais jogadores têm mais chance de fazer gol no geral."
   ]
  },
  {
   "cell_type": "code",
   "execution_count": 16,
   "metadata": {},
   "outputs": [],
   "source": [
    "team_a = \"Corinthians\"\n",
    "team_b = \"Juventude\"\n",
    "\n",
    "df_teams = df_numeric[(df['Current Club'] == team_a) | (df['Current Club'] == team_b)].copy()"
   ]
  },
  {
   "cell_type": "code",
   "execution_count": null,
   "metadata": {},
   "outputs": [],
   "source": [
    "# Verificar se temos jogadores dos dois times\n",
    "print(f\"Jogadores do {team_a} e {team_b}: {df_teams.shape[0]}\")"
   ]
  },
  {
   "cell_type": "code",
   "execution_count": 18,
   "metadata": {},
   "outputs": [],
   "source": [
    "# Definir as features (X) para esses jogadores, removendo a coluna 'gols_binario' e outras não numéricas\n",
    "X_teams = df_teams.drop(['goals_overall', 'gols_binario', 'player_name'], axis=1)\n",
    "\n",
    "# Usar o modelo treinado para prever as probabilidades de gol para os jogadores desses times\n",
    "probabilidades_teams = model.predict_proba(X_teams)[:, 1]"
   ]
  },
  {
   "cell_type": "code",
   "execution_count": 21,
   "metadata": {},
   "outputs": [],
   "source": [
    "# Criar DataFrame com os nomes dos jogadores e suas respectivas probabilidades de gol\n",
    "resultado_teams = pd.DataFrame({\n",
    "    'Jogador': df_teams['player_name'], \n",
    "    'Probabilidade de Gol': probabilidades_teams\n",
    "})\n",
    "\n",
    "# Ordenar os jogadores pela probabilidade de marcar gol\n",
    "resultado_teams_ordenado = resultado_teams.sort_values(by='Probabilidade de Gol', ascending=False)"
   ]
  },
  {
   "cell_type": "code",
   "execution_count": null,
   "metadata": {},
   "outputs": [],
   "source": [
    "resultado_teams_ordenado.head(10)"
   ]
  },
  {
   "cell_type": "markdown",
   "metadata": {},
   "source": [
    "Com o modelo foi possível identifiar as features mais importantes utilizadas por ele, então removemos as que tinham valores menores ou iguais a 0"
   ]
  },
  {
   "cell_type": "code",
   "execution_count": 24,
   "metadata": {},
   "outputs": [],
   "source": [
    "importances = model.feature_importances_\n",
    "\n",
    "feature_importances = pd.DataFrame({\n",
    "    'Feature': X_train.columns,\n",
    "    'Importance': importances\n",
    "})"
   ]
  },
  {
   "cell_type": "code",
   "execution_count": 29,
   "metadata": {},
   "outputs": [],
   "source": [
    "features_importance_zero_or_less = feature_importances[feature_importances['Importance'] <= 0]\n",
    "nomes_features_zero_or_less = features_importance_zero_or_less['Feature'].tolist()\n",
    "\n",
    "df = df.drop(columns=nomes_features_zero_or_less)"
   ]
  },
  {
   "cell_type": "markdown",
   "metadata": {},
   "source": [
    "Após isso, calculamos a acurácia e plotamos a matriz de confusão:"
   ]
  },
  {
   "cell_type": "code",
   "execution_count": null,
   "metadata": {},
   "outputs": [],
   "source": [
    "# Fazer previsões no conjunto de teste\n",
    "y_pred = model.predict(X_test)\n",
    "\n",
    "# Calcular a acurácia\n",
    "acuracia = accuracy_score(y_test, y_pred)\n",
    "print(f\"Acurácia dos testes: {acuracia:.4f}\")\n",
    "print(f\"{acuracia*100:.2f}%\")"
   ]
  },
  {
   "cell_type": "code",
   "execution_count": null,
   "metadata": {},
   "outputs": [],
   "source": [
    "# Calcular a matriz de confusão\n",
    "matriz_confusao = confusion_matrix(y_test, y_pred)\n",
    "\n",
    "# Criar um DataFrame para a matriz de confusão\n",
    "df_matriz_confusao = pd.DataFrame(\n",
    "    matriz_confusao,\n",
    "    index=['Classe 0', 'Classe 1'],  \n",
    "    columns=['Predito Classe 0', 'Predito Classe 1'] \n",
    ")\n",
    "\n",
    "# Exibir a matriz de confusão com uma visualização\n",
    "disp = ConfusionMatrixDisplay(confusion_matrix=matriz_confusao,\n",
    "                              display_labels=['Sem Gol', 'Gol']) \n",
    "disp.plot(cmap='Blues')\n"
   ]
  },
  {
   "cell_type": "markdown",
   "metadata": {},
   "source": [
    "Com isso, observamos uma acurácia de quase 100%, o que sigifica que o modelo provavelmente não está funcionando corretamente. Assim, tentamos uma outra abordagem, desta vez usando Random Forest de regressão ao invés de classificação."
   ]
  },
  {
   "cell_type": "code",
   "execution_count": 54,
   "metadata": {},
   "outputs": [],
   "source": [
    "# Definir X (features) e y (target: número de gols)\n",
    "X_teams = df_teams.drop(['goals_overall', 'player_name'], axis=1)\n",
    "y_teams = df_teams['goals_overall']\n",
    "\n",
    "# Dividir os dados em treino e teste\n",
    "X_train, X_test, y_train, y_test = train_test_split(X_teams, y_teams, test_size=0.3, random_state=42)"
   ]
  },
  {
   "cell_type": "code",
   "execution_count": null,
   "metadata": {},
   "outputs": [],
   "source": [
    "# Treinar o modelo Random Forest Regressor\n",
    "model = RandomForestRegressor(n_estimators=10, random_state=42)\n",
    "model.fit(X_train, y_train)"
   ]
  },
  {
   "cell_type": "code",
   "execution_count": 59,
   "metadata": {},
   "outputs": [],
   "source": [
    "predicoes_teams = model.predict(X_test)"
   ]
  },
  {
   "cell_type": "code",
   "execution_count": 61,
   "metadata": {},
   "outputs": [],
   "source": [
    "# Criar DataFrame com os nomes dos jogadores e suas respectivas previsões de gols\n",
    "resultado_teams = pd.DataFrame({\n",
    "    'Jogador': df_teams.loc[X_test.index, 'player_name'], \n",
    "    'Previsão de Gols': predicoes_teams\n",
    "})"
   ]
  },
  {
   "cell_type": "code",
   "execution_count": 63,
   "metadata": {},
   "outputs": [],
   "source": [
    "resultado_teams_filtrado = resultado_teams[resultado_teams['Previsão de Gols'] >= 1]\n",
    "\n",
    "# Ordenar os jogadores pela previsão de gols\n",
    "resultado_teams_ordenado = resultado_teams_filtrado.sort_values(by='Previsão de Gols', ascending=False)"
   ]
  },
  {
   "cell_type": "code",
   "execution_count": null,
   "metadata": {},
   "outputs": [],
   "source": [
    "resultado_teams_ordenado"
   ]
  },
  {
   "cell_type": "code",
   "execution_count": null,
   "metadata": {},
   "outputs": [],
   "source": [
    "mse = mean_squared_error(y_test, predicoes_teams)\n",
    "r2 = r2_score(y_test, predicoes_teams)\n",
    "\n",
    "print(f'Mean Squared Error: {mse}')\n",
    "print(f'R² Score: {r2}')"
   ]
  },
  {
   "cell_type": "code",
   "execution_count": 77,
   "metadata": {},
   "outputs": [],
   "source": [
    "# Normalizar as previsões para intervalo [0, 1] usando uma transformação sigmoide\n",
    "def sigmoid(x):\n",
    "    return 1 / (1 + np.exp(-x))\n",
    "\n",
    "# Aplicar a função sigmoide para transformar previsões em probabilidades\n",
    "probabilities = sigmoid(predicoes_teams)"
   ]
  },
  {
   "cell_type": "code",
   "execution_count": null,
   "metadata": {},
   "outputs": [],
   "source": [
    "resultado_probabilidades = pd.DataFrame({\n",
    "    'Jogador': df_teams.loc[X_test.index, 'player_name'], \n",
    "    'Probabilidade': probabilities\n",
    "})\n",
    "\n",
    "resultado_probabilidades"
   ]
  },
  {
   "cell_type": "code",
   "execution_count": null,
   "metadata": {},
   "outputs": [],
   "source": [
    "top_10 = resultado_probabilidades.sort_values(by='Probabilidade', ascending=False).head(10)\n",
    "top_10"
   ]
  }
 ],
 "metadata": {
  "kernelspec": {
   "display_name": "Python 3",
   "language": "python",
   "name": "python3"
  },
  "language_info": {
   "codemirror_mode": {
    "name": "ipython",
    "version": 3
   },
   "file_extension": ".py",
   "mimetype": "text/x-python",
   "name": "python",
   "nbconvert_exporter": "python",
   "pygments_lexer": "ipython3",
   "version": "3.12.4"
  }
 },
 "nbformat": 4,
 "nbformat_minor": 2
}
