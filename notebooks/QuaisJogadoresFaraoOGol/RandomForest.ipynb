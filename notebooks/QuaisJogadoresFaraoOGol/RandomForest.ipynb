{
 "cells": [
  {
   "cell_type": "markdown",
   "metadata": {},
   "source": [
    "Random Forest de Regressão é um modelo de aprendizado de máquina que utiliza uma combinação de múltiplas árvores de decisão para fazer previsões contínuas, como estimar valores numéricos. Funciona criando várias árvores de decisão a partir de diferentes subconjuntos de dados e variáveis, e a previsão final é obtida fazendo a média das previsões de todas essas árvores. Essa abordagem reduz o risco de overfitting e aumenta a precisão, pois a diversidade de árvores ajuda a capturar padrões complexos nos dados. O Random Forest é robusto, eficaz em lidar com grandes volumes de dados e menos sensível a outliers."
   ]
  },
  {
   "cell_type": "code",
   "execution_count": null,
   "metadata": {},
   "outputs": [],
   "source": [
    "import shap\n",
    "import pandas as pd\n",
    "import numpy as np\n",
    "from sklearn.model_selection import train_test_split, GridSearchCV\n",
    "from sklearn.ensemble import RandomForestRegressor\n",
    "from sklearn.metrics import mean_squared_error, r2_score\n",
    "from sklearn.impute import SimpleImputer\n",
    "from sklearn.preprocessing import MinMaxScaler\n",
    "from sklearn.impute import SimpleImputer\n",
    "from sklearn.metrics import mean_absolute_error"
   ]
  },
  {
   "cell_type": "markdown",
   "metadata": {},
   "source": [
    "### Aqui são criadas a features target e tambem selecionadas as features importantes para o a previsão do modelo"
   ]
  },
  {
   "cell_type": "code",
   "execution_count": null,
   "metadata": {},
   "outputs": [],
   "source": [
    "df_novo = pd.read_csv('player.csv')\n",
    "\n",
    "# Cria a coluna de gols binário para selecionar quem fex mais de 0 gols\n",
    "df_novo['gols_binario'] = (df_novo['goals_overall'] > 0).astype(int)\n",
    "\n",
    "#Cria a coluna de chance de fazer o primeiro gol que será o target\n",
    "df_novo['chance_primeiro_gol'] = (df_novo['gols_binario'] * df_novo['minutes_played_overall'] * df_novo['shots_per90_percentile_overall']/10000)\n",
    "\n",
    "# Reune as features que serão usadas para treinar o modelo\n",
    "important_features = [\n",
    "    'minutes_played_overall', 'shots_per90_percentile_overall',\n",
    "    'goals_per90_percentile_overall', 'assists_overall',\n",
    "    'annual_salary_eur_percentile', 'minutes_played_home',\n",
    "    'booked_over05_overall', 'minutes_played_away',\n",
    "    'clean_sheets_percentage_percentile_overall',\n",
    "    'cards_per90_percentile_overall',\n",
    "    'penalty_goals', 'shirt_number', \n",
    "    'three_goals_in_a_game_total_overall',\n",
    "    'booked_over05_percentage_overall', 'goals_home',\n",
    "    'goals_away', 'min_per_card_percentile_overall',\n",
    "    'sm_goals_conceded_total_overall', 'sm_goals_scored_total_overall',\n",
    "    'two_goals_in_a_game_total_overall'\n",
    "]\n",
    "\n",
    "# Separa as features (X) e o target (y)\n",
    "X = df_novo[important_features]\n",
    "y = df_novo['chance_primeiro_gol']\n"
   ]
  },
  {
   "cell_type": "markdown",
   "metadata": {},
   "source": [
    "### Iniciação da limpeza dos dados X e y"
   ]
  },
  {
   "cell_type": "code",
   "execution_count": null,
   "metadata": {},
   "outputs": [],
   "source": [
    "numericas = X.select_dtypes(include=['float64', 'int64']).columns\n",
    "categoricas = X.select_dtypes(include=['object']).columns\n",
    "imputer_numerico = SimpleImputer(strategy='median')\n",
    "imputer_categorico = SimpleImputer(strategy='most_frequent')\n",
    "\n",
    "\n",
    "X[numericas] = imputer_numerico.fit_transform(X[numericas])\n",
    "\n",
    "# Preenche valores nulos nas colunas categóricas, se houver\n",
    "if not categoricas.empty:\n",
    "    X[categoricas] = imputer_categorico.fit_transform(X[categoricas])\n",
    "\n",
    "# Normaliza as colunas numéricas entre 0 e 1 usando MinMaxScaler\n",
    "scaler = MinMaxScaler()\n",
    "X[numericas] = scaler.fit_transform(X[numericas])\n",
    "\n",
    "X.sample(10)"
   ]
  },
  {
   "cell_type": "code",
   "execution_count": null,
   "metadata": {},
   "outputs": [],
   "source": [
    "# Trata os valores nulos em y com simpleImputer\n",
    "imputer_numerico = SimpleImputer(strategy='median')\n",
    "\n",
    "# Convertendo y para numpy e preenchendo valores nulos\n",
    "y = y.to_numpy().reshape(-1, 1)\n",
    "y_imputado = imputer_numerico.fit_transform(y)\n"
   ]
  },
  {
   "cell_type": "markdown",
   "metadata": {},
   "source": [
    "### Inicia a escolha dos times que serão previstos"
   ]
  },
  {
   "cell_type": "code",
   "execution_count": null,
   "metadata": {},
   "outputs": [],
   "source": [
    "team_a = \"São Paulo\"\n",
    "team_b = \"Botafogo\"\n",
    "\n",
    "df_teams = df_novo[(df_novo['Current Club'] == team_a) | (df_novo['Current Club'] == team_b)].copy()\n",
    "\n",
    "# Verifica se temos jogadores dos dois times pela quantidade\n",
    "print(f\"Jogadores do {team_a} e {team_b}: {df_teams.shape[0]}\")"
   ]
  },
  {
   "cell_type": "code",
   "execution_count": null,
   "metadata": {},
   "outputs": [],
   "source": [
    "X_train, X_test, y_train, y_test = train_test_split(X, y_imputado.flatten(), test_size=0.3, random_state=42)\n"
   ]
  },
  {
   "cell_type": "markdown",
   "metadata": {},
   "source": [
    "### Adiciono o GridSearchCV para verificar os melhores hiperparâmetros do modelo"
   ]
  },
  {
   "cell_type": "code",
   "execution_count": null,
   "metadata": {},
   "outputs": [],
   "source": [
    "# Definir os hiperparâmetros a serem ajustados\n",
    "param_grid = {\n",
    "    'n_estimators': [10, 50, 100, 200],\n",
    "    'max_depth': [None, 10, 20, 30, 40],\n",
    "}\n",
    "\n",
    "model = RandomForestRegressor(random_state=42)\n",
    "\n",
    "# Configurar o GridSearch\n",
    "grid_search = GridSearchCV(estimator=model, param_grid=param_grid, \n",
    "                           cv=5, n_jobs=-1, verbose=2)\n",
    "\n",
    "# Ajusta o GridSearch ao conjunto de treinamento\n",
    "grid_search.fit(X_train, y_train)\n",
    "\n",
    "# Exibe os melhores hiperparâmetros\n",
    "print(\"Melhores parâmetros encontrados: \", grid_search.best_params_)\n",
    "\n",
    "best_model = grid_search.best_estimator_\n",
    "best_model.fit(X_train, y_train)"
   ]
  },
  {
   "cell_type": "markdown",
   "metadata": {},
   "source": [
    "## Ajustes de hiperparametros para iniciação do modelo preditivo"
   ]
  },
  {
   "cell_type": "code",
   "execution_count": null,
   "metadata": {},
   "outputs": [],
   "source": [
    "# Adicionando os hiperparâmetros ajustados ao modelo\n",
    "model = RandomForestRegressor(n_estimators=100, max_depth=10, random_state=42)\n",
    "\n",
    "# Treinando o modelo\n",
    "model.fit(X_train, y_train)\n",
    "\n",
    "\n",
    "predicoes_teams = best_model.predict(X_test)\n",
    "\n",
    "\n",
    "predicoes_df = pd.DataFrame(predicoes_teams, columns=['Previsão de Gols'], index=X_test.index)\n",
    "\n",
    "res = X_test.join(predicoes_df)\n",
    "\n",
    "resultado_teams_filtrado = res[res['Previsão de Gols'] >= 1]\n",
    "\n",
    "\n",
    "resultado_teams_ordenado = resultado_teams_filtrado.sort_values(by='Previsão de Gols', ascending=False)"
   ]
  },
  {
   "cell_type": "code",
   "execution_count": null,
   "metadata": {},
   "outputs": [],
   "source": [
    "predicoes_df = pd.DataFrame(predicoes_teams, columns=['Previsão de Gols'], index=X_test.index)\n",
    "\n",
    "res = X_test.join(predicoes_df)\n",
    "\n",
    "# Filtra jogadores com previsão de gols >= 1\n",
    "resultado_teams_filtrado = res[res['Previsão de Gols'] >= 1]\n",
    "\n",
    "# Ordena os jogadores pela previsão de gols\n",
    "resultado_teams_ordenado = resultado_teams_filtrado.sort_values(by='Previsão de Gols', ascending=False)\n",
    "\n",
    "resultado_teams_ordenado"
   ]
  },
  {
   "cell_type": "code",
   "execution_count": null,
   "metadata": {},
   "outputs": [],
   "source": [
    "predicoes_teams = model.predict(X_test)\n",
    "len(predicoes_teams)\n",
    "predicoes_teams"
   ]
  },
  {
   "cell_type": "code",
   "execution_count": null,
   "metadata": {},
   "outputs": [],
   "source": [
    "# Defini a função sigmoide para que os resultados fiquem entre 0 e 1\n",
    "def sigmoid(x):\n",
    "    return 1 / (1 + np.exp(-x))\n",
    "\n",
    "probabilities = sigmoid(resultado_teams_ordenado['Previsão de Gols'])\n",
    "\n",
    "resultado_teams_ordenado['Probabilidade'] = probabilities\n",
    "\n",
    "df_probabilidades = resultado_teams_ordenado[['Probabilidade']].copy()\n",
    "\n",
    "df_probabilidades = df_probabilidades.merge(df_novo[['full_name', 'Current Club']], \n",
    "                                            left_index=True, right_index=True, how='left')\n",
    "\n"
   ]
  },
  {
   "cell_type": "code",
   "execution_count": null,
   "metadata": {},
   "outputs": [],
   "source": [
    "df_probabilidades = df_probabilidades[(df_probabilidades['Current Club'] == team_a) | (df_probabilidades['Current Club'] == team_b)]\n",
    "top = df_probabilidades.sort_values(by='Probabilidade', ascending=False).head(20)\n",
    "top\n"
   ]
  },
  {
   "cell_type": "markdown",
   "metadata": {},
   "source": [
    "Verificação das metricas do modelo"
   ]
  },
  {
   "cell_type": "code",
   "execution_count": null,
   "metadata": {},
   "outputs": [],
   "source": [
    "# Calcula as métricas de desempenho\n",
    "mse = mean_squared_error(y_test, predicoes_teams)\n",
    "r2 = r2_score(y_test, predicoes_teams)\n",
    "mae = mean_absolute_error(y_test, predicoes_teams)\n",
    "\n",
    "\n",
    "print(f'Erro Absoluto Médio (MAE): {mae}')\n",
    "print(f'Mean Squared Error: {mse}')\n",
    "print(f'R² Score: {r2}')"
   ]
  },
  {
   "cell_type": "code",
   "execution_count": null,
   "metadata": {},
   "outputs": [],
   "source": [
    "# Criar o explicador SHAP para o modelo\n",
    "explainer = shap.TreeExplainer(model)\n",
    "\n",
    "# Calcular os valores SHAP para o conjunto de dados filtrado\n",
    "shap_values = explainer.shap_values(X_train)\n",
    "\n",
    "# Visualizar um resumo gráfico dos valores SHAP para entender as principais variáveis\n",
    "shap.summary_plot(shap_values, X_train, feature_names=X_train.columns)"
   ]
  }
 ],
 "metadata": {
  "kernelspec": {
   "display_name": "Python 3",
   "language": "python",
   "name": "python3"
  },
  "language_info": {
   "codemirror_mode": {
    "name": "ipython",
    "version": 3
   },
   "file_extension": ".py",
   "mimetype": "text/x-python",
   "name": "python",
   "nbconvert_exporter": "python",
   "pygments_lexer": "ipython3",
   "version": "3.12.4"
  }
 },
 "nbformat": 4,
 "nbformat_minor": 2
}
