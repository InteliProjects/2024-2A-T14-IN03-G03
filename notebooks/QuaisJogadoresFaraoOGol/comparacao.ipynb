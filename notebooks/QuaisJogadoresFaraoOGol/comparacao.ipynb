{
 "cells": [
  {
   "cell_type": "code",
   "execution_count": null,
   "metadata": {},
   "outputs": [],
   "source": [
    "import pandas as pd\n",
    "import numpy as np\n",
    "import shap\n",
    "from sklearn.impute import SimpleImputer\n",
    "from sklearn.preprocessing import StandardScaler\n",
    "from sklearn.linear_model import Lasso\n",
    "from sklearn.metrics import mean_squared_error, r2_score, mean_absolute_error\n",
    "from sklearn.model_selection import GridSearchCV, train_test_split\n",
    "from sklearn.ensemble import RandomForestRegressor\n",
    "from sklearn.preprocessing import MinMaxScaler"
   ]
  },
  {
   "cell_type": "markdown",
   "metadata": {},
   "source": [
    "Definindo funções auxiliares para a modelagem"
   ]
  },
  {
   "cell_type": "code",
   "execution_count": null,
   "metadata": {},
   "outputs": [],
   "source": [
    "# Função auxiliar para substituir a coluna de posição\n",
    "def chance_of_goal(position):\n",
    "    if position == 'Forward':\n",
    "        return 1  # Alta chance de marcar gol\n",
    "    elif position == 'Midfielder':\n",
    "        return 0.7  # Chance intermediária\n",
    "    elif position == 'Defender':\n",
    "        return 0.3 # Baixa chance de marcar gol\n",
    "    else:\n",
    "        return 0 # Chance nula\n",
    "    \n",
    "# Normalizar as previsões para intervalo [0, 1] usando uma transformação sigmoide\n",
    "def sigmoid(x):\n",
    "    return np.round((1 / (1 + np.exp(-x))) * 100)"
   ]
  },
  {
   "cell_type": "code",
   "execution_count": null,
   "metadata": {},
   "outputs": [],
   "source": [
    "# Numerando os times para evitar possíveis erros de digitação nas testagens.\n",
    "times = {\n",
    "    0: 'Vitória',\n",
    "    1: 'Flamengo',\n",
    "    2: 'Cruzeiro',\n",
    "    3: 'Botafogo',\n",
    "    4: 'Grêmio',\n",
    "    5: 'Fluminense',\n",
    "    6: 'São Paulo',\n",
    "    7: 'Palmeiras',\n",
    "    8: 'Atlético Mineiro',\n",
    "    9: 'Atlético PR',\n",
    "    10: 'Corinthians',\n",
    "    11: 'Vasco da Gama',\n",
    "    12: 'Bahia',\n",
    "    13: 'Atlético GO',\n",
    "    14: 'Internacional', \n",
    "    15: 'Bragantino',\n",
    "    16: 'Criciúma',\n",
    "    17: 'Juventude',\n",
    "    18: 'Cuiabá',\n",
    "    19: 'Fortaleza'\n",
    "}"
   ]
  },
  {
   "cell_type": "code",
   "execution_count": null,
   "metadata": {},
   "outputs": [],
   "source": [
    "df_rf = pd.read_csv('./Data/jogadores.csv')\n",
    "df_lasso = pd.read_csv('./Data/jogadores.csv')"
   ]
  },
  {
   "cell_type": "code",
   "execution_count": null,
   "metadata": {},
   "outputs": [],
   "source": [
    "features_to_drop_lasso = ['age', 'birthday', 'birthday_GMT', 'league', 'season', 'nationality', 'clean_sheets_overall', 'clean_sheets_home', 'clean_sheets_away', 'conceded_overall', 'conceded_away', 'conceded_home', 'yellow_cards_overall', 'red_cards_overall', 'min_per_conceded_overall', 'min_per_card_overall', 'cards_per_90_overall', 'rank_in_league_top_attackers', 'rank_in_league_top_midfielders', 'rank_in_league_top_defenders', 'rank_in_club_top_scorer', 'passes_per_90_overall', 'passes_per_game_overall', 'passes_per90_percentile_overall', 'passes_total_overall', 'passes_completed_per_game_overall', 'passes_completed_total_overall', 'pass_completion_rate_percentile_overall', 'passes_completed_per_90_overall', 'passes_completed_per90_percentile_overall', 'short_passes_per_game_overall', 'long_passes_per_game_overall', 'key_passes_per_game_overall', 'key_passes_total_overall', 'through_passes_per_game_overall', 'crosses_per_game_overall', 'dispossesed_per_game_overall', 'possession_regained_per_game_overall', 'pressures_per_game_overall', 'saves_per_game_overall', 'interceptions_per_game_overall', 'shots_faced_per_game_overall', 'shots_per_goal_scored_overall', 'shots_off_target_per_game_overall', 'distance_travelled_per_game_overall', 'possession_regained_per_90_overall', 'possession_regained_total_overall', 'possession_regained_per90_percentile_overall', 'additional_info', 'shots_off_target_total_overall', 'shots_off_target_per_90_overall', 'shots_off_target_per90_percentile_overall', 'games_subbed_out', 'interceptions_total_overall', 'interceptions_per_90_overall', 'interceptions_per90_percentile_overall', 'crosses_total_overall', 'cross_completion_rate_percentile_overall', 'crosses_per_90_overall', 'crosses_per90_percentile_overall', 'through_passes_total_overall', 'through_passes_per_90_overall', 'through_passes_per90_percentile_overall', 'long_passes_total_overall', 'long_passes_per_90_overall', 'long_passes_per90_percentile_overall', 'short_passes_total_overall', 'short_passes_per_90_overall', 'short_passes_per90_percentile_overall', 'key_passes_per_90_overall', 'key_passes_per90_percentile_overall', 'dribbles_total_overall', 'dribbles_per_90_overall', 'dribbles_per90_percentile_overall', 'dribbles_successful_total_overall', 'dribbles_successful_per_90_overall', 'dribbles_successful_percentage_overall', 'chances_created_total_overall', 'chances_created_per_90_overall', 'chances_created_per90_percentile_overall', 'saves_total_overall', 'save_percentage_percentile_overall', 'saves_per_90_overall', 'saves_per90_percentile_overall', 'shots_faced_total_overall', 'shots_per_goal_conceded_overall', 'shots_faced_per_90_overall', 'shots_faced_per90_percentile_overall', 'xg_faced_per_90_overall', 'xg_faced_per90_percentile_overall', 'xg_faced_per_game_overall', 'xg_faced_total_overall', 'save_percentage_overall', 'pressures_total_overall', 'pressures_per_90_overall', 'pressures_per90_percentile_overall', 'xg_total_overall', 'market_value', 'market_value_percentile', 'pass_completion_rate_overall', 'dribbled_past_per90_percentile_overall', 'dribbled_past_per_game_overall', 'dribbled_past_per_90_overall', 'dribbled_past_total_overall', 'inside_box_saves_total_overall', 'blocks_per_game_overall', 'blocks_per_90_overall', 'blocks_total_overall', 'blocks_per90_percentile_overall', 'ratings_total_overall', 'clearances_per_game_overall', 'clearances_total_overall', 'clearances_per_90_overall', 'pen_save_percentage_overall', 'pen_committed_total_overall', 'pen_committed_per_90_overall', 'pen_committed_per90_percentile_overall', 'pen_committed_per_game_overall', 'pens_saved_total_overall', 'pens_taken_total_overall', 'hit_woodwork_total_overall', 'hit_woodwork_per_90_overall', 'punches_total_overall', 'punches_per_game_overall', 'punches_per_90_overall', 'offsides_per_90_overall', 'offsides_per_game_overall', 'offsides_total_overall', 'shot_conversion_rate_overall', 'shot_conversion_rate_percentile_overall', 'sm_minutes_played_per90_percentile_overall', 'sm_minutes_played_recorded_overall', 'min_per_goal_percentile_overall', 'min_per_conceded_percentile_overall', 'xa_total_overall', 'xa_per90_percentile_overall', 'xa_per_game_overall', 'xa_per_90_overall', 'npxg_total_overall', 'npxg_per90_percentile_overall', 'npxg_per_game_overall', 'npxg_per_90_overall', 'fouls_drawn_per90_percentile_overall', 'fouls_drawn_total_overall', 'fouls_drawn_per_game_overall', 'fouls_drawn_per_90_overall', 'fouls_committed_per_90_overall', 'fouls_committed_per_game_overall', 'fouls_committed_per90_percentile_overall', 'fouls_committed_total_overall', 'xg_per_90_overall', 'xg_per90_percentile_overall', 'average_rating_percentile_overall', 'clearances_per90_percentile_overall', 'hit_woodwork_per90_percentile_overall', 'punches_per90_percentile_overall', 'offsides_per90_percentile_overall', 'aerial_duels_total_overall', 'aerial_duels_per_90_overall', 'aerial_duels_per90_percentile_overall', 'aerial_duels_won_percentage_overall', 'duels_per_game_overall', 'duels_total_overall', 'duels_won_total_overall', 'duels_won_per90_percentile_overall', 'duels_per90_percentile_overall', 'duels_won_per_90_overall', 'duels_won_per_game_overall', 'duels_won_percentage_overall', 'dispossesed_total_overall', 'dispossesed_per_90_overall', 'dispossesed_per90_percentile_overall', 'progressive_passes_total_overall', 'cross_completion_rate_overall', 'distance_travelled_total_overall', 'distance_travelled_per_90_overall', 'distance_travelled_per90_percentile_overall', 'accurate_crosses_total_overall', 'accurate_crosses_per_game_overall', 'accurate_crosses_per_game_overall', 'accurate_crosses_per_90_overall', 'accurate_crosses_per90_percentile_overall', 'sm_matches_recorded_total_overall', 'games_started_percentile_overall', 'games_subbed_in_percentile_overall', 'games_subbed_out_percentile_overall', 'hattricks_total_overall', 'two_goals_in_a_game_total_overall', 'three_goals_in_a_game_total_overall', 'two_goals_in_a_game_percentage_overall', 'three_goals_in_a_game_percentage_overall', 'man_of_the_match_total_overall', 'annual_salary_eur', 'annual_salary_eur_percentile', 'clean_sheets_percentage_percentile_overall', 'min_per_card_percentile_overall', 'cards_per90_percentile_overall', 'booked_over05_overall', 'booked_over05_percentage_overall', 'booked_over05_percentage_percentile_overall', 'shirt_number', 'annual_salary_gbp', 'annual_salary_usd', 'z_score', 'is_outlier']\n",
    "features_to_keep_rf = ['minutes_played_overall', 'shots_per90_percentile_overall', 'goals_per90_percentile_overall', 'assists_overall', 'annual_salary_eur_percentile', 'minutes_played_home', 'booked_over05_overall', 'minutes_played_away','clean_sheets_percentage_percentile_overall','cards_per90_percentile_overall','penalty_goals', 'shirt_number', 'three_goals_in_a_game_total_overall','booked_over05_percentage_overall', 'goals_home', 'goals_away', 'min_per_card_percentile_overall', 'sm_goals_conceded_total_overall', 'sm_goals_scored_total_overall', 'two_goals_in_a_game_total_overall']"
   ]
  },
  {
   "cell_type": "code",
   "execution_count": null,
   "metadata": {},
   "outputs": [],
   "source": [
    "# Cria a coluna de gols binário para selecionar quem fex mais de 0 gols\n",
    "df_rf['gols_binario'] = (df_rf['goals_overall'] > 0).astype(int)\n",
    "#Cria a coluna de chance de fazer o primeiro gol que será o target\n",
    "df_rf['chance_primeiro_gol'] = (df_rf['gols_binario'] * df_rf['minutes_played_overall'] * df_rf['shots_per90_percentile_overall']/10000)\n",
    "\n",
    "# Separa as features (X) e o target (y)\n",
    "X_rf = df_rf[features_to_keep_rf]\n",
    "y_rf = df_rf['chance_primeiro_gol']"
   ]
  },
  {
   "cell_type": "markdown",
   "metadata": {},
   "source": [
    "Realizando as limpezas necessárias para cada modelo"
   ]
  },
  {
   "cell_type": "code",
   "execution_count": null,
   "metadata": {},
   "outputs": [],
   "source": [
    "df_lasso = df_lasso.drop(columns=features_to_drop_lasso)\n",
    "\n",
    "non_numeric_cols = df_lasso[['full_name', 'position', 'Current Club']].copy()\n",
    "df_numeric = df_lasso.select_dtypes(include=['number']).copy()\n",
    "\n",
    "imp_mean = SimpleImputer(missing_values=np.nan, strategy='mean')\n",
    "df_numeric_imputed = pd.DataFrame(imp_mean.fit_transform(df_numeric), columns=df_numeric.columns)\n",
    "\n",
    "data_lasso = pd.concat([non_numeric_cols, df_numeric_imputed], axis=1)"
   ]
  },
  {
   "cell_type": "code",
   "execution_count": null,
   "metadata": {},
   "outputs": [],
   "source": [
    "numericas = X_rf.select_dtypes(include=['float64', 'int64']).columns\n",
    "categoricas = X_rf.select_dtypes(include=['object']).columns\n",
    "imputer_numerico = SimpleImputer(strategy='median')\n",
    "imputer_categorico = SimpleImputer(strategy='most_frequent')\n",
    "\n",
    "X_rf[numericas] = imputer_numerico.fit_transform(X_rf[numericas])\n",
    "# Preenche valores nulos nas colunas categóricas, se houver\n",
    "if not categoricas.empty:\n",
    "    X_rf[categoricas] = imputer_categorico.fit_transform(X_rf[categoricas])\n",
    "\n",
    "scaler = MinMaxScaler()\n",
    "X_rf[numericas] = scaler.fit_transform(X_rf[numericas])"
   ]
  },
  {
   "cell_type": "code",
   "execution_count": null,
   "metadata": {},
   "outputs": [],
   "source": [
    "# Trata os valores nulos em y com simpleImputer\n",
    "imputer_numerico = SimpleImputer(strategy='median')\n",
    "\n",
    "# Convertendo y para numpy e preenchendo valores nulos\n",
    "y_rf = y_rf.to_numpy().reshape(-1, 1)\n",
    "y_imputado_rf = imputer_numerico.fit_transform(y_rf)"
   ]
  },
  {
   "cell_type": "markdown",
   "metadata": {},
   "source": [
    "Definindo os times que irão jogar"
   ]
  },
  {
   "cell_type": "code",
   "execution_count": null,
   "metadata": {},
   "outputs": [],
   "source": [
    "time1 = times[0]\n",
    "time2 = times[1]"
   ]
  },
  {
   "cell_type": "code",
   "execution_count": null,
   "metadata": {},
   "outputs": [],
   "source": [
    "df_teams_rf = df_rf[(df_rf['Current Club'] == time1) | (df_rf['Current Club'] == time2)].copy()"
   ]
  },
  {
   "cell_type": "code",
   "execution_count": null,
   "metadata": {},
   "outputs": [],
   "source": [
    "# Filtrar os dados\n",
    "data_time1_lasso = data_lasso[data_lasso['Current Club'] == time1]\n",
    "data_time2_lasso = data_lasso[data_lasso['Current Club'] == time2]\n",
    "data_filtered_lasso = pd.concat([data_time1_lasso, data_time2_lasso])"
   ]
  },
  {
   "cell_type": "code",
   "execution_count": null,
   "metadata": {},
   "outputs": [],
   "source": [
    "X_lasso = data_filtered_lasso.select_dtypes(include=['number']).copy()\n",
    "y_lasso = data_filtered_lasso['position'].apply(chance_of_goal)"
   ]
  },
  {
   "cell_type": "code",
   "execution_count": null,
   "metadata": {},
   "outputs": [],
   "source": [
    "scaler = StandardScaler()\n",
    "X_lasso_scaled = scaler.fit_transform(X_lasso)"
   ]
  },
  {
   "cell_type": "code",
   "execution_count": null,
   "metadata": {},
   "outputs": [],
   "source": [
    "X_train, X_test, y_train, y_test = train_test_split(X_rf, y_imputado_rf.flatten(), test_size=0.3, random_state=42)"
   ]
  },
  {
   "cell_type": "markdown",
   "metadata": {},
   "source": [
    "Utilizando GridSearch para buscar os melhores hiperparâmetros"
   ]
  },
  {
   "cell_type": "code",
   "execution_count": null,
   "metadata": {},
   "outputs": [],
   "source": [
    "# Definir os hiperparâmetros a serem ajustados\n",
    "param_grid = {\n",
    "    'n_estimators': [10, 50, 100, 200],\n",
    "    'max_depth': [None, 10, 20, 30, 40],\n",
    "}\n",
    "\n",
    "rf = RandomForestRegressor(random_state=42)\n",
    "\n",
    "# Configurar o GridSearch\n",
    "grid_search = GridSearchCV(estimator=rf, param_grid=param_grid, \n",
    "                           cv=5, n_jobs=-1, verbose=2)\n",
    "\n",
    "# Ajusta o GridSearch ao conjunto de treinamento\n",
    "grid_search.fit(X_train, y_train)\n",
    "\n",
    "# Exibe os melhores hiperparâmetros\n",
    "print(\"Melhores parâmetros encontrados: \", grid_search.best_params_)\n",
    "\n",
    "best_model = grid_search.best_estimator_\n",
    "best_model.fit(X_train, y_train)"
   ]
  },
  {
   "cell_type": "markdown",
   "metadata": {},
   "source": [
    "Executando o treinamento dos modelos"
   ]
  },
  {
   "cell_type": "code",
   "execution_count": null,
   "metadata": {},
   "outputs": [],
   "source": [
    "# Dividindo os dados em treino e teste\n",
    "\n",
    "rf = RandomForestRegressor(n_estimators=100, max_depth=10, random_state=42)\n",
    "\n",
    "# Treinando o modelo\n",
    "rf.fit(X_train, y_train)\n",
    "\n",
    "\n",
    "predicoes_teams = best_model.predict(X_test)\n",
    "\n",
    "\n",
    "predicoes_df = pd.DataFrame(predicoes_teams, columns=['Previsão de Gols'], index=X_test.index)\n",
    "\n",
    "res = X_test.join(predicoes_df)\n",
    "\n",
    "resultado_teams_filtrado = res[res['Previsão de Gols'] >= 1]\n",
    "\n",
    "\n",
    "resultado_teams_ordenado = resultado_teams_filtrado.sort_values(by='Previsão de Gols', ascending=False)"
   ]
  },
  {
   "cell_type": "code",
   "execution_count": null,
   "metadata": {},
   "outputs": [],
   "source": [
    "predicoes_df = pd.DataFrame(predicoes_teams, columns=['Previsão de Gols'], index=X_test.index)\n",
    "\n",
    "res = X_test.join(predicoes_df)\n",
    "\n",
    "# Filtra jogadores com previsão de gols >= 1\n",
    "resultado_teams_filtrado = res[res['Previsão de Gols'] >= 1]\n",
    "\n",
    "# Ordena os jogadores pela previsão de gols\n",
    "resultado_teams_ordenado = resultado_teams_filtrado.sort_values(by='Previsão de Gols', ascending=False)"
   ]
  },
  {
   "cell_type": "code",
   "execution_count": null,
   "metadata": {},
   "outputs": [],
   "source": [
    "model = Lasso(alpha=0.01, random_state=42)  \n",
    "model.fit(X_lasso_scaled, y_lasso)\n",
    "predictions = model.predict(X_lasso_scaled)\n",
    "\n",
    "# Aplicar a função sigmoide para transformar previsões em probabilidades\n",
    "data_filtered_lasso['predicted_probability'] = sigmoid(predictions)\n",
    "\n",
    "best = data_filtered_lasso.sort_values(by='predicted_probability', ascending=False)\n",
    "best[['Current Club', 'full_name', 'predicted_probability']]\n"
   ]
  },
  {
   "cell_type": "markdown",
   "metadata": {},
   "source": [
    "Comparando as métricas dos modelos"
   ]
  },
  {
   "cell_type": "code",
   "execution_count": null,
   "metadata": {},
   "outputs": [],
   "source": [
    "mse_lasso = mean_squared_error(y_lasso, predictions)\n",
    "mae_lasso = mean_absolute_error(y_lasso, predictions)\n",
    "r2_lasso = r2_score(y_lasso, predictions)\n",
    "\n",
    "mse_rf = mean_squared_error(y_test, predicoes_teams)\n",
    "r2_rf = r2_score(y_test, predicoes_teams)\n",
    "mae_rf = mean_absolute_error(y_test, predicoes_teams)\n",
    "\n",
    "metrics_data = {\n",
    "    'Modelo': ['Lasso', 'Random Forest'],\n",
    "    'MSE': [mse_lasso, mse_rf],\n",
    "    'MAE': [mae_lasso, mae_rf],\n",
    "    'R²': [r2_lasso, r2_rf]\n",
    "}\n",
    "\n",
    "# Convertendo o dicionário em um DataFrame\n",
    "metrics_df = pd.DataFrame(metrics_data)\n",
    "\n",
    "# Exibindo o DataFrame\n",
    "metrics_df\n"
   ]
  }
 ],
 "metadata": {
  "kernelspec": {
   "display_name": "Python 3",
   "language": "python",
   "name": "python3"
  },
  "language_info": {
   "codemirror_mode": {
    "name": "ipython",
    "version": 3
   },
   "file_extension": ".py",
   "mimetype": "text/x-python",
   "name": "python",
   "nbconvert_exporter": "python",
   "pygments_lexer": "ipython3",
   "version": "3.12.4"
  }
 },
 "nbformat": 4,
 "nbformat_minor": 2
}
