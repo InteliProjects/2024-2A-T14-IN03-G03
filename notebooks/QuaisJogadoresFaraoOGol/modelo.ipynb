{
 "cells": [
  {
   "cell_type": "markdown",
   "metadata": {},
   "source": [
    "## Primeiro escreva o caminho até a tabela de jogadores:"
   ]
  },
  {
   "cell_type": "code",
   "execution_count": null,
   "metadata": {},
   "outputs": [],
   "source": [
    "file_path = '{ESCREVA O CAMINHO AQUI}'"
   ]
  },
  {
   "cell_type": "markdown",
   "metadata": {},
   "source": [
    "## Apenas execute as células abaixo:"
   ]
  },
  {
   "cell_type": "code",
   "execution_count": null,
   "metadata": {},
   "outputs": [],
   "source": [
    "import pandas as pd\n",
    "import numpy as np\n",
    "from sklearn.impute import SimpleImputer\n",
    "from sklearn.preprocessing import StandardScaler\n",
    "from sklearn.linear_model import Lasso"
   ]
  },
  {
   "cell_type": "code",
   "execution_count": null,
   "metadata": {},
   "outputs": [],
   "source": [
    "df = pd.read_csv(file_path)\n",
    "\n",
    "non_numeric_cols = df[['full_name', 'position', 'Current Club']].copy()\n",
    "df_numeric = df.select_dtypes(include=['number']).copy()\n",
    "\n",
    "imp_mean = SimpleImputer(missing_values=np.nan, strategy='mean')\n",
    "df_numeric_imputed = pd.DataFrame(imp_mean.fit_transform(df_numeric), columns=df_numeric.columns)\n",
    "\n",
    "data = pd.concat([non_numeric_cols, df_numeric_imputed], axis=1)"
   ]
  },
  {
   "cell_type": "code",
   "execution_count": null,
   "metadata": {},
   "outputs": [],
   "source": [
    "# Função auxiliar para substituir a coluna de posição\n",
    "def chance_of_goal(position):\n",
    "    if position == 'Forward':\n",
    "        return 1  # Alta chance de marcar gol\n",
    "    elif position == 'Midfielder':\n",
    "        return 0.7  # Chance intermediária\n",
    "    elif position == 'Defender':\n",
    "        return 0.3 # Baixa chance de marcar gol\n",
    "    else:\n",
    "        return 0 # Chance nula\n",
    "\n",
    "# Normalizar as previsões para intervalo [0, 1] usando uma transformação sigmoide\n",
    "def sigmoid(x):\n",
    "    return np.round((1 / (1 + np.exp(-x))) * 100)"
   ]
  },
  {
   "cell_type": "markdown",
   "metadata": {},
   "source": [
    "## Escolha os times que deseja prever:"
   ]
  },
  {
   "cell_type": "code",
   "execution_count": null,
   "metadata": {},
   "outputs": [],
   "source": [
    "# Numerando os times para evitar possíveis erros de digitação nas testagens.\n",
    "times = {\n",
    "    0: 'Vitória',\n",
    "    1: 'Flamengo',\n",
    "    2: 'Cruzeiro',\n",
    "    3: 'Botafogo',\n",
    "    4: 'Grêmio',\n",
    "    5: 'Fluminense',\n",
    "    6: 'São Paulo',\n",
    "    7: 'Palmeiras',\n",
    "    8: 'Atlético Mineiro',\n",
    "    9: 'Atlético PR',\n",
    "    10: 'Corinthians',\n",
    "    11: 'Vasco da Gama',\n",
    "    12: 'Bahia',\n",
    "    13: 'Atlético GO',\n",
    "    14: 'Internacional', \n",
    "    15: 'Bragantino',\n",
    "    16: 'Criciúma',\n",
    "    17: 'Juventude',\n",
    "    18: 'Cuiabá',\n",
    "    19: 'Fortaleza'\n",
    "}"
   ]
  },
  {
   "cell_type": "code",
   "execution_count": null,
   "metadata": {},
   "outputs": [],
   "source": [
    "# Filtrar jogadores dos dois times específicos\n",
    "time1 = times[1] \n",
    "time2 = times[11] "
   ]
  },
  {
   "cell_type": "markdown",
   "metadata": {},
   "source": [
    "### Agora execute o modelo:"
   ]
  },
  {
   "cell_type": "code",
   "execution_count": null,
   "metadata": {},
   "outputs": [],
   "source": [
    "data_time1 = data[data['Current Club'] == time1]\n",
    "data_time2 = data[data['Current Club'] == time2]\n",
    "data_filtered = pd.concat([data_time1, data_time2])\n",
    "\n",
    "X_filtered = data_filtered.select_dtypes(include=['number']).copy()\n",
    "y_filtered = data_filtered['position'].apply(chance_of_goal)\n",
    "\n",
    "scaler = StandardScaler()\n",
    "X_scaled = scaler.fit_transform(X_filtered)\n",
    "\n",
    "model = Lasso(alpha=0.01, random_state=42)  \n",
    "model.fit(X_scaled, y_filtered)\n",
    "predictions = model.predict(X_scaled)\n",
    "\n",
    "data_filtered['predicted_probability'] = sigmoid(predictions)\n",
    "best = data_filtered.sort_values(by='predicted_probability', ascending=False)\n",
    "best[['Current Club', 'full_name', 'predicted_probability']].head(10)"
   ]
  }
 ],
 "metadata": {
  "language_info": {
   "name": "python"
  }
 },
 "nbformat": 4,
 "nbformat_minor": 2
}
