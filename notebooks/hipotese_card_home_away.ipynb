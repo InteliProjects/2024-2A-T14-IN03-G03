{
  "nbformat": 4,
  "nbformat_minor": 0,
  "metadata": {
    "colab": {
      "provenance": []
    },
    "kernelspec": {
      "name": "python3",
      "display_name": "Python 3"
    },
    "language_info": {
      "name": "python"
    }
  },
  "cells": [
    {
      "cell_type": "code",
      "execution_count": null,
      "metadata": {
        "id": "lmS2SqH3zu4-"
      },
      "outputs": [],
      "source": [
        "# Importa bibliotecas necessárias para o funcionamento do código\n",
        "import numpy as np\n",
        "import pandas as pd\n",
        "import matplotlib.pyplot as plt\n",
        "import plotly.express as px\n",
        "from sklearn import decomposition"
      ]
    },
    {
      "cell_type": "code",
      "source": [
        "# Abre arquivo\n",
        "dfPartidasSerieA = pd.read_csv('/content/drive/Shareddrives/Drive IBMatch/Data/brazil-serie-a-matches-2024-to-2024-stats_edit.csv', sep=\";\") # Abre arquivo\n",
        "temp = dfPartidasSerieA\n",
        "dfPartidasSerieA = dfPartidasSerieA.drop(columns=dfPartidasSerieA.select_dtypes(include=['object'])).fillna(0)\n",
        "\n",
        "# Filtra valores menores que 0\n",
        "a_c = temp[temp['home_team_yellow_cards'] >= 0]\n",
        "a_v = temp[temp['away_team_yellow_cards'] >= 0]\n",
        "r_c = temp[temp['home_team_red_cards'] >= 0]\n",
        "r_v = temp[temp['away_team_red_cards'] >= 0]"
      ],
      "metadata": {
        "id": "21VEQeanz1bM"
      },
      "execution_count": null,
      "outputs": []
    },
    {
      "cell_type": "code",
      "source": [
        "# Define o eixo x e y para gráfico de quantidade de cartões amarelos para times visitantes e da casa\n",
        "x = ['Time da casa', 'Time visitante' ]\n",
        "y = [a_c['home_team_yellow_cards'].sum(), a_v['away_team_yellow_cards'].sum()] # Soma da quantidade da quantidade de cartões por time\n",
        "\n",
        "# Plota gráfico de quantidade de cartões amarelos para times visitantes e da casa\n",
        "fig = px.bar(temp, x=x, y=y, labels={'x':'Times','y':'Quantidade de cartões amarelos'}, title='Quantidade de cartões amarelos por time')\n",
        "fig.show()"
      ],
      "metadata": {
        "id": "qS8mX5Df0d9Q"
      },
      "execution_count": null,
      "outputs": []
    },
    {
      "cell_type": "code",
      "source": [
        "# Define o eixo x e y para gráfico de quantidade de cartões vermelhos para times visitantes e da casa\n",
        "x = ['Time da casa', 'Time visitante' ]\n",
        "y = [r_c['home_team_red_cards'].sum(), r_v['away_team_red_cards'].sum()] # Soma da quantidade de cartões por time\n",
        "\n",
        "# Plota gráfico de quantidade de cartões vermelhos para times visitantes e da casa\n",
        "fig = px.bar(temp, x=x, y=y, labels={'x':'Times','y':'Quantidade de cartões vermelhos'}, title='Quantidade de cartões vermelhos por time')\n",
        "fig.show()"
      ],
      "metadata": {
        "id": "1d2jJg9a6htb"
      },
      "execution_count": null,
      "outputs": []
    }
  ]
}