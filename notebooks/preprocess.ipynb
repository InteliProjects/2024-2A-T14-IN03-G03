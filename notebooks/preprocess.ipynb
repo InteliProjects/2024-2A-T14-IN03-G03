{
 "cells": [
  {
   "cell_type": "code",
   "execution_count": 1,
   "metadata": {},
   "outputs": [],
   "source": [
    "import pandas as pd\n",
    "import numpy as np\n",
    "from time import sleep\n",
    "import matplotlib.pyplot as plt\n",
    "from IPython.display import clear_output"
   ]
  },
  {
   "cell_type": "code",
   "execution_count": 2,
   "metadata": {},
   "outputs": [],
   "source": [
    "matches = pd.read_csv('./Data/matches.csv', sep=';')\n",
    "teams = pd.read_csv('./Data/teams.csv')\n",
    "players = pd.read_csv('./Data/players.csv')"
   ]
  },
  {
   "cell_type": "markdown",
   "metadata": {},
   "source": [
    "Começando com a tabela referente às partidas, tentei identificar os outliers utilizando a técnica z-score. Para isso, fiz um loop passando por cada coluna numérica e plotei um gráfico para cada, mostrando os limites de outliers e, em azul, os dados e, em vermelho, os outliers."
   ]
  },
  {
   "cell_type": "code",
   "execution_count": null,
   "metadata": {},
   "outputs": [],
   "source": [
    "matches = matches.query('status == \"complete\"') #Filtra apenas as partidas que já ocorreram"
   ]
  },
  {
   "cell_type": "code",
   "execution_count": 14,
   "metadata": {},
   "outputs": [
    {
     "data": {
      "image/png": "[encoded data removed]",
      "text/plain": [
       "<Figure size 1000x600 with 1 Axes>"
      ]
     },
     "metadata": {},
     "output_type": "display_data"
    },
    {
     "ename": "KeyboardInterrupt",
     "evalue": "",
     "output_type": "error",
     "traceback": [
      "\u001b[0;31m---------------------------------------------------------------------------\u001b[0m",
      "\u001b[0;31mKeyboardInterrupt\u001b[0m                         Traceback (most recent call last)",
      "Cell \u001b[0;32mIn[14], line 33\u001b[0m\n\u001b[1;32m     31\u001b[0m \u001b[38;5;66;03m# Mostrar o gráfico\u001b[39;00m\n\u001b[1;32m     32\u001b[0m plt\u001b[38;5;241m.\u001b[39mshow()\n\u001b[0;32m---> 33\u001b[0m \u001b[43msleep\u001b[49m\u001b[43m(\u001b[49m\u001b[38;5;241;43m2\u001b[39;49m\u001b[43m)\u001b[49m\n\u001b[1;32m     34\u001b[0m clear_output(wait\u001b[38;5;241m=\u001b[39m\u001b[38;5;28;01mTrue\u001b[39;00m)  \u001b[38;5;66;03m# Clears the output after each iteration\u001b[39;00m\n\u001b[1;32m     36\u001b[0m \u001b[38;5;66;03m# Substitui pela média:\u001b[39;00m\n",
      "\u001b[0;31mKeyboardInterrupt\u001b[0m: "
     ]
    }
   ],
   "source": [
    "for col in matches.columns:\n",
    "    # Verifica se a coluna é numérica\n",
    "    if np.issubdtype(matches[col].dtype, np.number):\n",
    "        mean = matches[col].mean()\n",
    "        std_dev = matches[col].std()\n",
    "\n",
    "        matches['z_score'] = (matches[col] - mean) / std_dev\n",
    "        threshold = 1.8\n",
    "        matches['is_outlier'] = np.abs(matches['z_score']) > threshold\n",
    "\n",
    "        plt.figure(figsize=(10, 6))\n",
    "\n",
    "        # Plotar todos os pontos\n",
    "        plt.scatter(matches.index, matches[col], color='blue', label='Valores')\n",
    "\n",
    "        # Plotar os outliers\n",
    "        plt.scatter(matches[matches['is_outlier'].astype(bool)].index,\n",
    "                    matches[matches['is_outlier'].astype(bool)][col],\n",
    "                    color='red', label='Outliers', marker='o', edgecolor='black')\n",
    "\n",
    "        # Adicionar títulos e legendas\n",
    "        plt.title(col)\n",
    "        plt.xlabel('Índice')\n",
    "        plt.ylabel('Valores')\n",
    "        plt.axhline(y=mean, color='gray', linestyle='--', label='Média')\n",
    "        plt.axhline(y=mean + threshold * std_dev, color='orange', linestyle='--', label='Limite Superior (Média + 3*Desvio Padrão)')\n",
    "        plt.axhline(y=mean - threshold * std_dev, color='orange', linestyle='--', label='Limite Inferior (Média - 3*Desvio Padrão)')\n",
    "        # plt.legend()\n",
    "        plt.grid(True)\n",
    "\n",
    "        # Mostrar o gráfico\n",
    "        plt.show()\n",
    "        sleep(2)\n",
    "        clear_output(wait=True)  # Clears the output after each iteration\n",
    "\n",
    "        # Substitui pela média:\n",
    "        matches.loc[matches['is_outlier'], col] = mean\n",
    "\n",
    "        if std_dev == 0:\n",
    "            matches = matches.drop(columns=[col])\n",
    "\n",
    "\n",
    "\n",
    "# Removendo as colunas auxiliares\n",
    "matches = matches.drop(columns=['z_score', 'is_outlier'])\n",
    "\n",
    "matches.to_csv('./Data/partidas.csv')"
   ]
  },
  {
   "cell_type": "markdown",
   "metadata": {},
   "source": [
    "Após a execução, percebi que, estatisticamente, seria uma boa abordagem trocá-los pelas médias, assim, criei outro loop para isso. Removendo os outliers (substituindo-os pelas médias) e as colunas auxiliares. (adicionei diretamente no loop já realizado)\n"
   ]
  },
  {
   "cell_type": "markdown",
   "metadata": {},
   "source": [
    "Agora, faremos o mesmo com as outras tabelas:"
   ]
  },
  {
   "cell_type": "markdown",
   "metadata": {},
   "source": [
    "Agora, realizei o mesmo processo para a tabela referente aos times"
   ]
  },
  {
   "cell_type": "code",
   "execution_count": null,
   "metadata": {},
   "outputs": [],
   "source": [
    "for col in teams.columns:\n",
    "    # Verifica se a coluna é numérica\n",
    "    if np.issubdtype(teams[col].dtype, np.number):\n",
    "        mean = teams[col].mean()\n",
    "        std_dev = teams[col].std()\n",
    "\n",
    "        teams['z_score'] = (teams[col] - mean) / std_dev\n",
    "        threshold = 2.5\n",
    "        teams['is_outlier'] = np.abs(teams['z_score']) > threshold\n",
    "\n",
    "        plt.figure(figsize=(10, 6))\n",
    "\n",
    "        # Plotar todos os pontos\n",
    "        plt.scatter(teams.index, teams[col], color='blue', label='Valores')\n",
    "\n",
    "        # Plotar os outliers\n",
    "        plt.scatter(teams[teams['is_outlier'].astype(bool)].index,\n",
    "                    teams[teams['is_outlier'].astype(bool)][col],\n",
    "                    color='red', label='Outliers', marker='o', edgecolor='black')\n",
    "\n",
    "        # Adicionar títulos e legendas\n",
    "        plt.title(col)\n",
    "        plt.xlabel('Índice')\n",
    "        plt.ylabel('Valores')\n",
    "        plt.axhline(y=mean, color='gray', linestyle='--', label='Média')\n",
    "        plt.axhline(y=mean + threshold * std_dev, color='orange', linestyle='--', label='Limite Superior (Média + 3*Desvio Padrão)')\n",
    "        plt.axhline(y=mean - threshold * std_dev, color='orange', linestyle='--', label='Limite Inferior (Média - 3*Desvio Padrão)')\n",
    "        # plt.legend()\n",
    "        plt.grid(True)\n",
    "\n",
    "        # Mostrar o gráfico\n",
    "        plt.show()\n",
    "        sleep(2)\n",
    "        clear_output(wait=True)  # Clears the output after each iteration\n",
    "\n",
    "        # Substitui pela média:\n",
    "        teams.loc[teams['is_outlier'], col] = mean\n",
    "\n",
    "        if std_dev == 0:\n",
    "            teams = teams.drop(columns=[col])\n",
    "\n",
    "\n",
    "\n",
    "# Removendo as colunas auxiliares\n",
    "teams = teams.drop(columns=['z_score', 'is_outlier'])\n",
    "\n",
    "teams.to_csv('./Data/times.csv')"
   ]
  },
  {
   "cell_type": "code",
   "execution_count": 12,
   "metadata": {},
   "outputs": [
    {
     "data": {
      "text/plain": [
       "dtype('float64')"
      ]
     },
     "execution_count": 12,
     "metadata": {},
     "output_type": "execute_result"
    }
   ],
   "source": [
    "for col in players.columns:\n",
    "    # Verifica se a coluna é numérica\n",
    "    if np.issubdtype(players[col].dtype, np.number):\n",
    "        mean = players[col].mean()\n",
    "        std_dev = players[col].std()\n",
    "\n",
    "        if std_dev == 0:\n",
    "            players = players.drop(columns=[col])\n",
    "\n",
    "players.to_csv('./Data/jogadores.csv')"
   ]
  }
 ],
 "metadata": {
  "kernelspec": {
   "display_name": "Python 3",
   "language": "python",
   "name": "python3"
  },
  "language_info": {
   "codemirror_mode": {
    "name": "ipython",
    "version": 3
   },
   "file_extension": ".py",
   "mimetype": "text/x-python",
   "name": "python",
   "nbconvert_exporter": "python",
   "pygments_lexer": "ipython3",
   "version": "3.12.4"
  }
 },
 "nbformat": 4,
 "nbformat_minor": 2
}
